{
 "cells": [
  {
   "cell_type": "code",
   "execution_count": null,
   "id": "294350a8-58f6-4a41-adc9-d4e6bce24f0d",
   "metadata": {},
   "outputs": [],
   "source": [
    "!pip install --upgrade transformers==4.2"
   ]
  },
  {
   "cell_type": "code",
   "execution_count": null,
   "id": "8ea46c9f-8a9d-422b-b6d8-669358c68d04",
   "metadata": {},
   "outputs": [],
   "source": [
    "!pip install torch tensorflow flax"
   ]
  },
  {
   "cell_type": "code",
   "execution_count": 8,
   "id": "cba12623-999e-4553-8006-422124c9e997",
   "metadata": {
    "tags": []
   },
   "outputs": [],
   "source": [
    "import numpy as np\n",
    "from collections import defaultdict\n",
    "from typing import List, Tuple\n",
    "\n",
    "import pandas as pd\n",
    "\n",
    "from transformers import AutoTokenizer, AutoModel"
   ]
  },
  {
   "cell_type": "markdown",
   "id": "e84d75d8-9f76-4bf0-ad4e-8a462d7b9936",
   "metadata": {},
   "source": [
    "Build a vector database"
   ]
  },
  {
   "cell_type": "code",
   "execution_count": 21,
   "id": "c2e14d71-5eb9-4332-b3b5-dff996701041",
   "metadata": {
    "tags": []
   },
   "outputs": [],
   "source": [
    "class VectorDatabase:\n",
    "    def __init__(self):\n",
    "        self.vectors = defaultdict(np.ndarray)\n",
    "\n",
    "    def insert(self, key: str, vector: np.ndarray) -> None:\n",
    "        self.vectors[key] = vector\n",
    "\n",
    "    def search(self, query_vector: np.ndarray, k: int) -> List[Tuple[str, float]]:\n",
    "        similarities = [(key, cosine(query_vector, vector)) for key, vector in self.vectors.items()]\n",
    "        similarities.sort(key=lambda x: x[1], reverse=True)\n",
    "        return similarities[:k]\n",
    "\n",
    "    def retrieve(self, key: str) -> np.ndarray:\n",
    "        return self.vectors.get(key, None)"
   ]
  },
  {
   "cell_type": "code",
   "execution_count": 22,
   "id": "d73d8dd5-37cf-4dc8-a09a-73630f67c691",
   "metadata": {
    "tags": []
   },
   "outputs": [],
   "source": [
    "def cosine(v1: np.ndarray, v2: np.ndarray) -> float:\n",
    "    result = np.dot(v1, v2) / (np.linalg.norm(v1) * np.linalg.norm(v2))\n",
    "    return result"
   ]
  },
  {
   "cell_type": "code",
   "execution_count": 23,
   "id": "1501ffb1-c91b-4177-b2d3-7219111bdd15",
   "metadata": {
    "tags": []
   },
   "outputs": [],
   "source": [
    "# get embeddings from the file\n",
    "df = pd.read_csv(\"cord_19_embeddings_2022-06-02_test.csv\", header=None)"
   ]
  },
  {
   "cell_type": "code",
   "execution_count": 24,
   "id": "71e17a5f-0e16-47d6-add5-588dd279ae60",
   "metadata": {
    "tags": []
   },
   "outputs": [],
   "source": [
    "# create a vector database\n",
    "vector_db = VectorDatabase()"
   ]
  },
  {
   "cell_type": "code",
   "execution_count": 25,
   "id": "fbea3473-8367-4727-9b50-1c89d7887631",
   "metadata": {
    "tags": []
   },
   "outputs": [],
   "source": [
    "# insert embeddings into the database\n",
    "for idx, row in df.iterrows():\n",
    "    key = row[0]\n",
    "    embedding = np.asarray(row[1:].tolist())\n",
    "    vector_db.insert(key, embedding)"
   ]
  },
  {
   "cell_type": "markdown",
   "id": "c849e890-25c6-479f-b4cc-54fcc376fa34",
   "metadata": {},
   "source": [
    "Embed the query"
   ]
  },
  {
   "cell_type": "code",
   "execution_count": 26,
   "id": "59f6ccad-e1e4-4a66-863c-ac6a7dde3047",
   "metadata": {
    "tags": []
   },
   "outputs": [],
   "source": [
    "# load model and tokenizer\n",
    "tokenizer = AutoTokenizer.from_pretrained('allenai/specter')\n",
    "model = AutoModel.from_pretrained('allenai/specter')"
   ]
  },
  {
   "cell_type": "code",
   "execution_count": 27,
   "id": "ed3d7859-567c-45e3-b135-9a430af88259",
   "metadata": {
    "tags": []
   },
   "outputs": [],
   "source": [
    "query = \"combinations of features predispose cohorts to virus susceptibility\""
   ]
  },
  {
   "cell_type": "code",
   "execution_count": 28,
   "id": "026eca14-3de5-40be-99df-46f6a3c8c113",
   "metadata": {
    "tags": []
   },
   "outputs": [],
   "source": [
    "inputs = tokenizer(query, padding=True, truncation=True, return_tensors=\"pt\", max_length=512)"
   ]
  },
  {
   "cell_type": "code",
   "execution_count": 29,
   "id": "eab29c5f-4632-461b-a45c-71a11cea1986",
   "metadata": {
    "tags": []
   },
   "outputs": [],
   "source": [
    "result = model(**inputs)"
   ]
  },
  {
   "cell_type": "code",
   "execution_count": 30,
   "id": "fc8a4018-ad1a-4588-b57e-c15d3e1bb37a",
   "metadata": {
    "tags": []
   },
   "outputs": [],
   "source": [
    "query_embedding = result.last_hidden_state[:, 0, :]"
   ]
  },
  {
   "cell_type": "code",
   "execution_count": 31,
   "id": "acbb29a5-aae5-446a-a60e-c32c72bcaf6a",
   "metadata": {
    "tags": []
   },
   "outputs": [
    {
     "data": {
      "text/plain": [
       "torch.Size([1, 768])"
      ]
     },
     "execution_count": 31,
     "metadata": {},
     "output_type": "execute_result"
    }
   ],
   "source": [
    "query_embedding.shape"
   ]
  },
  {
   "cell_type": "code",
   "execution_count": 35,
   "id": "08ea5a26-23d1-4117-853f-86653ee70647",
   "metadata": {
    "tags": []
   },
   "outputs": [],
   "source": [
    "query_embedding = query_embedding.detach().numpy()"
   ]
  },
  {
   "cell_type": "markdown",
   "id": "7fdd4c07-dbab-42ac-9860-e2d3c83b1cdb",
   "metadata": {},
   "source": [
    "Query the database with the query embedding"
   ]
  },
  {
   "cell_type": "code",
   "execution_count": 51,
   "id": "16e00138-1e90-4f93-ad2a-bad7245832cd",
   "metadata": {
    "tags": []
   },
   "outputs": [
    {
     "name": "stdout",
     "output_type": "stream",
     "text": [
      "CPU times: user 16.7 ms, sys: 0 ns, total: 16.7 ms\n",
      "Wall time: 15.7 ms\n"
     ]
    }
   ],
   "source": [
    "%%time\n",
    "result = vector_db.search(query_embedding, k=5)"
   ]
  },
  {
   "cell_type": "code",
   "execution_count": 40,
   "id": "446b8623-e83a-4331-9c28-81cc282d0242",
   "metadata": {
    "tags": []
   },
   "outputs": [
    {
     "data": {
      "text/plain": [
       "[('navrmhqm', array([0.09786049])),\n",
       " ('q26f8pv4', array([0.09138111])),\n",
       " ('xjspi65a', array([0.08952262])),\n",
       " ('t0y0b0gb', array([0.08932958])),\n",
       " ('2p7qrgx0', array([0.08474437]))]"
      ]
     },
     "execution_count": 40,
     "metadata": {},
     "output_type": "execute_result"
    }
   ],
   "source": [
    "result"
   ]
  },
  {
   "cell_type": "markdown",
   "id": "7d41aa7d-b6fe-43e7-8a4a-7d16c6208455",
   "metadata": {},
   "source": [
    "Retrieve the article corresponding to the best result"
   ]
  },
  {
   "cell_type": "code",
   "execution_count": 44,
   "id": "af1660ec-18f6-4c48-88b0-478de0f00e42",
   "metadata": {
    "tags": []
   },
   "outputs": [],
   "source": [
    "metadata_df = pd.read_csv(\"metadata_test.csv\")"
   ]
  },
  {
   "cell_type": "code",
   "execution_count": 50,
   "id": "91807f56-538d-4128-8d94-a9aa59e6f8d3",
   "metadata": {
    "tags": []
   },
   "outputs": [
    {
     "data": {
      "text/html": [
       "<div>\n",
       "<style scoped>\n",
       "    .dataframe tbody tr th:only-of-type {\n",
       "        vertical-align: middle;\n",
       "    }\n",
       "\n",
       "    .dataframe tbody tr th {\n",
       "        vertical-align: top;\n",
       "    }\n",
       "\n",
       "    .dataframe thead th {\n",
       "        text-align: right;\n",
       "    }\n",
       "</style>\n",
       "<table border=\"1\" class=\"dataframe\">\n",
       "  <thead>\n",
       "    <tr style=\"text-align: right;\">\n",
       "      <th></th>\n",
       "      <th>Unnamed: 0</th>\n",
       "      <th>cord_uid</th>\n",
       "      <th>sha</th>\n",
       "      <th>source_x</th>\n",
       "      <th>title</th>\n",
       "      <th>doi</th>\n",
       "      <th>pmcid</th>\n",
       "      <th>pubmed_id</th>\n",
       "      <th>license</th>\n",
       "      <th>abstract</th>\n",
       "      <th>publish_time</th>\n",
       "      <th>authors</th>\n",
       "      <th>journal</th>\n",
       "      <th>mag_id</th>\n",
       "      <th>who_covidence_id</th>\n",
       "      <th>arxiv_id</th>\n",
       "      <th>pdf_json_files</th>\n",
       "      <th>pmc_json_files</th>\n",
       "      <th>url</th>\n",
       "      <th>s2_id</th>\n",
       "    </tr>\n",
       "  </thead>\n",
       "  <tbody>\n",
       "    <tr>\n",
       "      <th>143</th>\n",
       "      <td>143</td>\n",
       "      <td>navrmhqm</td>\n",
       "      <td>ff19a75ba16c97c96201fc7f4fe6dd56e05167fa</td>\n",
       "      <td>PMC</td>\n",
       "      <td>The intrinsically disordered C‐terminal domain...</td>\n",
       "      <td>10.1110/ps.051411805</td>\n",
       "      <td>PMC2279309</td>\n",
       "      <td>16046624</td>\n",
       "      <td>no-cc</td>\n",
       "      <td>Measles virus is a negative‐sense, single‐stra...</td>\n",
       "      <td>2009-01-01</td>\n",
       "      <td>Bourhis, Jean‐Marie; Receveur‐Bréchot, Véroniq...</td>\n",
       "      <td>Protein Sci</td>\n",
       "      <td>NaN</td>\n",
       "      <td>NaN</td>\n",
       "      <td>NaN</td>\n",
       "      <td>document_parses/pdf_json/ff19a75ba16c97c96201f...</td>\n",
       "      <td>document_parses/pmc_json/PMC2279309.xml.json</td>\n",
       "      <td>https://www.ncbi.nlm.nih.gov/pmc/articles/PMC2...</td>\n",
       "      <td>NaN</td>\n",
       "    </tr>\n",
       "  </tbody>\n",
       "</table>\n",
       "</div>"
      ],
      "text/plain": [
       "     Unnamed: 0  cord_uid                                       sha source_x  \\\n",
       "143         143  navrmhqm  ff19a75ba16c97c96201fc7f4fe6dd56e05167fa      PMC   \n",
       "\n",
       "                                                 title                   doi  \\\n",
       "143  The intrinsically disordered C‐terminal domain...  10.1110/ps.051411805   \n",
       "\n",
       "          pmcid  pubmed_id license  \\\n",
       "143  PMC2279309   16046624   no-cc   \n",
       "\n",
       "                                              abstract publish_time  \\\n",
       "143  Measles virus is a negative‐sense, single‐stra...   2009-01-01   \n",
       "\n",
       "                                               authors      journal  mag_id  \\\n",
       "143  Bourhis, Jean‐Marie; Receveur‐Bréchot, Véroniq...  Protein Sci     NaN   \n",
       "\n",
       "     who_covidence_id  arxiv_id  \\\n",
       "143               NaN       NaN   \n",
       "\n",
       "                                        pdf_json_files  \\\n",
       "143  document_parses/pdf_json/ff19a75ba16c97c96201f...   \n",
       "\n",
       "                                   pmc_json_files  \\\n",
       "143  document_parses/pmc_json/PMC2279309.xml.json   \n",
       "\n",
       "                                                   url  s2_id  \n",
       "143  https://www.ncbi.nlm.nih.gov/pmc/articles/PMC2...    NaN  "
      ]
     },
     "execution_count": 50,
     "metadata": {},
     "output_type": "execute_result"
    }
   ],
   "source": [
    "metadata_df[metadata_df.cord_uid == \"navrmhqm\"]"
   ]
  },
  {
   "cell_type": "code",
   "execution_count": 47,
   "id": "a6360306-bc8c-409e-ba31-62a766915db7",
   "metadata": {
    "tags": []
   },
   "outputs": [],
   "source": [
    "doi = metadata_df[metadata_df.cord_uid == \"navrmhqm\"][\"doi\"]\n",
    "title = metadata_df[metadata_df.cord_uid == \"navrmhqm\"][\"title\"]"
   ]
  },
  {
   "cell_type": "code",
   "execution_count": 49,
   "id": "95a38a3a-5aa0-4554-b3bb-e59f12eb3172",
   "metadata": {
    "tags": []
   },
   "outputs": [
    {
     "data": {
      "text/html": [
       "<div>\n",
       "<style scoped>\n",
       "    .dataframe tbody tr th:only-of-type {\n",
       "        vertical-align: middle;\n",
       "    }\n",
       "\n",
       "    .dataframe tbody tr th {\n",
       "        vertical-align: top;\n",
       "    }\n",
       "\n",
       "    .dataframe thead th {\n",
       "        text-align: right;\n",
       "    }\n",
       "</style>\n",
       "<table border=\"1\" class=\"dataframe\">\n",
       "  <thead>\n",
       "    <tr style=\"text-align: right;\">\n",
       "      <th></th>\n",
       "      <th>Unnamed: 0</th>\n",
       "      <th>cord_uid</th>\n",
       "      <th>sha</th>\n",
       "      <th>source_x</th>\n",
       "      <th>title</th>\n",
       "      <th>doi</th>\n",
       "      <th>pmcid</th>\n",
       "      <th>pubmed_id</th>\n",
       "      <th>license</th>\n",
       "      <th>abstract</th>\n",
       "      <th>publish_time</th>\n",
       "      <th>authors</th>\n",
       "      <th>journal</th>\n",
       "      <th>mag_id</th>\n",
       "      <th>who_covidence_id</th>\n",
       "      <th>arxiv_id</th>\n",
       "      <th>pdf_json_files</th>\n",
       "      <th>pmc_json_files</th>\n",
       "      <th>url</th>\n",
       "      <th>s2_id</th>\n",
       "    </tr>\n",
       "  </thead>\n",
       "  <tbody>\n",
       "    <tr>\n",
       "      <th>0</th>\n",
       "      <td>0</td>\n",
       "      <td>ug7v899j</td>\n",
       "      <td>d1aafb70c066a2068b02786f8929fd9c900897fb</td>\n",
       "      <td>PMC</td>\n",
       "      <td>Clinical features of culture-proven Mycoplasma...</td>\n",
       "      <td>10.1186/1471-2334-1-6</td>\n",
       "      <td>PMC35282</td>\n",
       "      <td>11472636</td>\n",
       "      <td>no-cc</td>\n",
       "      <td>OBJECTIVE: This retrospective chart review des...</td>\n",
       "      <td>2001-07-04</td>\n",
       "      <td>Madani, Tariq A; Al-Ghamdi, Aisha A</td>\n",
       "      <td>BMC Infect Dis</td>\n",
       "      <td>NaN</td>\n",
       "      <td>NaN</td>\n",
       "      <td>NaN</td>\n",
       "      <td>document_parses/pdf_json/d1aafb70c066a2068b027...</td>\n",
       "      <td>document_parses/pmc_json/PMC35282.xml.json</td>\n",
       "      <td>https://www.ncbi.nlm.nih.gov/pmc/articles/PMC3...</td>\n",
       "      <td>NaN</td>\n",
       "    </tr>\n",
       "    <tr>\n",
       "      <th>1</th>\n",
       "      <td>1</td>\n",
       "      <td>02tnwd4m</td>\n",
       "      <td>6b0567729c2143a66d737eb0a2f63f2dce2e5a7d</td>\n",
       "      <td>PMC</td>\n",
       "      <td>Nitric oxide: a pro-inflammatory mediator in l...</td>\n",
       "      <td>10.1186/rr14</td>\n",
       "      <td>PMC59543</td>\n",
       "      <td>11667967</td>\n",
       "      <td>no-cc</td>\n",
       "      <td>Inflammatory diseases of the respiratory tract...</td>\n",
       "      <td>2000-08-15</td>\n",
       "      <td>Vliet, Albert van der; Eiserich, Jason P; Cros...</td>\n",
       "      <td>Respir Res</td>\n",
       "      <td>NaN</td>\n",
       "      <td>NaN</td>\n",
       "      <td>NaN</td>\n",
       "      <td>document_parses/pdf_json/6b0567729c2143a66d737...</td>\n",
       "      <td>document_parses/pmc_json/PMC59543.xml.json</td>\n",
       "      <td>https://www.ncbi.nlm.nih.gov/pmc/articles/PMC5...</td>\n",
       "      <td>NaN</td>\n",
       "    </tr>\n",
       "    <tr>\n",
       "      <th>2</th>\n",
       "      <td>2</td>\n",
       "      <td>ejv2xln0</td>\n",
       "      <td>06ced00a5fc04215949aa72528f2eeaae1d58927</td>\n",
       "      <td>PMC</td>\n",
       "      <td>Surfactant protein-D and pulmonary host defense</td>\n",
       "      <td>10.1186/rr19</td>\n",
       "      <td>PMC59549</td>\n",
       "      <td>11667972</td>\n",
       "      <td>no-cc</td>\n",
       "      <td>Surfactant protein-D (SP-D) participates in th...</td>\n",
       "      <td>2000-08-25</td>\n",
       "      <td>Crouch, Erika C</td>\n",
       "      <td>Respir Res</td>\n",
       "      <td>NaN</td>\n",
       "      <td>NaN</td>\n",
       "      <td>NaN</td>\n",
       "      <td>document_parses/pdf_json/06ced00a5fc04215949aa...</td>\n",
       "      <td>document_parses/pmc_json/PMC59549.xml.json</td>\n",
       "      <td>https://www.ncbi.nlm.nih.gov/pmc/articles/PMC5...</td>\n",
       "      <td>NaN</td>\n",
       "    </tr>\n",
       "    <tr>\n",
       "      <th>3</th>\n",
       "      <td>3</td>\n",
       "      <td>2b73a28n</td>\n",
       "      <td>348055649b6b8cf2b9a376498df9bf41f7123605</td>\n",
       "      <td>PMC</td>\n",
       "      <td>Role of endothelin-1 in lung disease</td>\n",
       "      <td>10.1186/rr44</td>\n",
       "      <td>PMC59574</td>\n",
       "      <td>11686871</td>\n",
       "      <td>no-cc</td>\n",
       "      <td>Endothelin-1 (ET-1) is a 21 amino acid peptide...</td>\n",
       "      <td>2001-02-22</td>\n",
       "      <td>Fagan, Karen A; McMurtry, Ivan F; Rodman, David M</td>\n",
       "      <td>Respir Res</td>\n",
       "      <td>NaN</td>\n",
       "      <td>NaN</td>\n",
       "      <td>NaN</td>\n",
       "      <td>document_parses/pdf_json/348055649b6b8cf2b9a37...</td>\n",
       "      <td>document_parses/pmc_json/PMC59574.xml.json</td>\n",
       "      <td>https://www.ncbi.nlm.nih.gov/pmc/articles/PMC5...</td>\n",
       "      <td>NaN</td>\n",
       "    </tr>\n",
       "    <tr>\n",
       "      <th>4</th>\n",
       "      <td>4</td>\n",
       "      <td>9785vg6d</td>\n",
       "      <td>5f48792a5fa08bed9f56016f4981ae2ca6031b32</td>\n",
       "      <td>PMC</td>\n",
       "      <td>Gene expression in epithelial cells in respons...</td>\n",
       "      <td>10.1186/rr61</td>\n",
       "      <td>PMC59580</td>\n",
       "      <td>11686888</td>\n",
       "      <td>no-cc</td>\n",
       "      <td>Respiratory syncytial virus (RSV) and pneumoni...</td>\n",
       "      <td>2001-05-11</td>\n",
       "      <td>Domachowske, Joseph B; Bonville, Cynthia A; Ro...</td>\n",
       "      <td>Respir Res</td>\n",
       "      <td>NaN</td>\n",
       "      <td>NaN</td>\n",
       "      <td>NaN</td>\n",
       "      <td>document_parses/pdf_json/5f48792a5fa08bed9f560...</td>\n",
       "      <td>document_parses/pmc_json/PMC59580.xml.json</td>\n",
       "      <td>https://www.ncbi.nlm.nih.gov/pmc/articles/PMC5...</td>\n",
       "      <td>NaN</td>\n",
       "    </tr>\n",
       "    <tr>\n",
       "      <th>...</th>\n",
       "      <td>...</td>\n",
       "      <td>...</td>\n",
       "      <td>...</td>\n",
       "      <td>...</td>\n",
       "      <td>...</td>\n",
       "      <td>...</td>\n",
       "      <td>...</td>\n",
       "      <td>...</td>\n",
       "      <td>...</td>\n",
       "      <td>...</td>\n",
       "      <td>...</td>\n",
       "      <td>...</td>\n",
       "      <td>...</td>\n",
       "      <td>...</td>\n",
       "      <td>...</td>\n",
       "      <td>...</td>\n",
       "      <td>...</td>\n",
       "      <td>...</td>\n",
       "      <td>...</td>\n",
       "      <td>...</td>\n",
       "    </tr>\n",
       "    <tr>\n",
       "      <th>995</th>\n",
       "      <td>995</td>\n",
       "      <td>pci4rhkn</td>\n",
       "      <td>6cc3a580bd820899b916d05d1ef06b478b367b35</td>\n",
       "      <td>PMC</td>\n",
       "      <td>Automatic Detection and Quantification of Tree...</td>\n",
       "      <td>10.1109/tbme.2012.2190984</td>\n",
       "      <td>PMC3511590</td>\n",
       "      <td>22434795</td>\n",
       "      <td>cc-by</td>\n",
       "      <td>This study presents a novel computer-assisted ...</td>\n",
       "      <td>2012-03-14</td>\n",
       "      <td>Bagci, Ulas; Yao, Jianhua; Wu, Albert; Caban, ...</td>\n",
       "      <td>IEEE Trans Biomed Eng</td>\n",
       "      <td>NaN</td>\n",
       "      <td>NaN</td>\n",
       "      <td>NaN</td>\n",
       "      <td>document_parses/pdf_json/6cc3a580bd820899b916d...</td>\n",
       "      <td>document_parses/pmc_json/PMC3511590.xml.json</td>\n",
       "      <td>https://www.ncbi.nlm.nih.gov/pmc/articles/PMC3...</td>\n",
       "      <td>NaN</td>\n",
       "    </tr>\n",
       "    <tr>\n",
       "      <th>996</th>\n",
       "      <td>996</td>\n",
       "      <td>880nqc0f</td>\n",
       "      <td>ed2de3694f5580ea38f4adf24bd1c8b46862df1f</td>\n",
       "      <td>PMC</td>\n",
       "      <td>Mannose-binding lectin deficiency and acute ex...</td>\n",
       "      <td>10.2147/copd.s33714</td>\n",
       "      <td>PMC3514010</td>\n",
       "      <td>23226013</td>\n",
       "      <td>no-cc</td>\n",
       "      <td>BACKGROUND: Mannose-binding lectin is a collec...</td>\n",
       "      <td>2012-11-23</td>\n",
       "      <td>Albert, Richard K; Connett, John; Curtis, Jeff...</td>\n",
       "      <td>Int J Chron Obstruct Pulmon Dis</td>\n",
       "      <td>NaN</td>\n",
       "      <td>NaN</td>\n",
       "      <td>NaN</td>\n",
       "      <td>document_parses/pdf_json/ed2de3694f5580ea38f4a...</td>\n",
       "      <td>document_parses/pmc_json/PMC3514010.xml.json</td>\n",
       "      <td>https://www.ncbi.nlm.nih.gov/pmc/articles/PMC3...</td>\n",
       "      <td>NaN</td>\n",
       "    </tr>\n",
       "    <tr>\n",
       "      <th>997</th>\n",
       "      <td>997</td>\n",
       "      <td>01b0vnnm</td>\n",
       "      <td>2a7c951e191425fd9fa5ac108f07a1f02eb75872</td>\n",
       "      <td>PMC</td>\n",
       "      <td>The changing phenotype of microglia from homeo...</td>\n",
       "      <td>10.1186/2047-9158-1-9</td>\n",
       "      <td>PMC3514090</td>\n",
       "      <td>23210447</td>\n",
       "      <td>cc-by</td>\n",
       "      <td>It has been nearly a century since the early d...</td>\n",
       "      <td>2012-04-24</td>\n",
       "      <td>Luo, Xiao-Guang; Chen, Sheng-Di</td>\n",
       "      <td>Transl Neurodegener</td>\n",
       "      <td>NaN</td>\n",
       "      <td>NaN</td>\n",
       "      <td>NaN</td>\n",
       "      <td>document_parses/pdf_json/2a7c951e191425fd9fa5a...</td>\n",
       "      <td>document_parses/pmc_json/PMC3514090.xml.json</td>\n",
       "      <td>https://www.ncbi.nlm.nih.gov/pmc/articles/PMC3...</td>\n",
       "      <td>NaN</td>\n",
       "    </tr>\n",
       "    <tr>\n",
       "      <th>998</th>\n",
       "      <td>998</td>\n",
       "      <td>5b29wtim</td>\n",
       "      <td>854e623d1f875e4605b2ffd3f72599d063a56cc0</td>\n",
       "      <td>PMC</td>\n",
       "      <td>Diversity of Salmonella spp. serovars isolated...</td>\n",
       "      <td>10.1186/1746-6148-8-201</td>\n",
       "      <td>PMC3514206</td>\n",
       "      <td>23098237</td>\n",
       "      <td>cc-by</td>\n",
       "      <td>BACKGROUND: Salmonellosis in water buffalo (Bu...</td>\n",
       "      <td>2012-10-25</td>\n",
       "      <td>Borriello, Giorgia; Lucibelli, Maria G; Pescia...</td>\n",
       "      <td>BMC Vet Res</td>\n",
       "      <td>NaN</td>\n",
       "      <td>NaN</td>\n",
       "      <td>NaN</td>\n",
       "      <td>document_parses/pdf_json/854e623d1f875e4605b2f...</td>\n",
       "      <td>document_parses/pmc_json/PMC3514206.xml.json</td>\n",
       "      <td>https://www.ncbi.nlm.nih.gov/pmc/articles/PMC3...</td>\n",
       "      <td>NaN</td>\n",
       "    </tr>\n",
       "    <tr>\n",
       "      <th>999</th>\n",
       "      <td>999</td>\n",
       "      <td>z65xxk1f</td>\n",
       "      <td>3695704554777889f8232a9ea086df70bf17ff58</td>\n",
       "      <td>PMC</td>\n",
       "      <td>Severe Childhood Malaria Syndromes Defined by ...</td>\n",
       "      <td>10.1371/journal.pone.0049778</td>\n",
       "      <td>PMC3514223</td>\n",
       "      <td>23226502</td>\n",
       "      <td>cc-by</td>\n",
       "      <td>BACKGROUND: Cerebral malaria (CM) and severe m...</td>\n",
       "      <td>2012-12-04</td>\n",
       "      <td>Burté, Florence; Brown, Biobele J.; Orimadegun...</td>\n",
       "      <td>PLoS One</td>\n",
       "      <td>NaN</td>\n",
       "      <td>NaN</td>\n",
       "      <td>NaN</td>\n",
       "      <td>document_parses/pdf_json/3695704554777889f8232...</td>\n",
       "      <td>document_parses/pmc_json/PMC3514223.xml.json</td>\n",
       "      <td>https://www.ncbi.nlm.nih.gov/pmc/articles/PMC3...</td>\n",
       "      <td>NaN</td>\n",
       "    </tr>\n",
       "  </tbody>\n",
       "</table>\n",
       "<p>1000 rows × 20 columns</p>\n",
       "</div>"
      ],
      "text/plain": [
       "     Unnamed: 0  cord_uid                                       sha source_x  \\\n",
       "0             0  ug7v899j  d1aafb70c066a2068b02786f8929fd9c900897fb      PMC   \n",
       "1             1  02tnwd4m  6b0567729c2143a66d737eb0a2f63f2dce2e5a7d      PMC   \n",
       "2             2  ejv2xln0  06ced00a5fc04215949aa72528f2eeaae1d58927      PMC   \n",
       "3             3  2b73a28n  348055649b6b8cf2b9a376498df9bf41f7123605      PMC   \n",
       "4             4  9785vg6d  5f48792a5fa08bed9f56016f4981ae2ca6031b32      PMC   \n",
       "..          ...       ...                                       ...      ...   \n",
       "995         995  pci4rhkn  6cc3a580bd820899b916d05d1ef06b478b367b35      PMC   \n",
       "996         996  880nqc0f  ed2de3694f5580ea38f4adf24bd1c8b46862df1f      PMC   \n",
       "997         997  01b0vnnm  2a7c951e191425fd9fa5ac108f07a1f02eb75872      PMC   \n",
       "998         998  5b29wtim  854e623d1f875e4605b2ffd3f72599d063a56cc0      PMC   \n",
       "999         999  z65xxk1f  3695704554777889f8232a9ea086df70bf17ff58      PMC   \n",
       "\n",
       "                                                 title  \\\n",
       "0    Clinical features of culture-proven Mycoplasma...   \n",
       "1    Nitric oxide: a pro-inflammatory mediator in l...   \n",
       "2      Surfactant protein-D and pulmonary host defense   \n",
       "3                 Role of endothelin-1 in lung disease   \n",
       "4    Gene expression in epithelial cells in respons...   \n",
       "..                                                 ...   \n",
       "995  Automatic Detection and Quantification of Tree...   \n",
       "996  Mannose-binding lectin deficiency and acute ex...   \n",
       "997  The changing phenotype of microglia from homeo...   \n",
       "998  Diversity of Salmonella spp. serovars isolated...   \n",
       "999  Severe Childhood Malaria Syndromes Defined by ...   \n",
       "\n",
       "                              doi       pmcid  pubmed_id license  \\\n",
       "0           10.1186/1471-2334-1-6    PMC35282   11472636   no-cc   \n",
       "1                    10.1186/rr14    PMC59543   11667967   no-cc   \n",
       "2                    10.1186/rr19    PMC59549   11667972   no-cc   \n",
       "3                    10.1186/rr44    PMC59574   11686871   no-cc   \n",
       "4                    10.1186/rr61    PMC59580   11686888   no-cc   \n",
       "..                            ...         ...        ...     ...   \n",
       "995     10.1109/tbme.2012.2190984  PMC3511590   22434795   cc-by   \n",
       "996           10.2147/copd.s33714  PMC3514010   23226013   no-cc   \n",
       "997         10.1186/2047-9158-1-9  PMC3514090   23210447   cc-by   \n",
       "998       10.1186/1746-6148-8-201  PMC3514206   23098237   cc-by   \n",
       "999  10.1371/journal.pone.0049778  PMC3514223   23226502   cc-by   \n",
       "\n",
       "                                              abstract publish_time  \\\n",
       "0    OBJECTIVE: This retrospective chart review des...   2001-07-04   \n",
       "1    Inflammatory diseases of the respiratory tract...   2000-08-15   \n",
       "2    Surfactant protein-D (SP-D) participates in th...   2000-08-25   \n",
       "3    Endothelin-1 (ET-1) is a 21 amino acid peptide...   2001-02-22   \n",
       "4    Respiratory syncytial virus (RSV) and pneumoni...   2001-05-11   \n",
       "..                                                 ...          ...   \n",
       "995  This study presents a novel computer-assisted ...   2012-03-14   \n",
       "996  BACKGROUND: Mannose-binding lectin is a collec...   2012-11-23   \n",
       "997  It has been nearly a century since the early d...   2012-04-24   \n",
       "998  BACKGROUND: Salmonellosis in water buffalo (Bu...   2012-10-25   \n",
       "999  BACKGROUND: Cerebral malaria (CM) and severe m...   2012-12-04   \n",
       "\n",
       "                                               authors  \\\n",
       "0                  Madani, Tariq A; Al-Ghamdi, Aisha A   \n",
       "1    Vliet, Albert van der; Eiserich, Jason P; Cros...   \n",
       "2                                      Crouch, Erika C   \n",
       "3    Fagan, Karen A; McMurtry, Ivan F; Rodman, David M   \n",
       "4    Domachowske, Joseph B; Bonville, Cynthia A; Ro...   \n",
       "..                                                 ...   \n",
       "995  Bagci, Ulas; Yao, Jianhua; Wu, Albert; Caban, ...   \n",
       "996  Albert, Richard K; Connett, John; Curtis, Jeff...   \n",
       "997                    Luo, Xiao-Guang; Chen, Sheng-Di   \n",
       "998  Borriello, Giorgia; Lucibelli, Maria G; Pescia...   \n",
       "999  Burté, Florence; Brown, Biobele J.; Orimadegun...   \n",
       "\n",
       "                             journal  mag_id  who_covidence_id  arxiv_id  \\\n",
       "0                     BMC Infect Dis     NaN               NaN       NaN   \n",
       "1                         Respir Res     NaN               NaN       NaN   \n",
       "2                         Respir Res     NaN               NaN       NaN   \n",
       "3                         Respir Res     NaN               NaN       NaN   \n",
       "4                         Respir Res     NaN               NaN       NaN   \n",
       "..                               ...     ...               ...       ...   \n",
       "995            IEEE Trans Biomed Eng     NaN               NaN       NaN   \n",
       "996  Int J Chron Obstruct Pulmon Dis     NaN               NaN       NaN   \n",
       "997              Transl Neurodegener     NaN               NaN       NaN   \n",
       "998                      BMC Vet Res     NaN               NaN       NaN   \n",
       "999                         PLoS One     NaN               NaN       NaN   \n",
       "\n",
       "                                        pdf_json_files  \\\n",
       "0    document_parses/pdf_json/d1aafb70c066a2068b027...   \n",
       "1    document_parses/pdf_json/6b0567729c2143a66d737...   \n",
       "2    document_parses/pdf_json/06ced00a5fc04215949aa...   \n",
       "3    document_parses/pdf_json/348055649b6b8cf2b9a37...   \n",
       "4    document_parses/pdf_json/5f48792a5fa08bed9f560...   \n",
       "..                                                 ...   \n",
       "995  document_parses/pdf_json/6cc3a580bd820899b916d...   \n",
       "996  document_parses/pdf_json/ed2de3694f5580ea38f4a...   \n",
       "997  document_parses/pdf_json/2a7c951e191425fd9fa5a...   \n",
       "998  document_parses/pdf_json/854e623d1f875e4605b2f...   \n",
       "999  document_parses/pdf_json/3695704554777889f8232...   \n",
       "\n",
       "                                   pmc_json_files  \\\n",
       "0      document_parses/pmc_json/PMC35282.xml.json   \n",
       "1      document_parses/pmc_json/PMC59543.xml.json   \n",
       "2      document_parses/pmc_json/PMC59549.xml.json   \n",
       "3      document_parses/pmc_json/PMC59574.xml.json   \n",
       "4      document_parses/pmc_json/PMC59580.xml.json   \n",
       "..                                            ...   \n",
       "995  document_parses/pmc_json/PMC3511590.xml.json   \n",
       "996  document_parses/pmc_json/PMC3514010.xml.json   \n",
       "997  document_parses/pmc_json/PMC3514090.xml.json   \n",
       "998  document_parses/pmc_json/PMC3514206.xml.json   \n",
       "999  document_parses/pmc_json/PMC3514223.xml.json   \n",
       "\n",
       "                                                   url  s2_id  \n",
       "0    https://www.ncbi.nlm.nih.gov/pmc/articles/PMC3...    NaN  \n",
       "1    https://www.ncbi.nlm.nih.gov/pmc/articles/PMC5...    NaN  \n",
       "2    https://www.ncbi.nlm.nih.gov/pmc/articles/PMC5...    NaN  \n",
       "3    https://www.ncbi.nlm.nih.gov/pmc/articles/PMC5...    NaN  \n",
       "4    https://www.ncbi.nlm.nih.gov/pmc/articles/PMC5...    NaN  \n",
       "..                                                 ...    ...  \n",
       "995  https://www.ncbi.nlm.nih.gov/pmc/articles/PMC3...    NaN  \n",
       "996  https://www.ncbi.nlm.nih.gov/pmc/articles/PMC3...    NaN  \n",
       "997  https://www.ncbi.nlm.nih.gov/pmc/articles/PMC3...    NaN  \n",
       "998  https://www.ncbi.nlm.nih.gov/pmc/articles/PMC3...    NaN  \n",
       "999  https://www.ncbi.nlm.nih.gov/pmc/articles/PMC3...    NaN  \n",
       "\n",
       "[1000 rows x 20 columns]"
      ]
     },
     "execution_count": 49,
     "metadata": {},
     "output_type": "execute_result"
    }
   ],
   "source": []
  },
  {
   "cell_type": "code",
   "execution_count": null,
   "id": "68129ccf-80ad-4670-931d-28aebe63aa62",
   "metadata": {},
   "outputs": [],
   "source": []
  }
 ],
 "metadata": {
  "kernelspec": {
   "display_name": "Python 3 (ipykernel)",
   "language": "python",
   "name": "python3"
  },
  "language_info": {
   "codemirror_mode": {
    "name": "ipython",
    "version": 3
   },
   "file_extension": ".py",
   "mimetype": "text/x-python",
   "name": "python",
   "nbconvert_exporter": "python",
   "pygments_lexer": "ipython3",
   "version": "3.9.16"
  }
 },
 "nbformat": 4,
 "nbformat_minor": 5
}
