{
 "cells": [
  {
   "cell_type": "code",
   "execution_count": 2,
   "id": "294350a8-58f6-4a41-adc9-d4e6bce24f0d",
   "metadata": {
    "tags": []
   },
   "outputs": [
    {
     "name": "stdout",
     "output_type": "stream",
     "text": [
      "Requirement already satisfied: transformers==4.2 in /opt/conda/lib/python3.9/site-packages (4.2.0)\n",
      "Requirement already satisfied: tqdm>=4.27 in /opt/conda/lib/python3.9/site-packages (from transformers==4.2) (4.65.0)\n",
      "Requirement already satisfied: sacremoses in /opt/conda/lib/python3.9/site-packages (from transformers==4.2) (0.0.53)\n",
      "Requirement already satisfied: numpy in /opt/conda/lib/python3.9/site-packages (from transformers==4.2) (1.25.2)\n",
      "Requirement already satisfied: filelock in /opt/conda/lib/python3.9/site-packages (from transformers==4.2) (3.12.4)\n",
      "Requirement already satisfied: requests in /opt/conda/lib/python3.9/site-packages (from transformers==4.2) (2.28.2)\n",
      "Requirement already satisfied: packaging in /opt/conda/lib/python3.9/site-packages (from transformers==4.2) (23.0)\n",
      "Requirement already satisfied: tokenizers==0.9.4 in /opt/conda/lib/python3.9/site-packages (from transformers==4.2) (0.9.4)\n",
      "Requirement already satisfied: regex!=2019.12.17 in /opt/conda/lib/python3.9/site-packages (from transformers==4.2) (2023.10.3)\n",
      "Requirement already satisfied: certifi>=2017.4.17 in /opt/conda/lib/python3.9/site-packages (from requests->transformers==4.2) (2023.7.22)\n",
      "Requirement already satisfied: charset-normalizer<4,>=2 in /opt/conda/lib/python3.9/site-packages (from requests->transformers==4.2) (2.0.4)\n",
      "Requirement already satisfied: urllib3<1.27,>=1.21.1 in /opt/conda/lib/python3.9/site-packages (from requests->transformers==4.2) (1.26.15)\n",
      "Requirement already satisfied: idna<4,>=2.5 in /opt/conda/lib/python3.9/site-packages (from requests->transformers==4.2) (3.4)\n",
      "Requirement already satisfied: joblib in /opt/conda/lib/python3.9/site-packages (from sacremoses->transformers==4.2) (1.3.2)\n",
      "Requirement already satisfied: click in /opt/conda/lib/python3.9/site-packages (from sacremoses->transformers==4.2) (8.1.7)\n",
      "Requirement already satisfied: six in /opt/conda/lib/python3.9/site-packages (from sacremoses->transformers==4.2) (1.16.0)\n",
      "\u001b[33mWARNING: Running pip as the 'root' user can result in broken permissions and conflicting behaviour with the system package manager. It is recommended to use a virtual environment instead: https://pip.pypa.io/warnings/venv\u001b[0m\u001b[33m\n",
      "\u001b[0m"
     ]
    }
   ],
   "source": [
    "!pip install --upgrade transformers==4.2"
   ]
  },
  {
   "cell_type": "code",
   "execution_count": 3,
   "id": "8ea46c9f-8a9d-422b-b6d8-669358c68d04",
   "metadata": {
    "tags": []
   },
   "outputs": [
    {
     "name": "stdout",
     "output_type": "stream",
     "text": [
      "Requirement already satisfied: torch in /opt/conda/lib/python3.9/site-packages (2.1.0)\n",
      "Requirement already satisfied: tensorflow in /opt/conda/lib/python3.9/site-packages (2.14.0)\n",
      "Requirement already satisfied: flax in /opt/conda/lib/python3.9/site-packages (0.7.4)\n",
      "Requirement already satisfied: nvidia-cuda-cupti-cu12==12.1.105 in /opt/conda/lib/python3.9/site-packages (from torch) (12.1.105)\n",
      "Requirement already satisfied: nvidia-nvtx-cu12==12.1.105 in /opt/conda/lib/python3.9/site-packages (from torch) (12.1.105)\n",
      "Requirement already satisfied: fsspec in /opt/conda/lib/python3.9/site-packages (from torch) (2023.9.2)\n",
      "Requirement already satisfied: sympy in /opt/conda/lib/python3.9/site-packages (from torch) (1.12)\n",
      "Requirement already satisfied: networkx in /opt/conda/lib/python3.9/site-packages (from torch) (2.8.8)\n",
      "Requirement already satisfied: nvidia-cuda-nvrtc-cu12==12.1.105 in /opt/conda/lib/python3.9/site-packages (from torch) (12.1.105)\n",
      "Requirement already satisfied: nvidia-nccl-cu12==2.18.1 in /opt/conda/lib/python3.9/site-packages (from torch) (2.18.1)\n",
      "Requirement already satisfied: nvidia-cudnn-cu12==8.9.2.26 in /opt/conda/lib/python3.9/site-packages (from torch) (8.9.2.26)\n",
      "Requirement already satisfied: nvidia-curand-cu12==10.3.2.106 in /opt/conda/lib/python3.9/site-packages (from torch) (10.3.2.106)\n",
      "Requirement already satisfied: nvidia-cusolver-cu12==11.4.5.107 in /opt/conda/lib/python3.9/site-packages (from torch) (11.4.5.107)\n",
      "Requirement already satisfied: filelock in /opt/conda/lib/python3.9/site-packages (from torch) (3.12.4)\n",
      "Requirement already satisfied: typing-extensions in /opt/conda/lib/python3.9/site-packages (from torch) (4.7.1)\n",
      "Requirement already satisfied: nvidia-cublas-cu12==12.1.3.1 in /opt/conda/lib/python3.9/site-packages (from torch) (12.1.3.1)\n",
      "Requirement already satisfied: nvidia-cusparse-cu12==12.1.0.106 in /opt/conda/lib/python3.9/site-packages (from torch) (12.1.0.106)\n",
      "Requirement already satisfied: nvidia-cuda-runtime-cu12==12.1.105 in /opt/conda/lib/python3.9/site-packages (from torch) (12.1.105)\n",
      "Requirement already satisfied: jinja2 in /opt/conda/lib/python3.9/site-packages (from torch) (3.1.2)\n",
      "Requirement already satisfied: triton==2.1.0 in /opt/conda/lib/python3.9/site-packages (from torch) (2.1.0)\n",
      "Requirement already satisfied: nvidia-cufft-cu12==11.0.2.54 in /opt/conda/lib/python3.9/site-packages (from torch) (11.0.2.54)\n",
      "Requirement already satisfied: nvidia-nvjitlink-cu12 in /opt/conda/lib/python3.9/site-packages (from nvidia-cusolver-cu12==11.4.5.107->torch) (12.3.52)\n",
      "Requirement already satisfied: h5py>=2.9.0 in /opt/conda/lib/python3.9/site-packages (from tensorflow) (3.10.0)\n",
      "Requirement already satisfied: google-pasta>=0.1.1 in /opt/conda/lib/python3.9/site-packages (from tensorflow) (0.2.0)\n",
      "Requirement already satisfied: protobuf!=4.21.0,!=4.21.1,!=4.21.2,!=4.21.3,!=4.21.4,!=4.21.5,<5.0.0dev,>=3.20.3 in /opt/conda/lib/python3.9/site-packages (from tensorflow) (4.24.4)\n",
      "Requirement already satisfied: tensorflow-io-gcs-filesystem>=0.23.1 in /opt/conda/lib/python3.9/site-packages (from tensorflow) (0.34.0)\n",
      "Requirement already satisfied: packaging in /opt/conda/lib/python3.9/site-packages (from tensorflow) (23.0)\n",
      "Requirement already satisfied: termcolor>=1.1.0 in /opt/conda/lib/python3.9/site-packages (from tensorflow) (2.3.0)\n",
      "Requirement already satisfied: grpcio<2.0,>=1.24.3 in /opt/conda/lib/python3.9/site-packages (from tensorflow) (1.59.0)\n",
      "Requirement already satisfied: wrapt<1.15,>=1.11.0 in /opt/conda/lib/python3.9/site-packages (from tensorflow) (1.14.1)\n",
      "Requirement already satisfied: opt-einsum>=2.3.2 in /opt/conda/lib/python3.9/site-packages (from tensorflow) (3.3.0)\n",
      "Requirement already satisfied: libclang>=13.0.0 in /opt/conda/lib/python3.9/site-packages (from tensorflow) (16.0.6)\n",
      "Requirement already satisfied: absl-py>=1.0.0 in /opt/conda/lib/python3.9/site-packages (from tensorflow) (2.0.0)\n",
      "Requirement already satisfied: setuptools in /opt/conda/lib/python3.9/site-packages (from tensorflow) (65.6.3)\n",
      "Requirement already satisfied: tensorboard<2.15,>=2.14 in /opt/conda/lib/python3.9/site-packages (from tensorflow) (2.14.1)\n",
      "Requirement already satisfied: numpy>=1.23.5 in /opt/conda/lib/python3.9/site-packages (from tensorflow) (1.25.2)\n",
      "Requirement already satisfied: tensorflow-estimator<2.15,>=2.14.0 in /opt/conda/lib/python3.9/site-packages (from tensorflow) (2.14.0)\n",
      "Requirement already satisfied: astunparse>=1.6.0 in /opt/conda/lib/python3.9/site-packages (from tensorflow) (1.6.3)\n",
      "Requirement already satisfied: gast!=0.5.0,!=0.5.1,!=0.5.2,>=0.2.1 in /opt/conda/lib/python3.9/site-packages (from tensorflow) (0.5.4)\n",
      "Requirement already satisfied: ml-dtypes==0.2.0 in /opt/conda/lib/python3.9/site-packages (from tensorflow) (0.2.0)\n",
      "Requirement already satisfied: six>=1.12.0 in /opt/conda/lib/python3.9/site-packages (from tensorflow) (1.16.0)\n",
      "Requirement already satisfied: flatbuffers>=23.5.26 in /opt/conda/lib/python3.9/site-packages (from tensorflow) (23.5.26)\n",
      "Requirement already satisfied: keras<2.15,>=2.14.0 in /opt/conda/lib/python3.9/site-packages (from tensorflow) (2.14.0)\n",
      "Requirement already satisfied: tensorstore in /opt/conda/lib/python3.9/site-packages (from flax) (0.1.45)\n",
      "Requirement already satisfied: msgpack in /opt/conda/lib/python3.9/site-packages (from flax) (1.0.7)\n",
      "Requirement already satisfied: rich>=11.1 in /opt/conda/lib/python3.9/site-packages (from flax) (13.6.0)\n",
      "Requirement already satisfied: orbax-checkpoint in /opt/conda/lib/python3.9/site-packages (from flax) (0.4.1)\n",
      "Requirement already satisfied: optax in /opt/conda/lib/python3.9/site-packages (from flax) (0.1.7)\n",
      "Requirement already satisfied: PyYAML>=5.4.1 in /opt/conda/lib/python3.9/site-packages (from flax) (5.4.1)\n",
      "Requirement already satisfied: jax>=0.4.2 in /opt/conda/lib/python3.9/site-packages (from flax) (0.4.19)\n",
      "Requirement already satisfied: wheel<1.0,>=0.23.0 in /opt/conda/lib/python3.9/site-packages (from astunparse>=1.6.0->tensorflow) (0.38.4)\n",
      "Requirement already satisfied: importlib-metadata>=4.6 in /opt/conda/lib/python3.9/site-packages (from jax>=0.4.2->flax) (6.8.0)\n",
      "Requirement already satisfied: scipy>=1.9 in /opt/conda/lib/python3.9/site-packages (from jax>=0.4.2->flax) (1.9.3)\n",
      "Requirement already satisfied: markdown-it-py>=2.2.0 in /opt/conda/lib/python3.9/site-packages (from rich>=11.1->flax) (3.0.0)\n",
      "Requirement already satisfied: pygments<3.0.0,>=2.13.0 in /opt/conda/lib/python3.9/site-packages (from rich>=11.1->flax) (2.16.1)\n",
      "Requirement already satisfied: werkzeug>=1.0.1 in /opt/conda/lib/python3.9/site-packages (from tensorboard<2.15,>=2.14->tensorflow) (3.0.0)\n",
      "Requirement already satisfied: requests<3,>=2.21.0 in /opt/conda/lib/python3.9/site-packages (from tensorboard<2.15,>=2.14->tensorflow) (2.28.2)\n",
      "Requirement already satisfied: markdown>=2.6.8 in /opt/conda/lib/python3.9/site-packages (from tensorboard<2.15,>=2.14->tensorflow) (3.5)\n",
      "Requirement already satisfied: google-auth<3,>=1.6.3 in /opt/conda/lib/python3.9/site-packages (from tensorboard<2.15,>=2.14->tensorflow) (2.23.3)\n",
      "Requirement already satisfied: google-auth-oauthlib<1.1,>=0.5 in /opt/conda/lib/python3.9/site-packages (from tensorboard<2.15,>=2.14->tensorflow) (1.0.0)\n",
      "Requirement already satisfied: tensorboard-data-server<0.8.0,>=0.7.0 in /opt/conda/lib/python3.9/site-packages (from tensorboard<2.15,>=2.14->tensorflow) (0.7.1)\n",
      "Requirement already satisfied: MarkupSafe>=2.0 in /opt/conda/lib/python3.9/site-packages (from jinja2->torch) (2.1.1)\n",
      "Requirement already satisfied: chex>=0.1.5 in /opt/conda/lib/python3.9/site-packages (from optax->flax) (0.1.84)\n",
      "Requirement already satisfied: jaxlib>=0.1.37 in /opt/conda/lib/python3.9/site-packages (from optax->flax) (0.4.19)\n",
      "Requirement already satisfied: nest_asyncio in /opt/conda/lib/python3.9/site-packages (from orbax-checkpoint->flax) (1.5.6)\n",
      "Requirement already satisfied: etils[epath,epy] in /opt/conda/lib/python3.9/site-packages (from orbax-checkpoint->flax) (1.5.1)\n",
      "Requirement already satisfied: mpmath>=0.19 in /opt/conda/lib/python3.9/site-packages (from sympy->torch) (1.3.0)\n",
      "Requirement already satisfied: toolz>=0.9.0 in /opt/conda/lib/python3.9/site-packages (from chex>=0.1.5->optax->flax) (0.12.0)\n",
      "Requirement already satisfied: cachetools<6.0,>=2.0.0 in /opt/conda/lib/python3.9/site-packages (from google-auth<3,>=1.6.3->tensorboard<2.15,>=2.14->tensorflow) (5.3.1)\n",
      "Requirement already satisfied: pyasn1-modules>=0.2.1 in /opt/conda/lib/python3.9/site-packages (from google-auth<3,>=1.6.3->tensorboard<2.15,>=2.14->tensorflow) (0.3.0)\n",
      "Requirement already satisfied: rsa<5,>=3.1.4 in /opt/conda/lib/python3.9/site-packages (from google-auth<3,>=1.6.3->tensorboard<2.15,>=2.14->tensorflow) (4.9)\n",
      "Requirement already satisfied: requests-oauthlib>=0.7.0 in /opt/conda/lib/python3.9/site-packages (from google-auth-oauthlib<1.1,>=0.5->tensorboard<2.15,>=2.14->tensorflow) (1.3.1)\n",
      "Requirement already satisfied: zipp>=0.5 in /opt/conda/lib/python3.9/site-packages (from importlib-metadata>=4.6->jax>=0.4.2->flax) (3.16.2)\n",
      "Requirement already satisfied: mdurl~=0.1 in /opt/conda/lib/python3.9/site-packages (from markdown-it-py>=2.2.0->rich>=11.1->flax) (0.1.2)\n",
      "Requirement already satisfied: urllib3<1.27,>=1.21.1 in /opt/conda/lib/python3.9/site-packages (from requests<3,>=2.21.0->tensorboard<2.15,>=2.14->tensorflow) (1.26.15)\n",
      "Requirement already satisfied: certifi>=2017.4.17 in /opt/conda/lib/python3.9/site-packages (from requests<3,>=2.21.0->tensorboard<2.15,>=2.14->tensorflow) (2023.7.22)\n",
      "Requirement already satisfied: idna<4,>=2.5 in /opt/conda/lib/python3.9/site-packages (from requests<3,>=2.21.0->tensorboard<2.15,>=2.14->tensorflow) (3.4)\n",
      "Requirement already satisfied: charset-normalizer<4,>=2 in /opt/conda/lib/python3.9/site-packages (from requests<3,>=2.21.0->tensorboard<2.15,>=2.14->tensorflow) (2.0.4)\n",
      "Requirement already satisfied: importlib_resources in /opt/conda/lib/python3.9/site-packages (from etils[epath,epy]->orbax-checkpoint->flax) (6.0.1)\n",
      "Requirement already satisfied: pyasn1<0.6.0,>=0.4.6 in /opt/conda/lib/python3.9/site-packages (from pyasn1-modules>=0.2.1->google-auth<3,>=1.6.3->tensorboard<2.15,>=2.14->tensorflow) (0.5.0)\n",
      "Requirement already satisfied: oauthlib>=3.0.0 in /opt/conda/lib/python3.9/site-packages (from requests-oauthlib>=0.7.0->google-auth-oauthlib<1.1,>=0.5->tensorboard<2.15,>=2.14->tensorflow) (3.2.2)\n",
      "\u001b[33mWARNING: Running pip as the 'root' user can result in broken permissions and conflicting behaviour with the system package manager. It is recommended to use a virtual environment instead: https://pip.pypa.io/warnings/venv\u001b[0m\u001b[33m\n",
      "\u001b[0m"
     ]
    }
   ],
   "source": [
    "!pip install torch tensorflow flax"
   ]
  },
  {
   "cell_type": "code",
   "execution_count": 4,
   "id": "cba12623-999e-4553-8006-422124c9e997",
   "metadata": {
    "tags": []
   },
   "outputs": [],
   "source": [
    "import numpy as np\n",
    "from collections import defaultdict\n",
    "from typing import List, Tuple\n",
    "\n",
    "import pandas as pd\n",
    "\n",
    "from transformers import AutoTokenizer, AutoModel\n",
    "\n",
    "# load model and tokenizer\n",
    "tokenizer = AutoTokenizer.from_pretrained('allenai/specter')\n",
    "model = AutoModel.from_pretrained('allenai/specter')"
   ]
  },
  {
   "cell_type": "markdown",
   "id": "e84d75d8-9f76-4bf0-ad4e-8a462d7b9936",
   "metadata": {},
   "source": [
    "Build a vector database"
   ]
  },
  {
   "cell_type": "code",
   "execution_count": 5,
   "id": "c2e14d71-5eb9-4332-b3b5-dff996701041",
   "metadata": {
    "tags": []
   },
   "outputs": [],
   "source": [
    "class VectorDatabase:\n",
    "    def __init__(self):\n",
    "        self.vectors = defaultdict(np.ndarray)\n",
    "\n",
    "    def insert(self, key: str, vector: np.ndarray) -> None:\n",
    "        self.vectors[key] = vector\n",
    "\n",
    "    def search(self, query_vector: np.ndarray, k: int) -> List[Tuple[str, float]]:\n",
    "        similarities = [(key, cosine(query_vector, vector)) for key, vector in self.vectors.items()]\n",
    "        similarities.sort(key=lambda x: x[1], reverse=True)\n",
    "        return similarities[:k]\n",
    "\n",
    "    def retrieve(self, key: str) -> np.ndarray:\n",
    "        return self.vectors.get(key, None)"
   ]
  },
  {
   "cell_type": "code",
   "execution_count": 6,
   "id": "d73d8dd5-37cf-4dc8-a09a-73630f67c691",
   "metadata": {
    "tags": []
   },
   "outputs": [],
   "source": [
    "def cosine(v1: np.ndarray, v2: np.ndarray) -> float:\n",
    "    result = np.dot(v1, v2) / (np.linalg.norm(v1) * np.linalg.norm(v2))\n",
    "    return result"
   ]
  },
  {
   "cell_type": "code",
   "execution_count": 53,
   "id": "71e17a5f-0e16-47d6-add5-588dd279ae60",
   "metadata": {
    "tags": []
   },
   "outputs": [],
   "source": [
    "# create a vector database\n",
    "vector_db = VectorDatabase()"
   ]
  },
  {
   "cell_type": "markdown",
   "id": "c849e890-25c6-479f-b4cc-54fcc376fa34",
   "metadata": {},
   "source": [
    "Embed the query"
   ]
  },
  {
   "cell_type": "code",
   "execution_count": 8,
   "id": "62ef1219-29ba-488c-877e-589d4e24397f",
   "metadata": {
    "tags": []
   },
   "outputs": [
    {
     "name": "stderr",
     "output_type": "stream",
     "text": [
      "/tmp/ipykernel_571/2765056229.py:1: DtypeWarning: Columns (1,4,5,6,13,14,15,16) have mixed types. Specify dtype option on import or set low_memory=False.\n",
      "  metadata_df = pd.read_csv(\"metadata.csv\")\n"
     ]
    }
   ],
   "source": [
    "metadata_df = pd.read_csv(\"metadata.csv\")"
   ]
  },
  {
   "cell_type": "code",
   "execution_count": 29,
   "id": "35350f61-0a05-4e42-86d4-80873fd52608",
   "metadata": {
    "tags": []
   },
   "outputs": [],
   "source": [
    "keys = metadata_df['cord_uid']\n",
    "titles = metadata_df['title']\n",
    "abstracts = metadata_df['abstract']"
   ]
  },
  {
   "cell_type": "code",
   "execution_count": 10,
   "id": "6fbb7b99-f8d8-47ed-9b69-359e124c2b3a",
   "metadata": {
    "tags": []
   },
   "outputs": [
    {
     "data": {
      "text/plain": [
       "pandas.core.series.Series"
      ]
     },
     "execution_count": 10,
     "metadata": {},
     "output_type": "execute_result"
    }
   ],
   "source": [
    "type(titles)"
   ]
  },
  {
   "cell_type": "code",
   "execution_count": 11,
   "id": "6372f2b0-6874-4e67-a16c-b04256a430cc",
   "metadata": {
    "tags": []
   },
   "outputs": [],
   "source": [
    "papers = []\n",
    "for i in range(len(titles)):\n",
    "    one_paper_dict = {}\n",
    "    one_paper_dict['title'] = str(titles[i])\n",
    "    one_paper_dict['abstract'] = str(abstracts[i])\n",
    "    papers.append(one_paper_dict)"
   ]
  },
  {
   "cell_type": "code",
   "execution_count": 12,
   "id": "807a0297-648e-4b6e-acc6-a3bd50b755db",
   "metadata": {
    "tags": []
   },
   "outputs": [],
   "source": [
    "# COMMENTED BECAUSE INEFFICIENT (MAKES WHOLE EMBEDDING AT ONCE SO CONSUMES LOT OF RAM)\n",
    "\n",
    "# # concatenate title and abstract\n",
    "# title_abs = [d['title'] + tokenizer.sep_token + (d.get('abstract') or '') for d in papers]\n",
    "# # preprocess the input\n",
    "# inputs = tokenizer(title_abs, padding=True, truncation=True, return_tensors=\"pt\", max_length=512)\n",
    "# result = model(**inputs)\n",
    "# # take the first token in the batch as the embedding\n",
    "# embeddings = result.last_hidden_state[:, 0, :]"
   ]
  },
  {
   "cell_type": "code",
   "execution_count": 13,
   "id": "b40b97f3-b2d2-4888-81ca-df95ac3ac178",
   "metadata": {
    "tags": []
   },
   "outputs": [],
   "source": [
    "embeddings = []\n",
    "for itr, paper in enumerate(papers):\n",
    "    title_abs = [d['title'] + tokenizer.sep_token + (d.get('abstract') or '') for d in [paper]]\n",
    "    # preprocess the input\n",
    "    inputs = tokenizer(title_abs, padding=True, truncation=True, return_tensors=\"pt\", max_length=512)\n",
    "    result = model(**inputs)\n",
    "    # take the first token in the batch as the embedding\n",
    "    embeddings.append(result.last_hidden_state[:, 0, :])\n",
    "    if itr == 10000:\n",
    "        break"
   ]
  },
  {
   "cell_type": "code",
   "execution_count": 52,
   "id": "1b710522-ba35-4f02-9af7-31a9bc99ebb7",
   "metadata": {
    "tags": []
   },
   "outputs": [],
   "source": [
    "new_embeddings = []\n",
    "for i in range(len(embeddings)):\n",
    "    new_embedding = embeddings[i].detach().numpy()\n",
    "    new_embedding = np.squeeze(new_embedding)\n",
    "    new_embeddings.append(new_embedding)"
   ]
  },
  {
   "cell_type": "code",
   "execution_count": 50,
   "id": "a629206d-297b-45e3-ae2b-837ea5cf2ae6",
   "metadata": {
    "tags": []
   },
   "outputs": [],
   "source": [
    "# import pickle\n",
    "# with open('embeddings_10000.p', 'wb') as f:\n",
    "#     pickle.dump(new_embeddings, f, protocol=pickle.HIGHEST_PROTOCOL)"
   ]
  },
  {
   "cell_type": "code",
   "execution_count": 60,
   "id": "b481b816-1483-4c9c-83eb-2cc5a8657ae5",
   "metadata": {
    "tags": []
   },
   "outputs": [
    {
     "data": {
      "text/plain": [
       "10001"
      ]
     },
     "execution_count": 60,
     "metadata": {},
     "output_type": "execute_result"
    }
   ],
   "source": [
    "len(new_embeddings)"
   ]
  },
  {
   "cell_type": "code",
   "execution_count": 62,
   "id": "85b86fae-b5f6-4962-b39c-4ba4e9593d1c",
   "metadata": {
    "tags": []
   },
   "outputs": [],
   "source": [
    "# CURRENTLY IT WILL INSERT INTO THE ALREADY EXISTING DATABASE, BUT IT SHOULDN'T MATTER\n",
    "# keys = np.random.randint(1000, size=40)\n",
    "# insert embeddings into the database\n",
    "for i, el in enumerate(new_embeddings):\n",
    "    key = keys[i]   \n",
    "    vector_db.insert(key, el)"
   ]
  },
  {
   "cell_type": "code",
   "execution_count": 71,
   "id": "1bf7ce6a-19b6-4800-9210-fba41c5c59a7",
   "metadata": {
    "tags": []
   },
   "outputs": [],
   "source": [
    "query = \"Hypertension\"\n",
    "inputs = tokenizer(query, padding=True, truncation=True, return_tensors=\"pt\", max_length=512)\n",
    "result = model(**inputs)\n",
    "query_embedding = result.last_hidden_state[:, 0, :]\n",
    "query_embedding = query_embedding.detach().numpy()"
   ]
  },
  {
   "cell_type": "code",
   "execution_count": 72,
   "id": "8fa514bb-a465-40ad-aa50-b9d8adfecd92",
   "metadata": {
    "tags": []
   },
   "outputs": [
    {
     "name": "stdout",
     "output_type": "stream",
     "text": [
      "CPU times: user 188 ms, sys: 4.11 ms, total: 192 ms\n",
      "Wall time: 191 ms\n"
     ]
    },
    {
     "data": {
      "text/plain": [
       "[('ahiekwch', array([0.83187574], dtype=float32)),\n",
       " ('g6jae62w', array([0.8142808], dtype=float32)),\n",
       " ('yww098fu', array([0.8142808], dtype=float32)),\n",
       " ('umnn0kea', array([0.8142808], dtype=float32)),\n",
       " ('1fka66ul', array([0.8142808], dtype=float32))]"
      ]
     },
     "execution_count": 72,
     "metadata": {},
     "output_type": "execute_result"
    }
   ],
   "source": [
    "%%time\n",
    "result = vector_db.search(query_embedding, k=5)\n",
    "result # result will give the key for the best matched paper"
   ]
  },
  {
   "cell_type": "code",
   "execution_count": 73,
   "id": "eb773846-625a-4453-adfc-1bedb6188bdb",
   "metadata": {
    "tags": []
   },
   "outputs": [],
   "source": [
    "best_result = result[0][0]"
   ]
  },
  {
   "cell_type": "code",
   "execution_count": 76,
   "id": "d31376b5-ab28-421f-84c5-61ae2f287b4e",
   "metadata": {
    "tags": []
   },
   "outputs": [
    {
     "data": {
      "text/html": [
       "<div>\n",
       "<style scoped>\n",
       "    .dataframe tbody tr th:only-of-type {\n",
       "        vertical-align: middle;\n",
       "    }\n",
       "\n",
       "    .dataframe tbody tr th {\n",
       "        vertical-align: top;\n",
       "    }\n",
       "\n",
       "    .dataframe thead th {\n",
       "        text-align: right;\n",
       "    }\n",
       "</style>\n",
       "<table border=\"1\" class=\"dataframe\">\n",
       "  <thead>\n",
       "    <tr style=\"text-align: right;\">\n",
       "      <th></th>\n",
       "      <th>cord_uid</th>\n",
       "      <th>sha</th>\n",
       "      <th>source_x</th>\n",
       "      <th>title</th>\n",
       "      <th>doi</th>\n",
       "      <th>pmcid</th>\n",
       "      <th>pubmed_id</th>\n",
       "      <th>license</th>\n",
       "      <th>abstract</th>\n",
       "      <th>publish_time</th>\n",
       "      <th>authors</th>\n",
       "      <th>journal</th>\n",
       "      <th>mag_id</th>\n",
       "      <th>who_covidence_id</th>\n",
       "      <th>arxiv_id</th>\n",
       "      <th>pdf_json_files</th>\n",
       "      <th>pmc_json_files</th>\n",
       "      <th>url</th>\n",
       "      <th>s2_id</th>\n",
       "    </tr>\n",
       "  </thead>\n",
       "  <tbody>\n",
       "    <tr>\n",
       "      <th>7692</th>\n",
       "      <td>ahiekwch</td>\n",
       "      <td>NaN</td>\n",
       "      <td>PMC</td>\n",
       "      <td>Special assorted cardiovascular topics</td>\n",
       "      <td>10.1016/j.pcad.2020.03.016</td>\n",
       "      <td>PMC7118538</td>\n",
       "      <td>32224111</td>\n",
       "      <td>no-cc</td>\n",
       "      <td>NaN</td>\n",
       "      <td>2020-03-26</td>\n",
       "      <td>Lavie, Carl J.</td>\n",
       "      <td>Prog Cardiovasc Dis</td>\n",
       "      <td>NaN</td>\n",
       "      <td>NaN</td>\n",
       "      <td>NaN</td>\n",
       "      <td>NaN</td>\n",
       "      <td>document_parses/pmc_json/PMC7118538.xml.json</td>\n",
       "      <td>https://www.ncbi.nlm.nih.gov/pmc/articles/PMC7...</td>\n",
       "      <td>NaN</td>\n",
       "    </tr>\n",
       "  </tbody>\n",
       "</table>\n",
       "</div>"
      ],
      "text/plain": [
       "      cord_uid  sha source_x                                   title  \\\n",
       "7692  ahiekwch  NaN      PMC  Special assorted cardiovascular topics   \n",
       "\n",
       "                             doi       pmcid pubmed_id license abstract  \\\n",
       "7692  10.1016/j.pcad.2020.03.016  PMC7118538  32224111   no-cc      NaN   \n",
       "\n",
       "     publish_time         authors              journal  mag_id  \\\n",
       "7692   2020-03-26  Lavie, Carl J.  Prog Cardiovasc Dis     NaN   \n",
       "\n",
       "     who_covidence_id arxiv_id pdf_json_files  \\\n",
       "7692              NaN      NaN            NaN   \n",
       "\n",
       "                                    pmc_json_files  \\\n",
       "7692  document_parses/pmc_json/PMC7118538.xml.json   \n",
       "\n",
       "                                                    url  s2_id  \n",
       "7692  https://www.ncbi.nlm.nih.gov/pmc/articles/PMC7...    NaN  "
      ]
     },
     "execution_count": 76,
     "metadata": {},
     "output_type": "execute_result"
    }
   ],
   "source": [
    "metadata_df[metadata_df['cord_uid'] == best_result]"
   ]
  }
 ],
 "metadata": {
  "kernelspec": {
   "display_name": "Python 3 (ipykernel)",
   "language": "python",
   "name": "python3"
  },
  "language_info": {
   "codemirror_mode": {
    "name": "ipython",
    "version": 3
   },
   "file_extension": ".py",
   "mimetype": "text/x-python",
   "name": "python",
   "nbconvert_exporter": "python",
   "pygments_lexer": "ipython3",
   "version": "3.9.16"
  }
 },
 "nbformat": 4,
 "nbformat_minor": 5
}
