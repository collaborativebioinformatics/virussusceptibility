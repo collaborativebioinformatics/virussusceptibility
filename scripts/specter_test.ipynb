{
 "cells": [
  {
   "cell_type": "code",
   "execution_count": 2,
   "id": "5b2a9ebe-0452-4fdb-ab4e-48ed5664f2b7",
   "metadata": {
    "collapsed": true,
    "jupyter": {
     "outputs_hidden": true
    },
    "tags": []
   },
   "outputs": [
    {
     "name": "stdout",
     "output_type": "stream",
     "text": [
      "Collecting transformers==4.2\n",
      "  Downloading transformers-4.2.0-py3-none-any.whl (1.8 MB)\n",
      "\u001b[2K     \u001b[90m━━━━━━━━━━━━━━━━━━━━━━━━━━━━━━━━━━━━━━━━\u001b[0m \u001b[32m1.8/1.8 MB\u001b[0m \u001b[31m53.4 MB/s\u001b[0m eta \u001b[36m0:00:00\u001b[0m\n",
      "\u001b[?25hCollecting regex!=2019.12.17\n",
      "  Downloading regex-2023.10.3-cp39-cp39-manylinux_2_17_x86_64.manylinux2014_x86_64.whl (773 kB)\n",
      "\u001b[2K     \u001b[90m━━━━━━━━━━━━━━━━━━━━━━━━━━━━━━━━━━━━━\u001b[0m \u001b[32m773.3/773.3 kB\u001b[0m \u001b[31m112.4 MB/s\u001b[0m eta \u001b[36m0:00:00\u001b[0m\n",
      "\u001b[?25hRequirement already satisfied: filelock in /opt/conda/lib/python3.9/site-packages (from transformers==4.2) (3.12.4)\n",
      "Requirement already satisfied: tqdm>=4.27 in /opt/conda/lib/python3.9/site-packages (from transformers==4.2) (4.65.0)\n",
      "Requirement already satisfied: packaging in /opt/conda/lib/python3.9/site-packages (from transformers==4.2) (23.0)\n",
      "Requirement already satisfied: numpy in /opt/conda/lib/python3.9/site-packages (from transformers==4.2) (1.23.5)\n",
      "Collecting sacremoses\n",
      "  Downloading sacremoses-0.0.53.tar.gz (880 kB)\n",
      "\u001b[2K     \u001b[90m━━━━━━━━━━━━━━━━━━━━━━━━━━━━━━━━━━━━━\u001b[0m \u001b[32m880.6/880.6 kB\u001b[0m \u001b[31m120.5 MB/s\u001b[0m eta \u001b[36m0:00:00\u001b[0m\n",
      "\u001b[?25h  Preparing metadata (setup.py) ... \u001b[?25ldone\n",
      "\u001b[?25hCollecting tokenizers==0.9.4\n",
      "  Downloading tokenizers-0.9.4-cp39-cp39-manylinux2010_x86_64.whl (2.9 MB)\n",
      "\u001b[2K     \u001b[90m━━━━━━━━━━━━━━━━━━━━━━━━━━━━━━━━━━━━━━━━\u001b[0m \u001b[32m2.9/2.9 MB\u001b[0m \u001b[31m128.9 MB/s\u001b[0m eta \u001b[36m0:00:00\u001b[0m\n",
      "\u001b[?25hRequirement already satisfied: requests in /opt/conda/lib/python3.9/site-packages (from transformers==4.2) (2.28.2)\n",
      "Requirement already satisfied: certifi>=2017.4.17 in /opt/conda/lib/python3.9/site-packages (from requests->transformers==4.2) (2023.7.22)\n",
      "Requirement already satisfied: idna<4,>=2.5 in /opt/conda/lib/python3.9/site-packages (from requests->transformers==4.2) (3.4)\n",
      "Requirement already satisfied: urllib3<1.27,>=1.21.1 in /opt/conda/lib/python3.9/site-packages (from requests->transformers==4.2) (1.26.15)\n",
      "Requirement already satisfied: charset-normalizer<4,>=2 in /opt/conda/lib/python3.9/site-packages (from requests->transformers==4.2) (2.0.4)\n",
      "Requirement already satisfied: six in /opt/conda/lib/python3.9/site-packages (from sacremoses->transformers==4.2) (1.16.0)\n",
      "Requirement already satisfied: click in /opt/conda/lib/python3.9/site-packages (from sacremoses->transformers==4.2) (8.1.7)\n",
      "Requirement already satisfied: joblib in /opt/conda/lib/python3.9/site-packages (from sacremoses->transformers==4.2) (1.3.2)\n",
      "Building wheels for collected packages: sacremoses\n",
      "  Building wheel for sacremoses (setup.py) ... \u001b[?25ldone\n",
      "\u001b[?25h  Created wheel for sacremoses: filename=sacremoses-0.0.53-py3-none-any.whl size=895241 sha256=b0249308cdc7e2610986f8e6a0eb29dcc651883c99715c91b9f705d936eca229\n",
      "  Stored in directory: /home/dnanexus/.cache/pip/wheels/12/1c/3d/46cf06718d63a32ff798a89594b61e7f345ab6b36d909ce033\n",
      "Successfully built sacremoses\n",
      "Installing collected packages: tokenizers, regex, sacremoses, transformers\n",
      "Successfully installed regex-2023.10.3 sacremoses-0.0.53 tokenizers-0.9.4 transformers-4.2.0\n",
      "\u001b[33mWARNING: Running pip as the 'root' user can result in broken permissions and conflicting behaviour with the system package manager. It is recommended to use a virtual environment instead: https://pip.pypa.io/warnings/venv\u001b[0m\u001b[33m\n",
      "\u001b[0m"
     ]
    }
   ],
   "source": [
    "!pip install --upgrade transformers==4.2"
   ]
  },
  {
   "cell_type": "code",
   "execution_count": 6,
   "id": "abb4bc82-c1d4-411e-8a01-d620a1ce8d0d",
   "metadata": {
    "collapsed": true,
    "jupyter": {
     "outputs_hidden": true
    },
    "tags": []
   },
   "outputs": [
    {
     "name": "stdout",
     "output_type": "stream",
     "text": [
      "Requirement already satisfied: torch in /opt/conda/lib/python3.9/site-packages (2.1.0)\n",
      "Collecting tensorflow\n",
      "  Downloading tensorflow-2.14.0-cp39-cp39-manylinux_2_17_x86_64.manylinux2014_x86_64.whl (489.8 MB)\n",
      "\u001b[2K     \u001b[90m━━━━━━━━━━━━━━━━━━━━━━━━━━━━━━━━━━━━━━━\u001b[0m \u001b[32m489.8/489.8 MB\u001b[0m \u001b[31m6.3 MB/s\u001b[0m eta \u001b[36m0:00:00\u001b[0m00:01\u001b[0m00:01\u001b[0m\n",
      "\u001b[?25hCollecting flax\n",
      "  Downloading flax-0.7.4-py3-none-any.whl (233 kB)\n",
      "\u001b[2K     \u001b[90m━━━━━━━━━━━━━━━━━━━━━━━━━━━━━━━━━━━━━━\u001b[0m \u001b[32m233.5/233.5 kB\u001b[0m \u001b[31m82.5 MB/s\u001b[0m eta \u001b[36m0:00:00\u001b[0m\n",
      "\u001b[?25hRequirement already satisfied: nvidia-cuda-cupti-cu12==12.1.105 in /opt/conda/lib/python3.9/site-packages (from torch) (12.1.105)\n",
      "Requirement already satisfied: typing-extensions in /opt/conda/lib/python3.9/site-packages (from torch) (4.8.0)\n",
      "Requirement already satisfied: nvidia-nvtx-cu12==12.1.105 in /opt/conda/lib/python3.9/site-packages (from torch) (12.1.105)\n",
      "Requirement already satisfied: sympy in /opt/conda/lib/python3.9/site-packages (from torch) (1.12)\n",
      "Requirement already satisfied: networkx in /opt/conda/lib/python3.9/site-packages (from torch) (2.8.8)\n",
      "Requirement already satisfied: nvidia-cufft-cu12==11.0.2.54 in /opt/conda/lib/python3.9/site-packages (from torch) (11.0.2.54)\n",
      "Requirement already satisfied: nvidia-cuda-runtime-cu12==12.1.105 in /opt/conda/lib/python3.9/site-packages (from torch) (12.1.105)\n",
      "Requirement already satisfied: nvidia-cusolver-cu12==11.4.5.107 in /opt/conda/lib/python3.9/site-packages (from torch) (11.4.5.107)\n",
      "Requirement already satisfied: fsspec in /opt/conda/lib/python3.9/site-packages (from torch) (2023.9.2)\n",
      "Requirement already satisfied: filelock in /opt/conda/lib/python3.9/site-packages (from torch) (3.12.4)\n",
      "Requirement already satisfied: nvidia-cublas-cu12==12.1.3.1 in /opt/conda/lib/python3.9/site-packages (from torch) (12.1.3.1)\n",
      "Requirement already satisfied: nvidia-curand-cu12==10.3.2.106 in /opt/conda/lib/python3.9/site-packages (from torch) (10.3.2.106)\n",
      "Requirement already satisfied: nvidia-cuda-nvrtc-cu12==12.1.105 in /opt/conda/lib/python3.9/site-packages (from torch) (12.1.105)\n",
      "Requirement already satisfied: nvidia-cudnn-cu12==8.9.2.26 in /opt/conda/lib/python3.9/site-packages (from torch) (8.9.2.26)\n",
      "Requirement already satisfied: nvidia-nccl-cu12==2.18.1 in /opt/conda/lib/python3.9/site-packages (from torch) (2.18.1)\n",
      "Requirement already satisfied: jinja2 in /opt/conda/lib/python3.9/site-packages (from torch) (3.1.2)\n",
      "Requirement already satisfied: triton==2.1.0 in /opt/conda/lib/python3.9/site-packages (from torch) (2.1.0)\n",
      "Requirement already satisfied: nvidia-cusparse-cu12==12.1.0.106 in /opt/conda/lib/python3.9/site-packages (from torch) (12.1.0.106)\n",
      "Requirement already satisfied: nvidia-nvjitlink-cu12 in /opt/conda/lib/python3.9/site-packages (from nvidia-cusolver-cu12==11.4.5.107->torch) (12.3.52)\n",
      "Collecting tensorboard<2.15,>=2.14\n",
      "  Downloading tensorboard-2.14.1-py3-none-any.whl (5.5 MB)\n",
      "\u001b[2K     \u001b[90m━━━━━━━━━━━━━━━━━━━━━━━━━━━━━━━━━━━━━━━━\u001b[0m \u001b[32m5.5/5.5 MB\u001b[0m \u001b[31m123.0 MB/s\u001b[0m eta \u001b[36m0:00:00\u001b[0m00:01\u001b[0m\n",
      "\u001b[?25hCollecting h5py>=2.9.0\n",
      "  Downloading h5py-3.10.0-cp39-cp39-manylinux_2_17_x86_64.manylinux2014_x86_64.whl (4.8 MB)\n",
      "\u001b[2K     \u001b[90m━━━━━━━━━━━━━━━━━━━━━━━━━━━━━━━━━━━━━━━━\u001b[0m \u001b[32m4.8/4.8 MB\u001b[0m \u001b[31m105.3 MB/s\u001b[0m eta \u001b[36m0:00:00\u001b[0m00:01\u001b[0m\n",
      "\u001b[?25hCollecting keras<2.15,>=2.14.0\n",
      "  Downloading keras-2.14.0-py3-none-any.whl (1.7 MB)\n",
      "\u001b[2K     \u001b[90m━━━━━━━━━━━━━━━━━━━━━━━━━━━━━━━━━━━━━━━━\u001b[0m \u001b[32m1.7/1.7 MB\u001b[0m \u001b[31m142.6 MB/s\u001b[0m eta \u001b[36m0:00:00\u001b[0m\n",
      "\u001b[?25hRequirement already satisfied: grpcio<2.0,>=1.24.3 in /opt/conda/lib/python3.9/site-packages (from tensorflow) (1.47.5)\n",
      "Collecting astunparse>=1.6.0\n",
      "  Downloading astunparse-1.6.3-py2.py3-none-any.whl (12 kB)\n",
      "Collecting wrapt<1.15,>=1.11.0\n",
      "  Downloading wrapt-1.14.1-cp39-cp39-manylinux_2_5_x86_64.manylinux1_x86_64.manylinux_2_17_x86_64.manylinux2014_x86_64.whl (77 kB)\n",
      "\u001b[2K     \u001b[90m━━━━━━━━━━━━━━━━━━━━━━━━━━━━━━━━━━━━━━━━\u001b[0m \u001b[32m77.8/77.8 kB\u001b[0m \u001b[31m36.3 MB/s\u001b[0m eta \u001b[36m0:00:00\u001b[0m\n",
      "\u001b[?25hCollecting termcolor>=1.1.0\n",
      "  Downloading termcolor-2.3.0-py3-none-any.whl (6.9 kB)\n",
      "Requirement already satisfied: packaging in /opt/conda/lib/python3.9/site-packages (from tensorflow) (23.0)\n",
      "Collecting tensorflow-io-gcs-filesystem>=0.23.1\n",
      "  Downloading tensorflow_io_gcs_filesystem-0.34.0-cp39-cp39-manylinux_2_12_x86_64.manylinux2010_x86_64.whl (2.4 MB)\n",
      "\u001b[2K     \u001b[90m━━━━━━━━━━━━━━━━━━━━━━━━━━━━━━━━━━━━━━━━\u001b[0m \u001b[32m2.4/2.4 MB\u001b[0m \u001b[31m137.2 MB/s\u001b[0m eta \u001b[36m0:00:00\u001b[0m\n",
      "\u001b[?25hRequirement already satisfied: six>=1.12.0 in /opt/conda/lib/python3.9/site-packages (from tensorflow) (1.16.0)\n",
      "Requirement already satisfied: numpy>=1.23.5 in /opt/conda/lib/python3.9/site-packages (from tensorflow) (1.23.5)\n",
      "Collecting libclang>=13.0.0\n",
      "  Downloading libclang-16.0.6-py2.py3-none-manylinux2010_x86_64.whl (22.9 MB)\n",
      "\u001b[2K     \u001b[90m━━━━━━━━━━━━━━━━━━━━━━━━━━━━━━━━━━━━━━━━\u001b[0m \u001b[32m22.9/22.9 MB\u001b[0m \u001b[31m72.4 MB/s\u001b[0m eta \u001b[36m0:00:00\u001b[0m00:01\u001b[0m00:01\u001b[0m\n",
      "\u001b[?25hRequirement already satisfied: setuptools in /opt/conda/lib/python3.9/site-packages (from tensorflow) (65.6.3)\n",
      "Collecting gast!=0.5.0,!=0.5.1,!=0.5.2,>=0.2.1\n",
      "  Downloading gast-0.5.4-py3-none-any.whl (19 kB)\n",
      "Collecting ml-dtypes==0.2.0\n",
      "  Downloading ml_dtypes-0.2.0-cp39-cp39-manylinux_2_17_x86_64.manylinux2014_x86_64.whl (1.0 MB)\n",
      "\u001b[2K     \u001b[90m━━━━━━━━━━━━━━━━━━━━━━━━━━━━━━━━━━━━━━━━\u001b[0m \u001b[32m1.0/1.0 MB\u001b[0m \u001b[31m131.3 MB/s\u001b[0m eta \u001b[36m0:00:00\u001b[0m\n",
      "\u001b[?25hCollecting tensorflow-estimator<2.15,>=2.14.0\n",
      "  Downloading tensorflow_estimator-2.14.0-py2.py3-none-any.whl (440 kB)\n",
      "\u001b[2K     \u001b[90m━━━━━━━━━━━━━━━━━━━━━━━━━━━━━━━━━━━━━\u001b[0m \u001b[32m440.7/440.7 kB\u001b[0m \u001b[31m103.2 MB/s\u001b[0m eta \u001b[36m0:00:00\u001b[0m\n",
      "\u001b[?25hCollecting absl-py>=1.0.0\n",
      "  Downloading absl_py-2.0.0-py3-none-any.whl (130 kB)\n",
      "\u001b[2K     \u001b[90m━━━━━━━━━━━━━━━━━━━━━━━━━━━━━━━━━━━━━━\u001b[0m \u001b[32m130.2/130.2 kB\u001b[0m \u001b[31m53.9 MB/s\u001b[0m eta \u001b[36m0:00:00\u001b[0m\n",
      "\u001b[?25hRequirement already satisfied: protobuf!=4.21.0,!=4.21.1,!=4.21.2,!=4.21.3,!=4.21.4,!=4.21.5,<5.0.0dev,>=3.20.3 in /opt/conda/lib/python3.9/site-packages (from tensorflow) (4.24.4)\n",
      "Collecting opt-einsum>=2.3.2\n",
      "  Downloading opt_einsum-3.3.0-py3-none-any.whl (65 kB)\n",
      "\u001b[2K     \u001b[90m━━━━━━━━━━━━━━━━━━━━━━━━━━━━━━━━━━━━━━━━\u001b[0m \u001b[32m65.5/65.5 kB\u001b[0m \u001b[31m33.8 MB/s\u001b[0m eta \u001b[36m0:00:00\u001b[0m\n",
      "\u001b[?25hCollecting google-pasta>=0.1.1\n",
      "  Downloading google_pasta-0.2.0-py3-none-any.whl (57 kB)\n",
      "\u001b[2K     \u001b[90m━━━━━━━━━━━━━━━━━━━━━━━━━━━━━━━━━━━━━━━━\u001b[0m \u001b[32m57.5/57.5 kB\u001b[0m \u001b[31m28.5 MB/s\u001b[0m eta \u001b[36m0:00:00\u001b[0m\n",
      "\u001b[?25hCollecting flatbuffers>=23.5.26\n",
      "  Downloading flatbuffers-23.5.26-py2.py3-none-any.whl (26 kB)\n",
      "Collecting jax>=0.4.2\n",
      "  Downloading jax-0.4.19-py3-none-any.whl (1.7 MB)\n",
      "\u001b[2K     \u001b[90m━━━━━━━━━━━━━━━━━━━━━━━━━━━━━━━━━━━━━━━━\u001b[0m \u001b[32m1.7/1.7 MB\u001b[0m \u001b[31m124.8 MB/s\u001b[0m eta \u001b[36m0:00:00\u001b[0m\n",
      "\u001b[?25hCollecting msgpack\n",
      "  Downloading msgpack-1.0.7-cp39-cp39-manylinux_2_17_x86_64.manylinux2014_x86_64.whl (530 kB)\n",
      "\u001b[2K     \u001b[90m━━━━━━━━━━━━━━━━━━━━━━━━━━━━━━━━━━━━━\u001b[0m \u001b[32m531.0/531.0 kB\u001b[0m \u001b[31m109.6 MB/s\u001b[0m eta \u001b[36m0:00:00\u001b[0m\n",
      "\u001b[?25hCollecting orbax-checkpoint\n",
      "  Downloading orbax_checkpoint-0.4.1-py3-none-any.whl (113 kB)\n",
      "\u001b[2K     \u001b[90m━━━━━━━━━━━━━━━━━━━━━━━━━━━━━━━━━━━━━━\u001b[0m \u001b[32m113.5/113.5 kB\u001b[0m \u001b[31m48.1 MB/s\u001b[0m eta \u001b[36m0:00:00\u001b[0m\n",
      "\u001b[?25hRequirement already satisfied: PyYAML>=5.4.1 in /opt/conda/lib/python3.9/site-packages (from flax) (5.4.1)\n",
      "Collecting optax\n",
      "  Downloading optax-0.1.7-py3-none-any.whl (154 kB)\n",
      "\u001b[2K     \u001b[90m━━━━━━━━━━━━━━━━━━━━━━━━━━━━━━━━━━━━━━\u001b[0m \u001b[32m154.1/154.1 kB\u001b[0m \u001b[31m59.3 MB/s\u001b[0m eta \u001b[36m0:00:00\u001b[0m\n",
      "\u001b[?25hRequirement already satisfied: rich>=11.1 in /opt/conda/lib/python3.9/site-packages (from flax) (13.6.0)\n",
      "Collecting tensorstore\n",
      "  Downloading tensorstore-0.1.46-cp39-cp39-manylinux_2_17_x86_64.manylinux2014_x86_64.whl (13.7 MB)\n",
      "\u001b[2K     \u001b[90m━━━━━━━━━━━━━━━━━━━━━━━━━━━━━━━━━━━━━━━━\u001b[0m \u001b[32m13.7/13.7 MB\u001b[0m \u001b[31m95.6 MB/s\u001b[0m eta \u001b[36m0:00:00\u001b[0m00:01\u001b[0m00:01\u001b[0m\n",
      "\u001b[?25hRequirement already satisfied: wheel<1.0,>=0.23.0 in /opt/conda/lib/python3.9/site-packages (from astunparse>=1.6.0->tensorflow) (0.38.4)\n",
      "Requirement already satisfied: importlib-metadata>=4.6 in /opt/conda/lib/python3.9/site-packages (from jax>=0.4.2->flax) (6.8.0)\n",
      "Requirement already satisfied: scipy>=1.9 in /opt/conda/lib/python3.9/site-packages (from jax>=0.4.2->flax) (1.9.3)\n",
      "Requirement already satisfied: markdown-it-py>=2.2.0 in /opt/conda/lib/python3.9/site-packages (from rich>=11.1->flax) (3.0.0)\n",
      "Requirement already satisfied: pygments<3.0.0,>=2.13.0 in /opt/conda/lib/python3.9/site-packages (from rich>=11.1->flax) (2.16.1)\n",
      "Collecting google-auth-oauthlib<1.1,>=0.5\n",
      "  Downloading google_auth_oauthlib-1.0.0-py2.py3-none-any.whl (18 kB)\n",
      "Collecting grpcio<2.0,>=1.24.3\n",
      "  Downloading grpcio-1.59.0-cp39-cp39-manylinux_2_17_x86_64.manylinux2014_x86_64.whl (5.3 MB)\n",
      "\u001b[2K     \u001b[90m━━━━━━━━━━━━━━━━━━━━━━━━━━━━━━━━━━━━━━━━\u001b[0m \u001b[32m5.3/5.3 MB\u001b[0m \u001b[31m137.5 MB/s\u001b[0m eta \u001b[36m0:00:00\u001b[0m00:01\u001b[0m\n",
      "\u001b[?25hCollecting markdown>=2.6.8\n",
      "  Downloading Markdown-3.5-py3-none-any.whl (101 kB)\n",
      "\u001b[2K     \u001b[90m━━━━━━━━━━━━━━━━━━━━━━━━━━━━━━━━━━━━━━\u001b[0m \u001b[32m101.7/101.7 kB\u001b[0m \u001b[31m46.2 MB/s\u001b[0m eta \u001b[36m0:00:00\u001b[0m\n",
      "\u001b[?25hCollecting werkzeug>=1.0.1\n",
      "  Downloading werkzeug-3.0.0-py3-none-any.whl (226 kB)\n",
      "\u001b[2K     \u001b[90m━━━━━━━━━━━━━━━━━━━━━━━━━━━━━━━━━━━━━━\u001b[0m \u001b[32m226.6/226.6 kB\u001b[0m \u001b[31m72.4 MB/s\u001b[0m eta \u001b[36m0:00:00\u001b[0m\n",
      "\u001b[?25hCollecting tensorboard-data-server<0.8.0,>=0.7.0\n",
      "  Downloading tensorboard_data_server-0.7.1-py3-none-manylinux2014_x86_64.whl (6.6 MB)\n",
      "\u001b[2K     \u001b[90m━━━━━━━━━━━━━━━━━━━━━━━━━━━━━━━━━━━━━━━━\u001b[0m \u001b[32m6.6/6.6 MB\u001b[0m \u001b[31m150.4 MB/s\u001b[0m eta \u001b[36m0:00:00\u001b[0m00:01\u001b[0m\n",
      "\u001b[?25hCollecting google-auth<3,>=1.6.3\n",
      "  Downloading google_auth-2.23.3-py2.py3-none-any.whl (182 kB)\n",
      "\u001b[2K     \u001b[90m━━━━━━━━━━━━━━━━━━━━━━━━━━━━━━━━━━━━━━\u001b[0m \u001b[32m182.3/182.3 kB\u001b[0m \u001b[31m66.4 MB/s\u001b[0m eta \u001b[36m0:00:00\u001b[0m\n",
      "\u001b[?25hRequirement already satisfied: requests<3,>=2.21.0 in /opt/conda/lib/python3.9/site-packages (from tensorboard<2.15,>=2.14->tensorflow) (2.28.2)\n",
      "Requirement already satisfied: MarkupSafe>=2.0 in /opt/conda/lib/python3.9/site-packages (from jinja2->torch) (2.1.1)\n",
      "Collecting chex>=0.1.5\n",
      "  Downloading chex-0.1.84-py3-none-any.whl (94 kB)\n",
      "\u001b[2K     \u001b[90m━━━━━━━━━━━━━━━━━━━━━━━━━━━━━━━━━━━━━━━━\u001b[0m \u001b[32m94.8/94.8 kB\u001b[0m \u001b[31m44.4 MB/s\u001b[0m eta \u001b[36m0:00:00\u001b[0m\n",
      "\u001b[?25hCollecting jaxlib>=0.1.37\n",
      "  Downloading jaxlib-0.4.19-cp39-cp39-manylinux2014_x86_64.whl (85.3 MB)\n",
      "\u001b[2K     \u001b[90m━━━━━━━━━━━━━━━━━━━━━━━━━━━━━━━━━━━━━━━━\u001b[0m \u001b[32m85.3/85.3 MB\u001b[0m \u001b[31m31.3 MB/s\u001b[0m eta \u001b[36m0:00:00\u001b[0m00:01\u001b[0m00:01\u001b[0m\n",
      "\u001b[?25hRequirement already satisfied: nest_asyncio in /opt/conda/lib/python3.9/site-packages (from orbax-checkpoint->flax) (1.5.6)\n",
      "Collecting etils[epath,epy]\n",
      "  Downloading etils-1.5.1-py3-none-any.whl (140 kB)\n",
      "\u001b[2K     \u001b[90m━━━━━━━━━━━━━━━━━━━━━━━━━━━━━━━━━━━━━━\u001b[0m \u001b[32m140.5/140.5 kB\u001b[0m \u001b[31m57.4 MB/s\u001b[0m eta \u001b[36m0:00:00\u001b[0m\n",
      "\u001b[?25hCollecting tensorstore\n",
      "  Downloading tensorstore-0.1.45-cp39-cp39-manylinux_2_17_x86_64.manylinux2014_x86_64.whl (13.5 MB)\n",
      "\u001b[2K     \u001b[90m━━━━━━━━━━━━━━━━━━━━━━━━━━━━━━━━━━━━━━━\u001b[0m \u001b[32m13.5/13.5 MB\u001b[0m \u001b[31m102.8 MB/s\u001b[0m eta \u001b[36m0:00:00\u001b[0m00:01\u001b[0m00:01\u001b[0m\n",
      "\u001b[?25hRequirement already satisfied: mpmath>=0.19 in /opt/conda/lib/python3.9/site-packages (from sympy->torch) (1.3.0)\n",
      "Requirement already satisfied: toolz>=0.9.0 in /opt/conda/lib/python3.9/site-packages (from chex>=0.1.5->optax->flax) (0.12.0)\n",
      "Collecting numpy>=1.23.5\n",
      "  Using cached numpy-1.26.1-cp39-cp39-manylinux_2_17_x86_64.manylinux2014_x86_64.whl (18.2 MB)\n",
      "Collecting cachetools<6.0,>=2.0.0\n",
      "  Downloading cachetools-5.3.1-py3-none-any.whl (9.3 kB)\n",
      "Collecting pyasn1-modules>=0.2.1\n",
      "  Downloading pyasn1_modules-0.3.0-py2.py3-none-any.whl (181 kB)\n",
      "\u001b[2K     \u001b[90m━━━━━━━━━━━━━━━━━━━━━━━━━━━━━━━━━━━━━━\u001b[0m \u001b[32m181.3/181.3 kB\u001b[0m \u001b[31m68.9 MB/s\u001b[0m eta \u001b[36m0:00:00\u001b[0m\n",
      "\u001b[?25hRequirement already satisfied: rsa<5,>=3.1.4 in /opt/conda/lib/python3.9/site-packages (from google-auth<3,>=1.6.3->tensorboard<2.15,>=2.14->tensorflow) (4.9)\n",
      "Collecting requests-oauthlib>=0.7.0\n",
      "  Downloading requests_oauthlib-1.3.1-py2.py3-none-any.whl (23 kB)\n",
      "Requirement already satisfied: zipp>=0.5 in /opt/conda/lib/python3.9/site-packages (from importlib-metadata>=4.6->jax>=0.4.2->flax) (3.16.2)\n",
      "Requirement already satisfied: mdurl~=0.1 in /opt/conda/lib/python3.9/site-packages (from markdown-it-py>=2.2.0->rich>=11.1->flax) (0.1.2)\n",
      "Requirement already satisfied: certifi>=2017.4.17 in /opt/conda/lib/python3.9/site-packages (from requests<3,>=2.21.0->tensorboard<2.15,>=2.14->tensorflow) (2023.7.22)\n",
      "Requirement already satisfied: idna<4,>=2.5 in /opt/conda/lib/python3.9/site-packages (from requests<3,>=2.21.0->tensorboard<2.15,>=2.14->tensorflow) (3.4)\n",
      "Requirement already satisfied: urllib3<1.27,>=1.21.1 in /opt/conda/lib/python3.9/site-packages (from requests<3,>=2.21.0->tensorboard<2.15,>=2.14->tensorflow) (1.26.15)\n",
      "Requirement already satisfied: charset-normalizer<4,>=2 in /opt/conda/lib/python3.9/site-packages (from requests<3,>=2.21.0->tensorboard<2.15,>=2.14->tensorflow) (2.0.4)\n",
      "Collecting numpy>=1.23.5\n",
      "  Downloading numpy-1.25.2-cp39-cp39-manylinux_2_17_x86_64.manylinux2014_x86_64.whl (18.3 MB)\n",
      "\u001b[2K     \u001b[90m━━━━━━━━━━━━━━━━━━━━━━━━━━━━━━━━━━━━━━━━\u001b[0m \u001b[32m18.3/18.3 MB\u001b[0m \u001b[31m96.6 MB/s\u001b[0m eta \u001b[36m0:00:00\u001b[0m00:01\u001b[0m00:01\u001b[0m\n",
      "\u001b[?25hRequirement already satisfied: importlib_resources in /opt/conda/lib/python3.9/site-packages (from etils[epath,epy]->orbax-checkpoint->flax) (6.0.1)\n",
      "Requirement already satisfied: pyasn1<0.6.0,>=0.4.6 in /opt/conda/lib/python3.9/site-packages (from pyasn1-modules>=0.2.1->google-auth<3,>=1.6.3->tensorboard<2.15,>=2.14->tensorflow) (0.5.0)\n",
      "Collecting oauthlib>=3.0.0\n",
      "  Downloading oauthlib-3.2.2-py3-none-any.whl (151 kB)\n",
      "\u001b[2K     \u001b[90m━━━━━━━━━━━━━━━━━━━━━━━━━━━━━━━━━━━━━━\u001b[0m \u001b[32m151.7/151.7 kB\u001b[0m \u001b[31m58.0 MB/s\u001b[0m eta \u001b[36m0:00:00\u001b[0m\n",
      "\u001b[?25hInstalling collected packages: libclang, flatbuffers, wrapt, werkzeug, termcolor, tensorflow-io-gcs-filesystem, tensorflow-estimator, tensorboard-data-server, pyasn1-modules, oauthlib, numpy, msgpack, keras, grpcio, google-pasta, gast, etils, cachetools, astunparse, absl-py, tensorstore, requests-oauthlib, opt-einsum, ml-dtypes, markdown, h5py, google-auth, jaxlib, jax, google-auth-oauthlib, tensorboard, orbax-checkpoint, chex, tensorflow, optax, flax\n",
      "  Attempting uninstall: wrapt\n",
      "    Found existing installation: wrapt 1.15.0\n",
      "    Uninstalling wrapt-1.15.0:\n",
      "      Successfully uninstalled wrapt-1.15.0\n",
      "  Attempting uninstall: numpy\n",
      "    Found existing installation: numpy 1.23.5\n",
      "    Uninstalling numpy-1.23.5:\n",
      "      Successfully uninstalled numpy-1.23.5\n",
      "  Attempting uninstall: grpcio\n",
      "    Found existing installation: grpcio 1.47.5\n",
      "    Uninstalling grpcio-1.47.5:\n",
      "      Successfully uninstalled grpcio-1.47.5\n",
      "\u001b[31mERROR: pip's dependency resolver does not currently take into account all the packages that are installed. This behaviour is the source of the following dependency conflicts.\n",
      "jina 3.22.1 requires grpcio<1.48.1,>=1.46.0, but you have grpcio 1.59.0 which is incompatible.\n",
      "dxdata 0.39.0 requires numpy==1.23.5; python_version >= \"3.8\", but you have numpy 1.25.2 which is incompatible.\u001b[0m\u001b[31m\n",
      "\u001b[0mSuccessfully installed absl-py-2.0.0 astunparse-1.6.3 cachetools-5.3.1 chex-0.1.84 etils-1.5.1 flatbuffers-23.5.26 flax-0.7.4 gast-0.5.4 google-auth-2.23.3 google-auth-oauthlib-1.0.0 google-pasta-0.2.0 grpcio-1.59.0 h5py-3.10.0 jax-0.4.19 jaxlib-0.4.19 keras-2.14.0 libclang-16.0.6 markdown-3.5 ml-dtypes-0.2.0 msgpack-1.0.7 numpy-1.25.2 oauthlib-3.2.2 opt-einsum-3.3.0 optax-0.1.7 orbax-checkpoint-0.4.1 pyasn1-modules-0.3.0 requests-oauthlib-1.3.1 tensorboard-2.14.1 tensorboard-data-server-0.7.1 tensorflow-2.14.0 tensorflow-estimator-2.14.0 tensorflow-io-gcs-filesystem-0.34.0 tensorstore-0.1.45 termcolor-2.3.0 werkzeug-3.0.0 wrapt-1.14.1\n",
      "\u001b[33mWARNING: Running pip as the 'root' user can result in broken permissions and conflicting behaviour with the system package manager. It is recommended to use a virtual environment instead: https://pip.pypa.io/warnings/venv\u001b[0m\u001b[33m\n",
      "\u001b[0m"
     ]
    }
   ],
   "source": [
    "!pip install torch tensorflow flax"
   ]
  },
  {
   "cell_type": "code",
   "execution_count": 1,
   "id": "fc71ea7c-3537-48cb-afd9-819b7a882bc3",
   "metadata": {
    "tags": []
   },
   "outputs": [],
   "source": [
    "from transformers import AutoTokenizer, AutoModel"
   ]
  },
  {
   "cell_type": "code",
   "execution_count": 2,
   "id": "c16ec732-9edf-4604-bee6-682e4c4bdb7c",
   "metadata": {
    "tags": []
   },
   "outputs": [
    {
     "data": {
      "application/vnd.jupyter.widget-view+json": {
       "model_id": "42967823523b4c509f32179a08bff1c3",
       "version_major": 2,
       "version_minor": 0
      },
      "text/plain": [
       "Downloading:   0%|          | 0.00/440M [00:00<?, ?B/s]"
      ]
     },
     "metadata": {},
     "output_type": "display_data"
    }
   ],
   "source": [
    "# load model and tokenizer\n",
    "tokenizer = AutoTokenizer.from_pretrained('allenai/specter')\n",
    "model = AutoModel.from_pretrained('allenai/specter')"
   ]
  },
  {
   "cell_type": "code",
   "execution_count": 5,
   "id": "20805b39-15ed-4ebb-9570-3c5406006db8",
   "metadata": {
    "tags": []
   },
   "outputs": [],
   "source": [
    "papers = [{'title': 'BERT', 'abstract': 'We introduce a new language representation model called BERT'},\n",
    "          {'title': 'Attention is all you need', 'abstract': ' The dominant sequence transduction models are based on complex recurrent or convolutional neural networks'}]"
   ]
  },
  {
   "cell_type": "code",
   "execution_count": 6,
   "id": "056d576f-03c6-45f2-b3db-330c0e020006",
   "metadata": {
    "tags": []
   },
   "outputs": [],
   "source": [
    "title_abs = [d['title'] + tokenizer.sep_token + (d.get('abstract') or '') for d in papers]"
   ]
  },
  {
   "cell_type": "code",
   "execution_count": 7,
   "id": "0be16292-022a-4be6-97cb-fec72f8bdd9a",
   "metadata": {
    "tags": []
   },
   "outputs": [
    {
     "data": {
      "text/plain": [
       "['BERT[SEP]We introduce a new language representation model called BERT',\n",
       " 'Attention is all you need[SEP] The dominant sequence transduction models are based on complex recurrent or convolutional neural networks']"
      ]
     },
     "execution_count": 7,
     "metadata": {},
     "output_type": "execute_result"
    }
   ],
   "source": [
    "title_abs"
   ]
  },
  {
   "cell_type": "code",
   "execution_count": 8,
   "id": "5a7ad480-8109-464e-ab01-5dbdd301c502",
   "metadata": {
    "tags": []
   },
   "outputs": [],
   "source": [
    "inputs = tokenizer(title_abs, padding=True, truncation=True, return_tensors=\"pt\", max_length=512)"
   ]
  },
  {
   "cell_type": "code",
   "execution_count": 9,
   "id": "bbc5f1f1-dcc5-4c73-a40a-cc88c8c672be",
   "metadata": {
    "tags": []
   },
   "outputs": [],
   "source": [
    "result = model(**inputs)"
   ]
  },
  {
   "cell_type": "code",
   "execution_count": 10,
   "id": "eaa7078c-934d-48e3-979b-fd72694cecab",
   "metadata": {
    "tags": []
   },
   "outputs": [],
   "source": [
    "embeddings = result.last_hidden_state[:, 0, :]"
   ]
  },
  {
   "cell_type": "code",
   "execution_count": 13,
   "id": "3672d23c-31d6-4761-b075-5b43bdf52a88",
   "metadata": {
    "tags": []
   },
   "outputs": [
    {
     "data": {
      "text/plain": [
       "tensor([[-0.8396,  1.1466, -0.5104,  ...,  0.2768,  0.5574,  0.4750],\n",
       "        [-0.2387,  1.2555, -0.0795,  ...,  0.6506,  0.0522,  0.4762]],\n",
       "       grad_fn=<SliceBackward0>)"
      ]
     },
     "execution_count": 13,
     "metadata": {},
     "output_type": "execute_result"
    }
   ],
   "source": [
    "embeddings"
   ]
  },
  {
   "cell_type": "code",
   "execution_count": 14,
   "id": "cca6e39a-4b09-42fe-ac9e-f157a869bc18",
   "metadata": {
    "tags": []
   },
   "outputs": [
    {
     "data": {
      "text/plain": [
       "torch.Size([2, 768])"
      ]
     },
     "execution_count": 14,
     "metadata": {},
     "output_type": "execute_result"
    }
   ],
   "source": [
    "embeddings.shape"
   ]
  },
  {
   "cell_type": "code",
   "execution_count": null,
   "id": "8bb7e6ab-3720-4c0e-b224-0b7b010aae11",
   "metadata": {},
   "outputs": [],
   "source": []
  },
  {
   "cell_type": "code",
   "execution_count": 15,
   "id": "4e05fcd4-da03-45c8-8f07-f2366530836d",
   "metadata": {
    "tags": []
   },
   "outputs": [],
   "source": [
    "query = \"combinations of features predispose cohorts to virus susceptibility\""
   ]
  },
  {
   "cell_type": "code",
   "execution_count": 20,
   "id": "b52135ff-df29-438e-b4ac-983757449bc5",
   "metadata": {
    "tags": []
   },
   "outputs": [],
   "source": [
    "inputs = tokenizer(query, padding=True, truncation=True, return_tensors=\"pt\", max_length=512)"
   ]
  },
  {
   "cell_type": "code",
   "execution_count": 22,
   "id": "cc3f08dd-232a-470f-9d0e-562a38727df6",
   "metadata": {
    "tags": []
   },
   "outputs": [],
   "source": [
    "result = model(**inputs)"
   ]
  },
  {
   "cell_type": "code",
   "execution_count": 23,
   "id": "cba7dbfb-b267-429c-99e7-8e3c40d828fb",
   "metadata": {
    "tags": []
   },
   "outputs": [],
   "source": [
    "embeddings = result.last_hidden_state[:, 0, :]"
   ]
  },
  {
   "cell_type": "code",
   "execution_count": 26,
   "id": "b2ab2b94-c1e4-447d-a406-32d35b44d681",
   "metadata": {
    "tags": []
   },
   "outputs": [
    {
     "data": {
      "text/plain": [
       "tensor([[ 6.0644e-01,  4.5608e-01, -1.9733e-01, -1.4000e-01,  3.8806e-01,\n",
       "         -2.3541e-01,  1.1569e-01, -4.3078e-02,  4.6698e-01,  5.6430e-01,\n",
       "         -3.7291e-01,  3.3369e-01,  3.6717e-01,  7.3242e-01,  8.8083e-02,\n",
       "         -2.6862e-01, -6.5062e-01, -4.4042e-01,  3.4811e-01, -7.3365e-01,\n",
       "         -6.1763e-01, -5.4101e-01,  2.0877e-01,  9.9541e-01,  4.0103e-01,\n",
       "         -2.5571e-01,  7.0517e-01,  4.1392e-01,  9.6338e-01,  7.8989e-02,\n",
       "          4.5065e-01,  7.8947e-01, -3.2017e-01, -5.7835e-02, -6.4329e-01,\n",
       "          5.7164e-01, -7.7052e-01,  5.0511e-01, -1.4912e-01, -4.4977e-01,\n",
       "         -6.0914e-01,  3.7523e-01,  3.8359e-01, -7.9113e-02,  8.2881e-01,\n",
       "         -1.2878e-01, -2.3211e-01, -3.0275e-02,  1.3337e-01,  3.6271e-01,\n",
       "          2.1469e-01,  7.7993e-02,  6.3043e-01, -2.8178e-01,  5.6945e-01,\n",
       "         -4.3253e-02,  3.0536e-01, -1.2824e-01, -1.8138e-02, -1.0244e+00,\n",
       "         -4.4284e-01,  3.0854e-01, -6.6208e-01,  7.6713e-03,  2.3484e-01,\n",
       "         -2.4951e-01, -8.4970e-02,  3.8282e-01,  4.9554e-01,  6.3701e-01,\n",
       "          7.5758e-02, -7.2359e-01,  3.0950e-01, -2.1017e-01,  3.9277e-01,\n",
       "         -7.1552e-02, -8.1158e-01,  1.4566e-01,  1.1012e-01, -1.5394e-01,\n",
       "          4.0114e-01,  1.9455e-01, -4.9877e-02, -7.1769e-01,  1.6396e-03,\n",
       "         -1.2182e+00,  1.9358e-01, -5.7615e-01,  3.2490e-01, -1.3341e+00,\n",
       "          4.9311e-01,  3.6094e-01,  3.9822e-01,  4.0589e-01,  1.8394e-02,\n",
       "          7.4125e-01,  1.0809e-01,  6.3758e-02, -4.6032e-01,  1.3837e-01,\n",
       "         -2.1995e-01, -7.2065e-01,  1.3989e+00, -6.6499e-01, -3.4117e-01,\n",
       "          7.9153e-01, -3.5249e-01, -3.6404e-01, -1.6107e-01, -2.5097e-02,\n",
       "         -7.1080e-01,  2.4449e-01, -3.4380e-01,  6.8370e-02, -4.3859e-02,\n",
       "          4.5805e-01,  6.2005e-01,  1.8262e-01, -6.4833e-02, -3.3966e-01,\n",
       "         -8.5787e-01, -1.1564e+00, -5.8633e-01, -3.1196e-01,  9.1651e-01,\n",
       "          4.9326e-02,  6.3017e-01,  4.1102e-01, -6.1561e-01, -6.9169e-01,\n",
       "          6.8508e-01,  6.7440e-01,  7.1443e-01,  1.9819e-02,  1.9197e+00,\n",
       "         -5.4879e-01,  8.6554e-01,  5.0337e-02,  3.3748e-02, -2.3072e-01,\n",
       "         -6.1287e-01, -6.7838e-03,  7.8339e-01, -7.2599e-01, -1.1820e+00,\n",
       "          4.6126e-02,  3.1330e-01, -1.7182e-01, -5.8666e-01,  3.0177e-01,\n",
       "          4.2100e-01,  9.2764e-01,  9.6840e-02, -3.7549e-01,  6.2040e-02,\n",
       "          5.1111e-01, -7.0648e-02, -1.5689e-01,  7.8000e-02,  5.7606e-02,\n",
       "         -1.4207e-01,  1.3726e-01, -2.0041e-01,  2.2393e-02,  1.1087e-01,\n",
       "          3.3081e-01,  5.9673e-01,  7.8018e-02, -4.5242e-01,  8.1923e-01,\n",
       "         -4.4243e-01, -1.0688e-01, -2.6532e-01,  4.4407e-01, -4.3327e-01,\n",
       "         -2.2094e-01,  3.8777e-01, -2.2557e-01,  5.2301e-01,  2.9872e-01,\n",
       "          1.6377e-01,  2.0735e-01, -1.0968e+00,  4.9723e-01,  6.1824e-01,\n",
       "         -2.9022e-01, -7.9379e-01, -4.1373e-01, -6.7214e-01, -3.6470e-01,\n",
       "         -2.4022e-01, -3.0267e-01, -8.8119e-02,  6.9979e-01,  8.2367e-02,\n",
       "          4.7000e-01, -5.4905e-02, -1.4536e+00,  1.1689e-01,  3.0876e-02,\n",
       "         -2.2235e-02, -9.4131e-02,  5.0842e-01,  3.4552e-01, -1.2379e-01,\n",
       "          1.7854e-01, -1.8375e-01, -7.0181e-01,  3.3462e-01,  6.8128e-01,\n",
       "          7.4299e-02,  1.9358e-01, -5.5063e-01, -5.1222e-01, -4.7118e-01,\n",
       "         -1.2645e+00, -1.3136e-01, -5.0089e-01, -1.0630e-01, -1.2140e+00,\n",
       "          2.7899e-01, -3.5731e-01,  2.8651e-01, -1.3153e-01,  1.3785e+00,\n",
       "          8.2053e-02, -2.5532e-01, -1.4671e-01, -1.0589e+00, -1.0386e-01,\n",
       "          1.0068e+00, -4.3883e-01,  1.3834e-01,  3.3934e-01, -4.5105e-01,\n",
       "          3.9370e-01,  2.9202e-01, -3.3593e-01, -7.7092e-01,  2.7142e-01,\n",
       "         -2.9482e-01, -4.9099e-01, -2.1053e-01, -4.7458e-02, -2.0366e-01,\n",
       "          2.1093e-01, -6.3777e-01, -1.5472e-01, -2.7128e-01, -2.0674e-02,\n",
       "          3.4539e-01,  4.9451e-01,  5.5338e-01,  7.6589e-01, -7.0587e-01,\n",
       "          5.9432e-01,  2.3608e-01, -6.9636e-01, -3.4248e-01, -2.6737e-01,\n",
       "          1.3866e-01, -3.6575e-01,  2.5678e-01, -2.1001e-01,  6.3459e-02,\n",
       "         -2.2652e-01, -8.0441e-01, -5.0749e-02, -3.3949e-01,  3.7257e-02,\n",
       "         -1.1085e+00,  2.2081e-01, -4.8631e-01,  9.6459e-02, -9.9700e-02,\n",
       "         -2.9145e-01, -2.1368e-01,  6.3726e-01,  1.1549e+00,  3.8597e-01,\n",
       "         -2.8320e-01, -6.9359e-01,  6.6687e-01, -7.7710e-02,  3.2286e-01,\n",
       "         -4.8348e-01, -3.8241e-01, -6.6150e-01, -5.9868e-01, -2.8648e-01,\n",
       "         -3.6768e-01,  4.8181e-02,  5.1849e-01,  4.0422e-01, -8.9083e-01,\n",
       "          1.8512e-03,  4.8202e-01,  3.3026e-01,  9.5170e-01, -5.0905e-01,\n",
       "          8.5850e-01, -2.6847e-01, -1.9562e-01, -4.8375e-01, -1.5732e-02,\n",
       "         -7.7280e-02,  5.6705e-01, -1.5728e-02,  6.5409e-01,  9.3912e-01,\n",
       "         -3.0953e-01,  7.4764e-02,  4.2534e-01, -1.8273e+00, -1.4819e-01,\n",
       "          9.1562e-02, -8.8878e-02, -1.9627e-02, -6.7960e-03, -2.5312e-01,\n",
       "         -5.8457e-02, -7.3646e-02, -1.5313e-01,  2.2386e-01,  6.6741e-01,\n",
       "         -1.0230e-01,  5.3875e-01,  6.1108e-02, -5.0667e-02, -1.5109e-02,\n",
       "          9.7986e-01,  3.1257e-02, -8.8354e-01, -3.5934e-01,  9.1079e-02,\n",
       "          4.6902e-01,  4.8482e-01,  2.7690e-01,  8.0377e-01,  1.6974e-01,\n",
       "         -4.6306e-01, -4.8075e-01, -2.4334e-01, -1.3515e-01,  1.4344e-01,\n",
       "         -3.9367e-01, -1.9248e-01,  2.3799e-01,  7.4434e-01,  5.3283e-01,\n",
       "          5.3107e-01, -7.6903e-01, -4.2257e-02,  1.2580e-02, -9.4016e-01,\n",
       "         -4.8897e-01,  2.8066e-01,  7.1155e-01,  4.9633e-01, -2.7760e-02,\n",
       "          7.2539e-01,  6.9115e-01,  3.3968e-01, -6.2689e-02,  5.1106e-01,\n",
       "         -1.1980e-01,  3.8411e-01, -5.6687e-02,  6.9718e-01,  2.8702e-01,\n",
       "         -2.8687e-01,  5.5618e-02, -4.3909e-01,  4.6343e-01,  1.7711e-01,\n",
       "          3.4779e-01,  1.8343e-01,  7.7022e-02,  6.0289e-01, -3.8101e-01,\n",
       "         -1.3125e-01,  7.0109e-02, -9.0783e-01, -5.8124e-01, -1.7835e-01,\n",
       "          3.3060e-02, -4.2958e-01, -5.1115e-01,  3.9719e-01,  2.4093e-01,\n",
       "          1.5552e-01,  1.3263e+00, -8.7462e-01, -1.3651e+00, -7.2128e-02,\n",
       "         -1.5494e-01, -1.6826e-01,  1.6955e-01, -5.0825e-01,  2.5832e-02,\n",
       "          1.1304e+00,  5.2855e-02, -8.4416e-01, -3.7195e-01, -3.0246e-01,\n",
       "         -1.5794e+00,  3.2810e-01,  8.6848e-01, -6.8716e-01, -1.3552e-01,\n",
       "         -4.3682e-01, -3.0054e-01, -5.4705e-01,  8.7564e-02, -2.3162e-01,\n",
       "         -1.3085e-01, -8.5821e-01,  1.1671e+00,  1.5170e-01, -6.4864e-02,\n",
       "          4.6715e-02,  1.3835e+00,  9.0326e-01,  2.3569e-01,  2.1618e-01,\n",
       "         -4.0062e-01, -1.5269e-01,  8.2324e-01, -1.1727e-01,  4.9366e-01,\n",
       "          1.5901e-01,  2.4482e-01,  6.0290e-01,  4.2366e-01,  3.4452e-01,\n",
       "         -8.1414e-02,  8.1497e-01,  6.6126e-01, -3.8803e-01,  9.1618e-01,\n",
       "         -5.6161e-01,  6.2772e-01,  1.1498e+00, -1.1951e-01, -7.2919e-01,\n",
       "          3.6183e-01, -9.2852e-01, -5.7193e-01, -2.3758e-01, -1.5676e+00,\n",
       "          8.3784e-01,  1.2544e-02, -3.3403e-01,  2.6981e-02, -1.4822e+01,\n",
       "          8.0837e-01, -2.0781e-01,  1.0837e+00,  4.9633e-01,  6.3966e-01,\n",
       "          3.5270e-01,  4.0283e-02,  1.0914e+00, -5.4469e-01, -2.2778e-01,\n",
       "          7.7960e-01, -4.8623e-01,  3.3906e-02, -5.2671e-02, -5.9947e-01,\n",
       "          8.9791e-02, -4.5465e-01, -2.3422e-01, -2.6103e-01, -3.5186e-01,\n",
       "         -1.1060e+00,  4.6447e-01, -4.3844e-01,  1.0467e-01, -2.4606e-01,\n",
       "          1.9568e-01, -2.2824e-01,  3.8557e-02,  8.8999e-01, -9.3257e-02,\n",
       "          1.6460e-01,  1.4375e-02, -1.4515e-01, -5.0356e-01,  6.2875e-01,\n",
       "         -4.9378e-01, -1.5629e-01,  5.4121e-01,  1.0898e-01,  3.4463e-01,\n",
       "          1.1919e-01, -6.4999e-02, -9.1234e-02, -2.2517e-01, -4.0665e-01,\n",
       "          2.2958e-01,  2.0669e-01,  3.2539e-02, -1.5848e-01,  1.9051e-02,\n",
       "         -3.9678e-02,  1.6896e-01, -5.7298e-02,  2.9212e-01, -1.6499e-01,\n",
       "         -1.0893e+00,  3.3423e-01, -7.7796e-01, -1.2122e+00,  5.8149e-01,\n",
       "         -4.1434e-02, -4.0593e-01,  5.5723e-01, -1.9063e-01, -5.7401e-02,\n",
       "         -6.2228e-01,  4.7427e-01,  2.4875e-01, -2.1646e-01,  2.3017e-01,\n",
       "          5.4105e-01,  7.3241e-01,  7.7209e-01, -2.7739e-01, -6.0044e-02,\n",
       "          5.4163e-01, -3.0816e-01, -5.5744e-02, -1.0034e-01, -6.4844e-01,\n",
       "         -2.8628e-01, -7.5128e-01,  2.7852e-01, -1.6016e-01, -4.7882e-01,\n",
       "         -3.0903e-01, -1.0102e+00,  7.2675e-01,  6.8842e-01, -1.9672e-01,\n",
       "          6.5052e-01,  1.5276e-01,  6.4576e-02, -4.5667e-01,  4.5317e-01,\n",
       "         -1.8997e-01,  1.4994e-01, -5.3292e-01, -1.7519e-02, -1.5065e-01,\n",
       "          6.6771e-01, -1.4155e-01,  7.1971e-02,  1.2105e+00,  3.4487e-01,\n",
       "          2.8841e-02, -2.3566e-01,  4.4958e-01,  3.7467e-02,  7.3052e-01,\n",
       "         -3.7527e-01,  6.8508e-01,  1.7996e+00,  1.5513e-01,  7.0122e-01,\n",
       "          3.3824e-01, -1.9257e-01, -3.6389e-01,  8.2199e-01, -4.6248e-01,\n",
       "         -6.1022e-01,  6.6245e-01,  5.1840e-01,  2.2192e-01,  6.0671e-01,\n",
       "          1.4900e-02,  8.5628e-02, -1.2002e+00, -1.7120e-01, -7.2304e-02,\n",
       "         -1.7700e-01,  1.3179e-01, -8.1317e-02,  2.0692e-01, -7.2945e-01,\n",
       "          9.4400e-02,  8.0010e-02,  2.3350e-01,  8.3336e-01, -7.3567e-01,\n",
       "         -4.1740e-02, -3.4031e-01,  5.6224e-01, -1.0194e+00, -4.0237e-02,\n",
       "         -6.2400e-01,  1.0642e-01, -5.0088e-01, -5.2049e-01, -4.1360e-02,\n",
       "         -8.0621e-01,  3.3119e-01,  4.8898e-01,  2.9209e-01, -9.7629e-01,\n",
       "          5.7737e-01,  1.8280e-01, -9.0346e-01, -1.0082e-01,  2.2367e-01,\n",
       "          6.1477e-01,  1.9124e-01,  1.5305e+00,  9.3682e-01, -4.2349e-01,\n",
       "         -7.0527e-01, -1.8032e-01, -3.5807e-01, -4.6397e-01,  6.0977e-01,\n",
       "         -6.9614e-01, -5.5720e-01, -3.7574e-01,  3.1102e-01, -5.7949e-01,\n",
       "         -6.6580e-02,  4.9659e-01, -5.7829e-01, -1.2503e-01, -1.1704e-01,\n",
       "          5.2238e-01,  5.8966e-01, -9.0109e-01, -7.8002e-02,  3.2693e-01,\n",
       "          6.2478e-01,  1.8383e-01, -1.7321e-01,  6.0569e-01, -1.1673e+00,\n",
       "         -6.1386e-01, -3.4879e-01,  2.4124e-01,  3.7865e-01, -2.1751e-01,\n",
       "          1.4731e+00,  2.9287e-01, -1.1202e+00, -4.3107e-01, -2.2700e-01,\n",
       "         -4.9740e-01,  6.8368e-01, -6.8132e-01, -2.3904e-01,  2.9107e-01,\n",
       "         -1.0242e+00, -6.7255e-02,  6.3160e-01,  5.3077e-01, -3.6629e-01,\n",
       "         -4.1069e-01,  3.2211e-01, -1.5845e-01, -7.9884e-01, -9.9474e-01,\n",
       "          1.4056e-01,  1.0466e-01, -4.3215e-01,  4.1731e-01,  5.8412e-01,\n",
       "          9.0746e-01, -2.4091e-01,  7.1700e-01,  2.3648e-01,  7.9616e-01,\n",
       "          3.2822e-01, -4.5022e-01,  9.1343e-01,  9.9577e-02, -5.0080e-01,\n",
       "          8.7640e-01, -8.4617e-01, -2.4961e-01, -2.6040e-01, -4.8741e-02,\n",
       "          2.0633e-01,  4.6171e-01, -8.2521e-01,  3.9478e-01, -4.1404e-02,\n",
       "          8.0973e-01,  6.0694e-01,  7.7281e-01, -6.9574e-01, -1.0907e+00,\n",
       "         -2.2649e-01, -1.7386e-01,  2.0326e-01,  2.8304e-01,  2.7242e-01,\n",
       "          5.5965e-01,  8.7685e-02, -6.0234e-02,  2.0947e-01,  5.9834e-02,\n",
       "          1.9274e-01, -4.9696e-02,  8.0348e-01,  1.3441e+00,  2.7775e-01,\n",
       "         -7.3071e-01,  8.0589e-02, -1.3960e-01, -8.0014e-01,  6.3668e-01,\n",
       "         -5.8001e-01, -4.0339e-02,  1.7801e-01, -3.7078e-01,  6.2722e-01,\n",
       "          3.9879e-01,  2.0755e-01, -1.4667e-01,  4.4218e-01, -4.1748e-01,\n",
       "         -4.3211e-01, -8.2339e-01, -5.1592e-01,  2.2596e-01,  5.3275e-01,\n",
       "         -1.0586e-01, -5.4329e-01,  3.2453e-02,  1.4665e-02,  5.8642e-01,\n",
       "         -5.3399e-01, -4.9877e-01,  9.6213e-01,  3.0343e-01,  6.9769e-01,\n",
       "          5.0210e-01, -7.2486e-01,  3.8142e-01, -3.9274e-01, -8.1599e-02,\n",
       "          8.6666e-01,  1.5963e-01, -6.3597e-01,  3.6887e-02,  1.6015e-01,\n",
       "         -3.9204e-01, -4.2938e-01,  1.9668e-01,  9.0571e-02, -3.9888e-01,\n",
       "          1.1772e+00,  1.1131e+00, -1.9108e-01, -9.6022e-02,  2.3835e-01,\n",
       "          5.9641e-01,  6.4337e-01, -8.1660e-02]], grad_fn=<SliceBackward0>)"
      ]
     },
     "execution_count": 26,
     "metadata": {},
     "output_type": "execute_result"
    }
   ],
   "source": [
    "embeddings"
   ]
  },
  {
   "cell_type": "code",
   "execution_count": 27,
   "id": "b33b9a84-7f60-433e-bcf4-c5d6c8524432",
   "metadata": {
    "tags": []
   },
   "outputs": [
    {
     "data": {
      "text/plain": [
       "torch.Size([1, 768])"
      ]
     },
     "execution_count": 27,
     "metadata": {},
     "output_type": "execute_result"
    }
   ],
   "source": [
    "embeddings.shape"
   ]
  },
  {
   "cell_type": "code",
   "execution_count": null,
   "id": "11d84cc8-d25e-4d5d-b91a-49f21c47c174",
   "metadata": {},
   "outputs": [],
   "source": []
  }
 ],
 "metadata": {
  "kernelspec": {
   "display_name": "Python 3 (ipykernel)",
   "language": "python",
   "name": "python3"
  },
  "language_info": {
   "codemirror_mode": {
    "name": "ipython",
    "version": 3
   },
   "file_extension": ".py",
   "mimetype": "text/x-python",
   "name": "python",
   "nbconvert_exporter": "python",
   "pygments_lexer": "ipython3",
   "version": "3.9.16"
  }
 },
 "nbformat": 4,
 "nbformat_minor": 5
}
