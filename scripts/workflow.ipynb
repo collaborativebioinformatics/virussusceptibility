{
 "cells": [
  {
   "cell_type": "code",
   "execution_count": 2,
   "id": "294350a8-58f6-4a41-adc9-d4e6bce24f0d",
   "metadata": {
    "collapsed": true,
    "jupyter": {
     "outputs_hidden": true
    },
    "tags": []
   },
   "outputs": [
    {
     "name": "stdout",
     "output_type": "stream",
     "text": [
      "\u001b[33mWARNING: The directory '/home/dnanexus/.cache/pip' or its parent directory is not owned or is not writable by the current user. The cache has been disabled. Check the permissions and owner of that directory. If executing pip with sudo, you should use sudo's -H flag.\u001b[0m\u001b[33m\n",
      "\u001b[0mCollecting transformers==4.2\n",
      "  Downloading transformers-4.2.0-py3-none-any.whl (1.8 MB)\n",
      "\u001b[2K     \u001b[90m━━━━━━━━━━━━━━━━━━━━━━━━━━━━━━━━━━━━━━━━\u001b[0m \u001b[32m1.8/1.8 MB\u001b[0m \u001b[31m173.5 MB/s\u001b[0m eta \u001b[36m0:00:00\u001b[0m\n",
      "\u001b[?25hRequirement already satisfied: requests in /opt/conda/lib/python3.9/site-packages (from transformers==4.2) (2.28.2)\n",
      "Requirement already satisfied: packaging in /opt/conda/lib/python3.9/site-packages (from transformers==4.2) (23.0)\n",
      "Requirement already satisfied: tqdm>=4.27 in /opt/conda/lib/python3.9/site-packages (from transformers==4.2) (4.65.0)\n",
      "Collecting tokenizers==0.9.4\n",
      "  Downloading tokenizers-0.9.4-cp39-cp39-manylinux2010_x86_64.whl (2.9 MB)\n",
      "\u001b[2K     \u001b[90m━━━━━━━━━━━━━━━━━━━━━━━━━━━━━━━━━━━━━━━━\u001b[0m \u001b[32m2.9/2.9 MB\u001b[0m \u001b[31m279.7 MB/s\u001b[0m eta \u001b[36m0:00:00\u001b[0m\n",
      "\u001b[?25hCollecting filelock\n",
      "  Downloading filelock-3.12.4-py3-none-any.whl (11 kB)\n",
      "Collecting sacremoses\n",
      "  Downloading sacremoses-0.0.53.tar.gz (880 kB)\n",
      "\u001b[2K     \u001b[90m━━━━━━━━━━━━━━━━━━━━━━━━━━━━━━━━━━━━━\u001b[0m \u001b[32m880.6/880.6 kB\u001b[0m \u001b[31m343.2 MB/s\u001b[0m eta \u001b[36m0:00:00\u001b[0m\n",
      "\u001b[?25h  Preparing metadata (setup.py) ... \u001b[?25ldone\n",
      "\u001b[?25hRequirement already satisfied: numpy in /opt/conda/lib/python3.9/site-packages (from transformers==4.2) (1.23.5)\n",
      "Collecting regex!=2019.12.17\n",
      "  Downloading regex-2023.10.3-cp39-cp39-manylinux_2_17_x86_64.manylinux2014_x86_64.whl (773 kB)\n",
      "\u001b[2K     \u001b[90m━━━━━━━━━━━━━━━━━━━━━━━━━━━━━━━━━━━━━\u001b[0m \u001b[32m773.3/773.3 kB\u001b[0m \u001b[31m341.3 MB/s\u001b[0m eta \u001b[36m0:00:00\u001b[0m\n",
      "\u001b[?25hRequirement already satisfied: urllib3<1.27,>=1.21.1 in /opt/conda/lib/python3.9/site-packages (from requests->transformers==4.2) (1.26.15)\n",
      "Requirement already satisfied: certifi>=2017.4.17 in /opt/conda/lib/python3.9/site-packages (from requests->transformers==4.2) (2023.7.22)\n",
      "Requirement already satisfied: idna<4,>=2.5 in /opt/conda/lib/python3.9/site-packages (from requests->transformers==4.2) (3.4)\n",
      "Requirement already satisfied: charset-normalizer<4,>=2 in /opt/conda/lib/python3.9/site-packages (from requests->transformers==4.2) (2.0.4)\n",
      "Requirement already satisfied: six in /opt/conda/lib/python3.9/site-packages (from sacremoses->transformers==4.2) (1.16.0)\n",
      "Requirement already satisfied: click in /opt/conda/lib/python3.9/site-packages (from sacremoses->transformers==4.2) (8.1.7)\n",
      "Collecting joblib\n",
      "  Downloading joblib-1.3.2-py3-none-any.whl (302 kB)\n",
      "\u001b[2K     \u001b[90m━━━━━━━━━━━━━━━━━━━━━━━━━━━━━━━━━━━━━\u001b[0m \u001b[32m302.2/302.2 kB\u001b[0m \u001b[31m324.8 MB/s\u001b[0m eta \u001b[36m0:00:00\u001b[0m\n",
      "\u001b[?25hBuilding wheels for collected packages: sacremoses\n",
      "  Building wheel for sacremoses (setup.py) ... \u001b[?25ldone\n",
      "\u001b[?25h  Created wheel for sacremoses: filename=sacremoses-0.0.53-py3-none-any.whl size=895241 sha256=846728cda3e17877839e88d619fa669d1016b44a195113e13bfecae5ef0bed5e\n",
      "  Stored in directory: /tmp/pip-ephem-wheel-cache-cyew5gpi/wheels/12/1c/3d/46cf06718d63a32ff798a89594b61e7f345ab6b36d909ce033\n",
      "Successfully built sacremoses\n",
      "Installing collected packages: tokenizers, regex, joblib, filelock, sacremoses, transformers\n",
      "Successfully installed filelock-3.12.4 joblib-1.3.2 regex-2023.10.3 sacremoses-0.0.53 tokenizers-0.9.4 transformers-4.2.0\n",
      "\u001b[33mWARNING: Running pip as the 'root' user can result in broken permissions and conflicting behaviour with the system package manager. It is recommended to use a virtual environment instead: https://pip.pypa.io/warnings/venv\u001b[0m\u001b[33m\n",
      "\u001b[0m"
     ]
    }
   ],
   "source": [
    "!pip install --upgrade transformers==4.2"
   ]
  },
  {
   "cell_type": "code",
   "execution_count": 3,
   "id": "8ea46c9f-8a9d-422b-b6d8-669358c68d04",
   "metadata": {
    "collapsed": true,
    "jupyter": {
     "outputs_hidden": true
    },
    "tags": []
   },
   "outputs": [
    {
     "name": "stdout",
     "output_type": "stream",
     "text": [
      "\u001b[33mWARNING: The directory '/home/dnanexus/.cache/pip' or its parent directory is not owned or is not writable by the current user. The cache has been disabled. Check the permissions and owner of that directory. If executing pip with sudo, you should use sudo's -H flag.\u001b[0m\u001b[33m\n",
      "\u001b[0mCollecting torch\n",
      "  Downloading torch-2.1.0-cp39-cp39-manylinux1_x86_64.whl (670.2 MB)\n",
      "\u001b[2K     \u001b[90m━━━━━━━━━━━━━━━━━━━━━━━━━━━━━━━━━━━━━\u001b[0m \u001b[32m670.2/670.2 MB\u001b[0m \u001b[31m156.4 MB/s\u001b[0m eta \u001b[36m0:00:00\u001b[0m00:01\u001b[0m00:01\u001b[0m\n",
      "\u001b[?25hCollecting tensorflow\n",
      "  Downloading tensorflow-2.14.0-cp39-cp39-manylinux_2_17_x86_64.manylinux2014_x86_64.whl (489.8 MB)\n",
      "\u001b[2K     \u001b[90m━━━━━━━━━━━━━━━━━━━━━━━━━━━━━━━━━━━━━\u001b[0m \u001b[32m489.8/489.8 MB\u001b[0m \u001b[31m277.0 MB/s\u001b[0m eta \u001b[36m0:00:00\u001b[0m00:01\u001b[0m00:01\u001b[0m\n",
      "\u001b[?25hCollecting flax\n",
      "  Downloading flax-0.7.4-py3-none-any.whl (233 kB)\n",
      "\u001b[2K     \u001b[90m━━━━━━━━━━━━━━━━━━━━━━━━━━━━━━━━━━━━━\u001b[0m \u001b[32m233.5/233.5 kB\u001b[0m \u001b[31m342.6 MB/s\u001b[0m eta \u001b[36m0:00:00\u001b[0m\n",
      "\u001b[?25hCollecting sympy\n",
      "  Downloading sympy-1.12-py3-none-any.whl (5.7 MB)\n",
      "\u001b[2K     \u001b[90m━━━━━━━━━━━━━━━━━━━━━━━━━━━━━━━━━━━━━━━━\u001b[0m \u001b[32m5.7/5.7 MB\u001b[0m \u001b[31m295.4 MB/s\u001b[0m eta \u001b[36m0:00:00\u001b[0m\n",
      "\u001b[?25hRequirement already satisfied: filelock in /opt/conda/lib/python3.9/site-packages (from torch) (3.12.4)\n",
      "Collecting nvidia-cuda-nvrtc-cu12==12.1.105\n",
      "  Downloading nvidia_cuda_nvrtc_cu12-12.1.105-py3-none-manylinux1_x86_64.whl (23.7 MB)\n",
      "\u001b[2K     \u001b[90m━━━━━━━━━━━━━━━━━━━━━━━━━━━━━━━━━━━━━━━\u001b[0m \u001b[32m23.7/23.7 MB\u001b[0m \u001b[31m359.2 MB/s\u001b[0m eta \u001b[36m0:00:00\u001b[0ma \u001b[36m0:00:01\u001b[0m\n",
      "\u001b[?25hCollecting nvidia-cusparse-cu12==12.1.0.106\n",
      "  Downloading nvidia_cusparse_cu12-12.1.0.106-py3-none-manylinux1_x86_64.whl (196.0 MB)\n",
      "\u001b[2K     \u001b[90m━━━━━━━━━━━━━━━━━━━━━━━━━━━━━━━━━━━━━\u001b[0m \u001b[32m196.0/196.0 MB\u001b[0m \u001b[31m360.8 MB/s\u001b[0m eta \u001b[36m0:00:00\u001b[0m00:01\u001b[0m00:01\u001b[0m\n",
      "\u001b[?25hCollecting nvidia-cublas-cu12==12.1.3.1\n",
      "  Downloading nvidia_cublas_cu12-12.1.3.1-py3-none-manylinux1_x86_64.whl (410.6 MB)\n",
      "\u001b[2K     \u001b[90m━━━━━━━━━━━━━━━━━━━━━━━━━━━━━━━━━━━━━\u001b[0m \u001b[32m410.6/410.6 MB\u001b[0m \u001b[31m356.5 MB/s\u001b[0m eta \u001b[36m0:00:00\u001b[0m00:01\u001b[0m00:01\u001b[0m\n",
      "\u001b[?25hRequirement already satisfied: typing-extensions in /opt/conda/lib/python3.9/site-packages (from torch) (4.7.1)\n",
      "Collecting fsspec\n",
      "  Downloading fsspec-2023.9.2-py3-none-any.whl (173 kB)\n",
      "\u001b[2K     \u001b[90m━━━━━━━━━━━━━━━━━━━━━━━━━━━━━━━━━━━━━\u001b[0m \u001b[32m173.4/173.4 kB\u001b[0m \u001b[31m320.2 MB/s\u001b[0m eta \u001b[36m0:00:00\u001b[0m\n",
      "\u001b[?25hCollecting nvidia-cusolver-cu12==11.4.5.107\n",
      "  Downloading nvidia_cusolver_cu12-11.4.5.107-py3-none-manylinux1_x86_64.whl (124.2 MB)\n",
      "\u001b[2K     \u001b[90m━━━━━━━━━━━━━━━━━━━━━━━━━━━━━━━━━━━━━\u001b[0m \u001b[32m124.2/124.2 MB\u001b[0m \u001b[31m355.4 MB/s\u001b[0m eta \u001b[36m0:00:00\u001b[0ma \u001b[36m0:00:01\u001b[0m\n",
      "\u001b[?25hRequirement already satisfied: networkx in /opt/conda/lib/python3.9/site-packages (from torch) (2.8.8)\n",
      "Collecting nvidia-curand-cu12==10.3.2.106\n",
      "  Downloading nvidia_curand_cu12-10.3.2.106-py3-none-manylinux1_x86_64.whl (56.5 MB)\n",
      "\u001b[2K     \u001b[90m━━━━━━━━━━━━━━━━━━━━━━━━━━━━━━━━━━━━━━━\u001b[0m \u001b[32m56.5/56.5 MB\u001b[0m \u001b[31m364.7 MB/s\u001b[0m eta \u001b[36m0:00:00\u001b[0ma \u001b[36m0:00:01\u001b[0m\n",
      "\u001b[?25hCollecting triton==2.1.0\n",
      "  Downloading triton-2.1.0-0-cp39-cp39-manylinux2014_x86_64.manylinux_2_17_x86_64.whl (89.3 MB)\n",
      "\u001b[2K     \u001b[90m━━━━━━━━━━━━━━━━━━━━━━━━━━━━━━━━━━━━━━━\u001b[0m \u001b[32m89.3/89.3 MB\u001b[0m \u001b[31m274.3 MB/s\u001b[0m eta \u001b[36m0:00:00\u001b[0m00:01\u001b[0m00:01\u001b[0m\n",
      "\u001b[?25hCollecting nvidia-cufft-cu12==11.0.2.54\n",
      "  Downloading nvidia_cufft_cu12-11.0.2.54-py3-none-manylinux1_x86_64.whl (121.6 MB)\n",
      "\u001b[2K     \u001b[90m━━━━━━━━━━━━━━━━━━━━━━━━━━━━━━━━━━━━━\u001b[0m \u001b[32m121.6/121.6 MB\u001b[0m \u001b[31m360.5 MB/s\u001b[0m eta \u001b[36m0:00:00\u001b[0ma \u001b[36m0:00:01\u001b[0m\n",
      "\u001b[?25hCollecting nvidia-nvtx-cu12==12.1.105\n",
      "  Downloading nvidia_nvtx_cu12-12.1.105-py3-none-manylinux1_x86_64.whl (99 kB)\n",
      "\u001b[2K     \u001b[90m━━━━━━━━━━━━━━━━━━━━━━━━━━━━━━━━━━━━━━━\u001b[0m \u001b[32m99.1/99.1 kB\u001b[0m \u001b[31m261.8 MB/s\u001b[0m eta \u001b[36m0:00:00\u001b[0m\n",
      "\u001b[?25hCollecting nvidia-nccl-cu12==2.18.1\n",
      "  Downloading nvidia_nccl_cu12-2.18.1-py3-none-manylinux1_x86_64.whl (209.8 MB)\n",
      "\u001b[2K     \u001b[90m━━━━━━━━━━━━━━━━━━━━━━━━━━━━━━━━━━━━━\u001b[0m \u001b[32m209.8/209.8 MB\u001b[0m \u001b[31m351.9 MB/s\u001b[0m eta \u001b[36m0:00:00\u001b[0m00:01\u001b[0m00:01\u001b[0m\n",
      "\u001b[?25hCollecting nvidia-cuda-cupti-cu12==12.1.105\n",
      "  Downloading nvidia_cuda_cupti_cu12-12.1.105-py3-none-manylinux1_x86_64.whl (14.1 MB)\n",
      "\u001b[2K     \u001b[90m━━━━━━━━━━━━━━━━━━━━━━━━━━━━━━━━━━━━━━━\u001b[0m \u001b[32m14.1/14.1 MB\u001b[0m \u001b[31m342.0 MB/s\u001b[0m eta \u001b[36m0:00:00\u001b[0ma \u001b[36m0:00:01\u001b[0m\n",
      "\u001b[?25hRequirement already satisfied: jinja2 in /opt/conda/lib/python3.9/site-packages (from torch) (3.1.2)\n",
      "Collecting nvidia-cudnn-cu12==8.9.2.26\n",
      "  Downloading nvidia_cudnn_cu12-8.9.2.26-py3-none-manylinux1_x86_64.whl (731.7 MB)\n",
      "\u001b[2K     \u001b[90m━━━━━━━━━━━━━━━━━━━━━━━━━━━━━━━━━━━━━\u001b[0m \u001b[32m731.7/731.7 MB\u001b[0m \u001b[31m258.1 MB/s\u001b[0m eta \u001b[36m0:00:00\u001b[0m00:01\u001b[0m00:01\u001b[0m\n",
      "\u001b[?25hCollecting nvidia-cuda-runtime-cu12==12.1.105\n",
      "  Downloading nvidia_cuda_runtime_cu12-12.1.105-py3-none-manylinux1_x86_64.whl (823 kB)\n",
      "\u001b[2K     \u001b[90m━━━━━━━━━━━━━━━━━━━━━━━━━━━━━━━━━━━━━\u001b[0m \u001b[32m823.6/823.6 kB\u001b[0m \u001b[31m335.4 MB/s\u001b[0m eta \u001b[36m0:00:00\u001b[0m\n",
      "\u001b[?25hCollecting nvidia-nvjitlink-cu12\n",
      "  Downloading nvidia_nvjitlink_cu12-12.3.52-py3-none-manylinux1_x86_64.whl (20.5 MB)\n",
      "\u001b[2K     \u001b[90m━━━━━━━━━━━━━━━━━━━━━━━━━━━━━━━━━━━━━━━\u001b[0m \u001b[32m20.5/20.5 MB\u001b[0m \u001b[31m260.5 MB/s\u001b[0m eta \u001b[36m0:00:00\u001b[0ma \u001b[36m0:00:01\u001b[0m\n",
      "\u001b[?25hCollecting h5py>=2.9.0\n",
      "  Downloading h5py-3.10.0-cp39-cp39-manylinux_2_17_x86_64.manylinux2014_x86_64.whl (4.8 MB)\n",
      "\u001b[2K     \u001b[90m━━━━━━━━━━━━━━━━━━━━━━━━━━━━━━━━━━━━━━━━\u001b[0m \u001b[32m4.8/4.8 MB\u001b[0m \u001b[31m284.5 MB/s\u001b[0m eta \u001b[36m0:00:00\u001b[0m\n",
      "\u001b[?25hCollecting protobuf!=4.21.0,!=4.21.1,!=4.21.2,!=4.21.3,!=4.21.4,!=4.21.5,<5.0.0dev,>=3.20.3\n",
      "  Downloading protobuf-4.24.4-cp37-abi3-manylinux2014_x86_64.whl (311 kB)\n",
      "\u001b[2K     \u001b[90m━━━━━━━━━━━━━━━━━━━━━━━━━━━━━━━━━━━━━\u001b[0m \u001b[32m311.6/311.6 kB\u001b[0m \u001b[31m333.8 MB/s\u001b[0m eta \u001b[36m0:00:00\u001b[0m\n",
      "\u001b[?25hCollecting absl-py>=1.0.0\n",
      "  Downloading absl_py-2.0.0-py3-none-any.whl (130 kB)\n",
      "\u001b[2K     \u001b[90m━━━━━━━━━━━━━━━━━━━━━━━━━━━━━━━━━━━━━\u001b[0m \u001b[32m130.2/130.2 kB\u001b[0m \u001b[31m302.8 MB/s\u001b[0m eta \u001b[36m0:00:00\u001b[0m\n",
      "\u001b[?25hRequirement already satisfied: setuptools in /opt/conda/lib/python3.9/site-packages (from tensorflow) (65.6.3)\n",
      "Collecting grpcio<2.0,>=1.24.3\n",
      "  Downloading grpcio-1.59.0-cp39-cp39-manylinux_2_17_x86_64.manylinux2014_x86_64.whl (5.3 MB)\n",
      "\u001b[2K     \u001b[90m━━━━━━━━━━━━━━━━━━━━━━━━━━━━━━━━━━━━━━━━\u001b[0m \u001b[32m5.3/5.3 MB\u001b[0m \u001b[31m315.9 MB/s\u001b[0m eta \u001b[36m0:00:00\u001b[0m\n",
      "\u001b[?25hCollecting libclang>=13.0.0\n",
      "  Downloading libclang-16.0.6-py2.py3-none-manylinux2010_x86_64.whl (22.9 MB)\n",
      "\u001b[2K     \u001b[90m━━━━━━━━━━━━━━━━━━━━━━━━━━━━━━━━━━━━━━━\u001b[0m \u001b[32m22.9/22.9 MB\u001b[0m \u001b[31m361.9 MB/s\u001b[0m eta \u001b[36m0:00:00\u001b[0ma \u001b[36m0:00:01\u001b[0m\n",
      "\u001b[?25hCollecting astunparse>=1.6.0\n",
      "  Downloading astunparse-1.6.3-py2.py3-none-any.whl (12 kB)\n",
      "Collecting opt-einsum>=2.3.2\n",
      "  Downloading opt_einsum-3.3.0-py3-none-any.whl (65 kB)\n",
      "\u001b[2K     \u001b[90m━━━━━━━━━━━━━━━━━━━━━━━━━━━━━━━━━━━━━━━\u001b[0m \u001b[32m65.5/65.5 kB\u001b[0m \u001b[31m270.3 MB/s\u001b[0m eta \u001b[36m0:00:00\u001b[0m\n",
      "\u001b[?25hCollecting termcolor>=1.1.0\n",
      "  Downloading termcolor-2.3.0-py3-none-any.whl (6.9 kB)\n",
      "Requirement already satisfied: numpy>=1.23.5 in /opt/conda/lib/python3.9/site-packages (from tensorflow) (1.23.5)\n",
      "Collecting ml-dtypes==0.2.0\n",
      "  Downloading ml_dtypes-0.2.0-cp39-cp39-manylinux_2_17_x86_64.manylinux2014_x86_64.whl (1.0 MB)\n",
      "\u001b[2K     \u001b[90m━━━━━━━━━━━━━━━━━━━━━━━━━━━━━━━━━━━━━━━━\u001b[0m \u001b[32m1.0/1.0 MB\u001b[0m \u001b[31m341.1 MB/s\u001b[0m eta \u001b[36m0:00:00\u001b[0m\n",
      "\u001b[?25hRequirement already satisfied: packaging in /opt/conda/lib/python3.9/site-packages (from tensorflow) (23.0)\n",
      "Collecting tensorflow-estimator<2.15,>=2.14.0\n",
      "  Downloading tensorflow_estimator-2.14.0-py2.py3-none-any.whl (440 kB)\n",
      "\u001b[2K     \u001b[90m━━━━━━━━━━━━━━━━━━━━━━━━━━━━━━━━━━━━━\u001b[0m \u001b[32m440.7/440.7 kB\u001b[0m \u001b[31m330.2 MB/s\u001b[0m eta \u001b[36m0:00:00\u001b[0m\n",
      "\u001b[?25hCollecting tensorflow-io-gcs-filesystem>=0.23.1\n",
      "  Downloading tensorflow_io_gcs_filesystem-0.34.0-cp39-cp39-manylinux_2_12_x86_64.manylinux2010_x86_64.whl (2.4 MB)\n",
      "\u001b[2K     \u001b[90m━━━━━━━━━━━━━━━━━━━━━━━━━━━━━━━━━━━━━━━━\u001b[0m \u001b[32m2.4/2.4 MB\u001b[0m \u001b[31m301.3 MB/s\u001b[0m eta \u001b[36m0:00:00\u001b[0m\n",
      "\u001b[?25hCollecting google-pasta>=0.1.1\n",
      "  Downloading google_pasta-0.2.0-py3-none-any.whl (57 kB)\n",
      "\u001b[2K     \u001b[90m━━━━━━━━━━━━━━━━━━━━━━━━━━━━━━━━━━━━━━━\u001b[0m \u001b[32m57.5/57.5 kB\u001b[0m \u001b[31m252.6 MB/s\u001b[0m eta \u001b[36m0:00:00\u001b[0m\n",
      "\u001b[?25hCollecting tensorboard<2.15,>=2.14\n",
      "  Downloading tensorboard-2.14.1-py3-none-any.whl (5.5 MB)\n",
      "\u001b[2K     \u001b[90m━━━━━━━━━━━━━━━━━━━━━━━━━━━━━━━━━━━━━━━━\u001b[0m \u001b[32m5.5/5.5 MB\u001b[0m \u001b[31m290.2 MB/s\u001b[0m eta \u001b[36m0:00:00\u001b[0m\n",
      "\u001b[?25hCollecting keras<2.15,>=2.14.0\n",
      "  Downloading keras-2.14.0-py3-none-any.whl (1.7 MB)\n",
      "\u001b[2K     \u001b[90m━━━━━━━━━━━━━━━━━━━━━━━━━━━━━━━━━━━━━━━━\u001b[0m \u001b[32m1.7/1.7 MB\u001b[0m \u001b[31m295.9 MB/s\u001b[0m eta \u001b[36m0:00:00\u001b[0m\n",
      "\u001b[?25hCollecting wrapt<1.15,>=1.11.0\n",
      "  Downloading wrapt-1.14.1-cp39-cp39-manylinux_2_5_x86_64.manylinux1_x86_64.manylinux_2_17_x86_64.manylinux2014_x86_64.whl (77 kB)\n",
      "\u001b[2K     \u001b[90m━━━━━━━━━━━━━━━━━━━━━━━━━━━━━━━━━━━━━━━\u001b[0m \u001b[32m77.8/77.8 kB\u001b[0m \u001b[31m277.1 MB/s\u001b[0m eta \u001b[36m0:00:00\u001b[0m\n",
      "\u001b[?25hCollecting flatbuffers>=23.5.26\n",
      "  Downloading flatbuffers-23.5.26-py2.py3-none-any.whl (26 kB)\n",
      "Requirement already satisfied: six>=1.12.0 in /opt/conda/lib/python3.9/site-packages (from tensorflow) (1.16.0)\n",
      "Collecting gast!=0.5.0,!=0.5.1,!=0.5.2,>=0.2.1\n",
      "  Downloading gast-0.5.4-py3-none-any.whl (19 kB)\n",
      "Collecting jax>=0.4.2\n",
      "  Downloading jax-0.4.19-py3-none-any.whl (1.7 MB)\n",
      "\u001b[2K     \u001b[90m━━━━━━━━━━━━━━━━━━━━━━━━━━━━━━━━━━━━━━━━\u001b[0m \u001b[32m1.7/1.7 MB\u001b[0m \u001b[31m355.0 MB/s\u001b[0m eta \u001b[36m0:00:00\u001b[0m\n",
      "\u001b[?25hRequirement already satisfied: PyYAML>=5.4.1 in /opt/conda/lib/python3.9/site-packages (from flax) (5.4.1)\n",
      "Collecting rich>=11.1\n",
      "  Downloading rich-13.6.0-py3-none-any.whl (239 kB)\n",
      "\u001b[2K     \u001b[90m━━━━━━━━━━━━━━━━━━━━━━━━━━━━━━━━━━━━━\u001b[0m \u001b[32m239.8/239.8 kB\u001b[0m \u001b[31m326.6 MB/s\u001b[0m eta \u001b[36m0:00:00\u001b[0m\n",
      "\u001b[?25hCollecting tensorstore\n",
      "  Downloading tensorstore-0.1.46-cp39-cp39-manylinux_2_17_x86_64.manylinux2014_x86_64.whl (13.7 MB)\n",
      "\u001b[2K     \u001b[90m━━━━━━━━━━━━━━━━━━━━━━━━━━━━━━━━━━━━━━━\u001b[0m \u001b[32m13.7/13.7 MB\u001b[0m \u001b[31m193.7 MB/s\u001b[0m eta \u001b[36m0:00:00\u001b[0ma \u001b[36m0:00:01\u001b[0m\n",
      "\u001b[?25hCollecting optax\n",
      "  Downloading optax-0.1.7-py3-none-any.whl (154 kB)\n",
      "\u001b[2K     \u001b[90m━━━━━━━━━━━━━━━━━━━━━━━━━━━━━━━━━━━━━\u001b[0m \u001b[32m154.1/154.1 kB\u001b[0m \u001b[31m297.3 MB/s\u001b[0m eta \u001b[36m0:00:00\u001b[0m\n",
      "\u001b[?25hCollecting orbax-checkpoint\n",
      "  Downloading orbax_checkpoint-0.4.1-py3-none-any.whl (113 kB)\n",
      "\u001b[2K     \u001b[90m━━━━━━━━━━━━━━━━━━━━━━━━━━━━━━━━━━━━━\u001b[0m \u001b[32m113.5/113.5 kB\u001b[0m \u001b[31m301.8 MB/s\u001b[0m eta \u001b[36m0:00:00\u001b[0m\n",
      "\u001b[?25hCollecting msgpack\n",
      "  Downloading msgpack-1.0.7-cp39-cp39-manylinux_2_17_x86_64.manylinux2014_x86_64.whl (530 kB)\n",
      "\u001b[2K     \u001b[90m━━━━━━━━━━━━━━━━━━━━━━━━━━━━━━━━━━━━━\u001b[0m \u001b[32m531.0/531.0 kB\u001b[0m \u001b[31m340.7 MB/s\u001b[0m eta \u001b[36m0:00:00\u001b[0m\n",
      "\u001b[?25hRequirement already satisfied: wheel<1.0,>=0.23.0 in /opt/conda/lib/python3.9/site-packages (from astunparse>=1.6.0->tensorflow) (0.38.4)\n",
      "Requirement already satisfied: scipy>=1.9 in /opt/conda/lib/python3.9/site-packages (from jax>=0.4.2->flax) (1.9.3)\n",
      "Requirement already satisfied: importlib-metadata>=4.6 in /opt/conda/lib/python3.9/site-packages (from jax>=0.4.2->flax) (6.8.0)\n",
      "Collecting markdown-it-py>=2.2.0\n",
      "  Downloading markdown_it_py-3.0.0-py3-none-any.whl (87 kB)\n",
      "\u001b[2K     \u001b[90m━━━━━━━━━━━━━━━━━━━━━━━━━━━━━━━━━━━━━━━\u001b[0m \u001b[32m87.5/87.5 kB\u001b[0m \u001b[31m274.8 MB/s\u001b[0m eta \u001b[36m0:00:00\u001b[0m\n",
      "\u001b[?25hRequirement already satisfied: pygments<3.0.0,>=2.13.0 in /opt/conda/lib/python3.9/site-packages (from rich>=11.1->flax) (2.16.1)\n",
      "Collecting werkzeug>=1.0.1\n",
      "  Downloading werkzeug-3.0.0-py3-none-any.whl (226 kB)\n",
      "\u001b[2K     \u001b[90m━━━━━━━━━━━━━━━━━━━━━━━━━━━━━━━━━━━━━\u001b[0m \u001b[32m226.6/226.6 kB\u001b[0m \u001b[31m311.6 MB/s\u001b[0m eta \u001b[36m0:00:00\u001b[0m\n",
      "\u001b[?25hCollecting tensorboard-data-server<0.8.0,>=0.7.0\n",
      "  Downloading tensorboard_data_server-0.7.1-py3-none-manylinux2014_x86_64.whl (6.6 MB)\n",
      "\u001b[2K     \u001b[90m━━━━━━━━━━━━━━━━━━━━━━━━━━━━━━━━━━━━━━━━\u001b[0m \u001b[32m6.6/6.6 MB\u001b[0m \u001b[31m281.3 MB/s\u001b[0m eta \u001b[36m0:00:00\u001b[0m\n",
      "\u001b[?25hCollecting markdown>=2.6.8\n",
      "  Downloading Markdown-3.5-py3-none-any.whl (101 kB)\n",
      "\u001b[2K     \u001b[90m━━━━━━━━━━━━━━━━━━━━━━━━━━━━━━━━━━━━━\u001b[0m \u001b[32m101.7/101.7 kB\u001b[0m \u001b[31m304.6 MB/s\u001b[0m eta \u001b[36m0:00:00\u001b[0m\n",
      "\u001b[?25hCollecting google-auth-oauthlib<1.1,>=0.5\n",
      "  Downloading google_auth_oauthlib-1.0.0-py2.py3-none-any.whl (18 kB)\n",
      "Requirement already satisfied: requests<3,>=2.21.0 in /opt/conda/lib/python3.9/site-packages (from tensorboard<2.15,>=2.14->tensorflow) (2.28.2)\n",
      "Collecting google-auth<3,>=1.6.3\n",
      "  Downloading google_auth-2.23.3-py2.py3-none-any.whl (182 kB)\n",
      "\u001b[2K     \u001b[90m━━━━━━━━━━━━━━━━━━━━━━━━━━━━━━━━━━━━━\u001b[0m \u001b[32m182.3/182.3 kB\u001b[0m \u001b[31m309.4 MB/s\u001b[0m eta \u001b[36m0:00:00\u001b[0m\n",
      "\u001b[?25hRequirement already satisfied: MarkupSafe>=2.0 in /opt/conda/lib/python3.9/site-packages (from jinja2->torch) (2.1.1)\n",
      "Collecting chex>=0.1.5\n",
      "  Downloading chex-0.1.84-py3-none-any.whl (94 kB)\n",
      "\u001b[2K     \u001b[90m━━━━━━━━━━━━━━━━━━━━━━━━━━━━━━━━━━━━━━━\u001b[0m \u001b[32m94.8/94.8 kB\u001b[0m \u001b[31m296.0 MB/s\u001b[0m eta \u001b[36m0:00:00\u001b[0m\n",
      "\u001b[?25hCollecting jaxlib>=0.1.37\n",
      "  Downloading jaxlib-0.4.19-cp39-cp39-manylinux2014_x86_64.whl (85.3 MB)\n",
      "\u001b[2K     \u001b[90m━━━━━━━━━━━━━━━━━━━━━━━━━━━━━━━━━━━━━━━\u001b[0m \u001b[32m85.3/85.3 MB\u001b[0m \u001b[31m258.8 MB/s\u001b[0m eta \u001b[36m0:00:00\u001b[0m00:01\u001b[0m00:01\u001b[0m\n",
      "\u001b[?25hCollecting etils[epath,epy]\n",
      "  Downloading etils-1.5.1-py3-none-any.whl (140 kB)\n",
      "\u001b[2K     \u001b[90m━━━━━━━━━━━━━━━━━━━━━━━━━━━━━━━━━━━━━\u001b[0m \u001b[32m140.5/140.5 kB\u001b[0m \u001b[31m286.0 MB/s\u001b[0m eta \u001b[36m0:00:00\u001b[0m\n",
      "\u001b[?25hRequirement already satisfied: nest_asyncio in /opt/conda/lib/python3.9/site-packages (from orbax-checkpoint->flax) (1.5.6)\n",
      "Collecting tensorstore\n",
      "  Downloading tensorstore-0.1.45-cp39-cp39-manylinux_2_17_x86_64.manylinux2014_x86_64.whl (13.5 MB)\n",
      "\u001b[2K     \u001b[90m━━━━━━━━━━━━━━━━━━━━━━━━━━━━━━━━━━━━━━━\u001b[0m \u001b[32m13.5/13.5 MB\u001b[0m \u001b[31m172.3 MB/s\u001b[0m eta \u001b[36m0:00:00\u001b[0ma \u001b[36m0:00:01\u001b[0m\n",
      "\u001b[?25hCollecting mpmath>=0.19\n",
      "  Downloading mpmath-1.3.0-py3-none-any.whl (536 kB)\n",
      "\u001b[2K     \u001b[90m━━━━━━━━━━━━━━━━━━━━━━━━━━━━━━━━━━━━━\u001b[0m \u001b[32m536.2/536.2 kB\u001b[0m \u001b[31m239.9 MB/s\u001b[0m eta \u001b[36m0:00:00\u001b[0m\n",
      "\u001b[?25hRequirement already satisfied: toolz>=0.9.0 in /opt/conda/lib/python3.9/site-packages (from chex>=0.1.5->optax->flax) (0.12.0)\n",
      "Collecting numpy>=1.23.5\n",
      "  Downloading numpy-1.26.1-cp39-cp39-manylinux_2_17_x86_64.manylinux2014_x86_64.whl (18.2 MB)\n",
      "\u001b[2K     \u001b[90m━━━━━━━━━━━━━━━━━━━━━━━━━━━━━━━━━━━━━━━\u001b[0m \u001b[32m18.2/18.2 MB\u001b[0m \u001b[31m360.9 MB/s\u001b[0m eta \u001b[36m0:00:00\u001b[0ma \u001b[36m0:00:01\u001b[0m\n",
      "\u001b[?25hCollecting cachetools<6.0,>=2.0.0\n",
      "  Downloading cachetools-5.3.1-py3-none-any.whl (9.3 kB)\n",
      "Collecting pyasn1-modules>=0.2.1\n",
      "  Downloading pyasn1_modules-0.3.0-py2.py3-none-any.whl (181 kB)\n",
      "\u001b[2K     \u001b[90m━━━━━━━━━━━━━━━━━━━━━━━━━━━━━━━━━━━━━\u001b[0m \u001b[32m181.3/181.3 kB\u001b[0m \u001b[31m316.7 MB/s\u001b[0m eta \u001b[36m0:00:00\u001b[0m\n",
      "\u001b[?25hCollecting rsa<5,>=3.1.4\n",
      "  Downloading rsa-4.9-py3-none-any.whl (34 kB)\n",
      "Collecting requests-oauthlib>=0.7.0\n",
      "  Downloading requests_oauthlib-1.3.1-py2.py3-none-any.whl (23 kB)\n",
      "Requirement already satisfied: zipp>=0.5 in /opt/conda/lib/python3.9/site-packages (from importlib-metadata>=4.6->jax>=0.4.2->flax) (3.16.2)\n",
      "Collecting mdurl~=0.1\n",
      "  Downloading mdurl-0.1.2-py3-none-any.whl (10.0 kB)\n",
      "Requirement already satisfied: urllib3<1.27,>=1.21.1 in /opt/conda/lib/python3.9/site-packages (from requests<3,>=2.21.0->tensorboard<2.15,>=2.14->tensorflow) (1.26.15)\n",
      "Requirement already satisfied: charset-normalizer<4,>=2 in /opt/conda/lib/python3.9/site-packages (from requests<3,>=2.21.0->tensorboard<2.15,>=2.14->tensorflow) (2.0.4)\n",
      "Requirement already satisfied: certifi>=2017.4.17 in /opt/conda/lib/python3.9/site-packages (from requests<3,>=2.21.0->tensorboard<2.15,>=2.14->tensorflow) (2023.7.22)\n",
      "Requirement already satisfied: idna<4,>=2.5 in /opt/conda/lib/python3.9/site-packages (from requests<3,>=2.21.0->tensorboard<2.15,>=2.14->tensorflow) (3.4)\n",
      "Collecting numpy>=1.23.5\n",
      "  Downloading numpy-1.25.2-cp39-cp39-manylinux_2_17_x86_64.manylinux2014_x86_64.whl (18.3 MB)\n",
      "\u001b[2K     \u001b[90m━━━━━━━━━━━━━━━━━━━━━━━━━━━━━━━━━━━━━━━\u001b[0m \u001b[32m18.3/18.3 MB\u001b[0m \u001b[31m185.1 MB/s\u001b[0m eta \u001b[36m0:00:00\u001b[0ma \u001b[36m0:00:01\u001b[0m\n",
      "\u001b[?25hRequirement already satisfied: importlib_resources in /opt/conda/lib/python3.9/site-packages (from etils[epath,epy]->orbax-checkpoint->flax) (6.0.1)\n",
      "Collecting pyasn1<0.6.0,>=0.4.6\n",
      "  Downloading pyasn1-0.5.0-py2.py3-none-any.whl (83 kB)\n",
      "\u001b[2K     \u001b[90m━━━━━━━━━━━━━━━━━━━━━━━━━━━━━━━━━━━━━━━\u001b[0m \u001b[32m83.9/83.9 kB\u001b[0m \u001b[31m274.7 MB/s\u001b[0m eta \u001b[36m0:00:00\u001b[0m\n",
      "\u001b[?25hCollecting oauthlib>=3.0.0\n",
      "  Downloading oauthlib-3.2.2-py3-none-any.whl (151 kB)\n",
      "\u001b[2K     \u001b[90m━━━━━━━━━━━━━━━━━━━━━━━━━━━━━━━━━━━━━\u001b[0m \u001b[32m151.7/151.7 kB\u001b[0m \u001b[31m308.6 MB/s\u001b[0m eta \u001b[36m0:00:00\u001b[0m\n",
      "\u001b[?25hInstalling collected packages: mpmath, libclang, flatbuffers, wrapt, werkzeug, triton, termcolor, tensorflow-io-gcs-filesystem, tensorflow-estimator, tensorboard-data-server, sympy, pyasn1, protobuf, oauthlib, nvidia-nvtx-cu12, nvidia-nvjitlink-cu12, nvidia-nccl-cu12, nvidia-curand-cu12, nvidia-cufft-cu12, nvidia-cuda-runtime-cu12, nvidia-cuda-nvrtc-cu12, nvidia-cuda-cupti-cu12, nvidia-cublas-cu12, numpy, msgpack, mdurl, keras, grpcio, google-pasta, gast, fsspec, etils, cachetools, astunparse, absl-py, tensorstore, rsa, requests-oauthlib, pyasn1-modules, opt-einsum, nvidia-cusparse-cu12, nvidia-cudnn-cu12, ml-dtypes, markdown-it-py, markdown, h5py, rich, nvidia-cusolver-cu12, jaxlib, jax, google-auth, torch, orbax-checkpoint, google-auth-oauthlib, chex, tensorboard, optax, tensorflow, flax\n",
      "  Attempting uninstall: numpy\n",
      "    Found existing installation: numpy 1.23.5\n",
      "    Uninstalling numpy-1.23.5:\n",
      "      Successfully uninstalled numpy-1.23.5\n",
      "\u001b[31mERROR: pip's dependency resolver does not currently take into account all the packages that are installed. This behaviour is the source of the following dependency conflicts.\n",
      "dxdata 0.39.0 requires numpy==1.23.5; python_version >= \"3.8\", but you have numpy 1.25.2 which is incompatible.\u001b[0m\u001b[31m\n",
      "\u001b[0mSuccessfully installed absl-py-2.0.0 astunparse-1.6.3 cachetools-5.3.1 chex-0.1.84 etils-1.5.1 flatbuffers-23.5.26 flax-0.7.4 fsspec-2023.9.2 gast-0.5.4 google-auth-2.23.3 google-auth-oauthlib-1.0.0 google-pasta-0.2.0 grpcio-1.59.0 h5py-3.10.0 jax-0.4.19 jaxlib-0.4.19 keras-2.14.0 libclang-16.0.6 markdown-3.5 markdown-it-py-3.0.0 mdurl-0.1.2 ml-dtypes-0.2.0 mpmath-1.3.0 msgpack-1.0.7 numpy-1.25.2 nvidia-cublas-cu12-12.1.3.1 nvidia-cuda-cupti-cu12-12.1.105 nvidia-cuda-nvrtc-cu12-12.1.105 nvidia-cuda-runtime-cu12-12.1.105 nvidia-cudnn-cu12-8.9.2.26 nvidia-cufft-cu12-11.0.2.54 nvidia-curand-cu12-10.3.2.106 nvidia-cusolver-cu12-11.4.5.107 nvidia-cusparse-cu12-12.1.0.106 nvidia-nccl-cu12-2.18.1 nvidia-nvjitlink-cu12-12.3.52 nvidia-nvtx-cu12-12.1.105 oauthlib-3.2.2 opt-einsum-3.3.0 optax-0.1.7 orbax-checkpoint-0.4.1 protobuf-4.24.4 pyasn1-0.5.0 pyasn1-modules-0.3.0 requests-oauthlib-1.3.1 rich-13.6.0 rsa-4.9 sympy-1.12 tensorboard-2.14.1 tensorboard-data-server-0.7.1 tensorflow-2.14.0 tensorflow-estimator-2.14.0 tensorflow-io-gcs-filesystem-0.34.0 tensorstore-0.1.45 termcolor-2.3.0 torch-2.1.0 triton-2.1.0 werkzeug-3.0.0 wrapt-1.14.1\n",
      "\u001b[33mWARNING: Running pip as the 'root' user can result in broken permissions and conflicting behaviour with the system package manager. It is recommended to use a virtual environment instead: https://pip.pypa.io/warnings/venv\u001b[0m\u001b[33m\n",
      "\u001b[0m"
     ]
    }
   ],
   "source": [
    "!pip install torch tensorflow flax"
   ]
  },
  {
   "cell_type": "code",
   "execution_count": 74,
   "id": "d535e671-245a-478e-acef-090005823a01",
   "metadata": {
    "collapsed": true,
    "jupyter": {
     "outputs_hidden": true
    },
    "tags": []
   },
   "outputs": [
    {
     "name": "stdout",
     "output_type": "stream",
     "text": [
      "huggingface/tokenizers: The current process just got forked, after parallelism has already been used. Disabling parallelism to avoid deadlocks...\n",
      "To disable this warning, you can either:\n",
      "\t- Avoid using `tokenizers` before the fork if possible\n",
      "\t- Explicitly set the environment variable TOKENIZERS_PARALLELISM=(true | false)\n",
      "Collecting scikit-learn\n",
      "  Downloading scikit_learn-1.3.1-cp39-cp39-manylinux_2_17_x86_64.manylinux2014_x86_64.whl (10.9 MB)\n",
      "\u001b[2K     \u001b[90m━━━━━━━━━━━━━━━━━━━━━━━━━━━━━━━━━━━━━━━\u001b[0m \u001b[32m10.9/10.9 MB\u001b[0m \u001b[31m101.0 MB/s\u001b[0m eta \u001b[36m0:00:00\u001b[0m00:01\u001b[0m00:01\u001b[0m\n",
      "\u001b[?25hRequirement already satisfied: joblib>=1.1.1 in /opt/conda/lib/python3.9/site-packages (from scikit-learn) (1.3.2)\n",
      "Requirement already satisfied: numpy<2.0,>=1.17.3 in /opt/conda/lib/python3.9/site-packages (from scikit-learn) (1.25.2)\n",
      "Requirement already satisfied: scipy>=1.5.0 in /opt/conda/lib/python3.9/site-packages (from scikit-learn) (1.9.3)\n",
      "Collecting threadpoolctl>=2.0.0\n",
      "  Downloading threadpoolctl-3.2.0-py3-none-any.whl (15 kB)\n",
      "Installing collected packages: threadpoolctl, scikit-learn\n",
      "Successfully installed scikit-learn-1.3.1 threadpoolctl-3.2.0\n",
      "\u001b[33mWARNING: Running pip as the 'root' user can result in broken permissions and conflicting behaviour with the system package manager. It is recommended to use a virtual environment instead: https://pip.pypa.io/warnings/venv\u001b[0m\u001b[33m\n",
      "\u001b[0m"
     ]
    }
   ],
   "source": [
    "!pip install scikit-learn"
   ]
  },
  {
   "cell_type": "code",
   "execution_count": 1,
   "id": "cba12623-999e-4553-8006-422124c9e997",
   "metadata": {
    "tags": []
   },
   "outputs": [],
   "source": [
    "import numpy as np\n",
    "from collections import defaultdict\n",
    "from typing import List, Tuple\n",
    "\n",
    "import pandas as pd\n",
    "\n",
    "from transformers import AutoTokenizer, AutoModel\n",
    "\n",
    "import pickle"
   ]
  },
  {
   "cell_type": "markdown",
   "id": "e84d75d8-9f76-4bf0-ad4e-8a462d7b9936",
   "metadata": {},
   "source": [
    "Build a vector database"
   ]
  },
  {
   "cell_type": "code",
   "execution_count": 2,
   "id": "d73d8dd5-37cf-4dc8-a09a-73630f67c691",
   "metadata": {
    "tags": []
   },
   "outputs": [],
   "source": [
    "def cosine(v1: np.ndarray, v2: np.ndarray) -> float:\n",
    "    result = np.dot(v1, v2) / (np.linalg.norm(v1)*np.linalg.norm(v2))\n",
    "    return result"
   ]
  },
  {
   "cell_type": "code",
   "execution_count": 3,
   "id": "c2e14d71-5eb9-4332-b3b5-dff996701041",
   "metadata": {
    "tags": []
   },
   "outputs": [],
   "source": [
    "class VectorDatabase:\n",
    "    def __init__(self):\n",
    "        self.vectors = defaultdict(np.ndarray)\n",
    "\n",
    "    def insert(self, key: str, vector: np.ndarray) -> None:\n",
    "        self.vectors[key] = vector\n",
    "\n",
    "    def search(self, query_vector: np.ndarray, k: int) -> List[Tuple[str, float]]:\n",
    "        similarities = [(key, cosine(query_vector, vector)) for key, vector in self.vectors.items()]\n",
    "        similarities.sort(key=lambda x: x[1], reverse=True)\n",
    "        return similarities[:k]\n",
    "\n",
    "    def retrieve(self, key: str) -> np.ndarray:\n",
    "        return self.vectors.get(key, None)"
   ]
  },
  {
   "cell_type": "code",
   "execution_count": 4,
   "id": "1501ffb1-c91b-4177-b2d3-7219111bdd15",
   "metadata": {
    "tags": []
   },
   "outputs": [
    {
     "name": "stdout",
     "output_type": "stream",
     "text": [
      "CPU times: user 2min 36s, sys: 13.6 s, total: 2min 50s\n",
      "Wall time: 2min 50s\n"
     ]
    }
   ],
   "source": [
    "%%time\n",
    "\n",
    "# get embeddings from the file\n",
    "df = pd.read_csv(\"cord_19_embeddings_2022-06-02.csv\", header=None)"
   ]
  },
  {
   "cell_type": "code",
   "execution_count": 5,
   "id": "71e17a5f-0e16-47d6-add5-588dd279ae60",
   "metadata": {
    "tags": []
   },
   "outputs": [],
   "source": [
    "# create a vector database\n",
    "vector_db = VectorDatabase()"
   ]
  },
  {
   "cell_type": "code",
   "execution_count": 6,
   "id": "fbea3473-8367-4727-9b50-1c89d7887631",
   "metadata": {
    "tags": []
   },
   "outputs": [
    {
     "name": "stdout",
     "output_type": "stream",
     "text": [
      "CPU times: user 3min 25s, sys: 15.3 s, total: 3min 41s\n",
      "Wall time: 3min 41s\n"
     ]
    }
   ],
   "source": [
    "%%time\n",
    "\n",
    "# insert embeddings into the database\n",
    "for idx, row in df.iterrows():\n",
    "    key = row[0]\n",
    "    embedding = np.asarray(row[1:].tolist())\n",
    "    vector_db.insert(key, embedding)"
   ]
  },
  {
   "cell_type": "code",
   "execution_count": 145,
   "id": "45ce1144-9ed6-40d7-b064-8bc8aaae5fd3",
   "metadata": {
    "tags": []
   },
   "outputs": [
    {
     "data": {
      "text/plain": [
       "array([-2.93998361e+00, -6.31220055e+00, -1.04590309e+00,  5.16416264e+00,\n",
       "       -3.25646371e-01, -2.50741339e+00,  1.73560870e+00,  1.93635666e+00,\n",
       "        6.22501016e-01,  1.56131625e+00,  2.74769139e+00, -6.93097711e-01,\n",
       "       -3.71040940e-01, -5.88572502e+00, -1.09748483e+00, -4.65481567e+00,\n",
       "       -2.31646371e+00,  2.87495947e+00,  3.87578082e+00, -2.95981139e-01,\n",
       "        1.77025485e+00,  4.40059328e+00, -4.05934751e-01, -1.71624398e+00,\n",
       "       -4.76663411e-01, -2.57071376e+00,  4.59941769e+00,  1.63527846e-01,\n",
       "       -1.83473134e+00,  2.55786443e+00, -3.79167843e+00, -6.22489691e+00,\n",
       "       -3.53383869e-01, -1.08378506e+00, -1.04406953e-01, -2.09846401e+00,\n",
       "       -1.63153899e+00, -5.29200658e-02, -4.06286144e+00, -1.28650916e+00,\n",
       "       -1.26636600e+00, -1.17296696e+00,  4.73816156e+00, -3.18683219e+00,\n",
       "       -1.56449735e+00,  7.11834431e-01, -3.77992725e+00,  8.74405861e-01,\n",
       "        3.15015078e+00, -1.44715142e+00,  1.34749025e-01,  1.89116776e+00,\n",
       "        2.67670965e+00, -2.90206861e+00,  1.37396991e+00,  1.27825451e+00,\n",
       "       -1.61106181e+00,  5.34709263e+00,  1.78107190e+00, -1.02961993e+00,\n",
       "        7.50673652e-01,  1.71248066e+00, -4.68157053e+00,  1.81209838e+00,\n",
       "        2.56471217e-01, -7.91816354e-01, -2.76996565e+00,  2.98450017e+00,\n",
       "        6.03598881e+00,  6.76309615e-02,  3.34138441e+00, -1.13234365e+00,\n",
       "       -2.61620855e+00, -3.11609650e+00, -3.08250809e+00, -9.63006914e-02,\n",
       "        2.05275035e+00, -1.85494292e+00,  2.25063539e+00,  2.44657922e+00,\n",
       "       -6.50149012e+00, -6.95426464e-01, -3.98918986e+00,  1.37847042e+00,\n",
       "        7.08461809e+00,  3.53801668e-01,  4.46186066e+00,  2.71966600e+00,\n",
       "        3.49473476e+00,  9.83987808e-01, -3.67182040e+00, -7.54325151e-01,\n",
       "        1.01968217e+00, -2.22199392e+00, -1.99691761e+00, -2.40410662e+00,\n",
       "       -4.50946140e+00, -1.61734033e+00,  1.71529269e+00, -2.14958811e+00,\n",
       "        1.94391203e+00,  4.19646358e+00,  2.14091301e+00,  5.45886087e+00,\n",
       "       -7.81544876e+00, -9.18428183e-01,  2.68596315e+00, -1.60329556e+00,\n",
       "       -6.98978901e-01, -7.45475292e-01, -3.28284144e+00, -4.61295903e-01,\n",
       "        6.99031293e-01, -3.14601374e+00,  3.15527058e+00, -2.13983202e+00,\n",
       "       -4.19783711e-01,  2.69924450e+00,  6.70466721e-01,  2.64045644e+00,\n",
       "        1.56589538e-01,  1.97701156e+00, -1.99999094e+00,  4.61756802e+00,\n",
       "       -2.93342757e+00, -3.24177337e+00, -3.44996166e+00,  7.77315617e-01,\n",
       "       -2.61375070e-01,  3.33714461e+00,  3.13157845e+00,  4.79061747e+00,\n",
       "       -4.20455265e+00, -9.63344097e-01,  1.07515550e+00, -1.38188982e+00,\n",
       "        3.85720873e+00,  8.33456707e+00, -2.83544254e+00, -2.76031256e+00,\n",
       "        5.95590210e+00,  4.76642895e+00,  4.14123821e+00,  9.50718582e-01,\n",
       "        8.83954287e-01,  1.60118580e+00, -1.09291434e+00,  4.76792455e-02,\n",
       "       -5.87923452e-02, -3.27679968e+00, -9.54930782e-01,  7.14898109e+00,\n",
       "        3.54963613e+00, -6.24855995e-01,  5.90536022e+00,  1.14495397e+00,\n",
       "       -4.45285988e+00,  7.47709894e+00,  2.27076387e+00,  4.04632628e-01,\n",
       "        4.22267532e+00, -1.51997375e+00, -9.29924297e+00,  4.60049677e+00,\n",
       "        5.42391658e-01, -2.49478364e+00, -2.12023830e+00,  4.78692007e+00,\n",
       "       -1.11840606e-01,  1.14953029e+00,  1.65316701e+00,  2.65819502e+00,\n",
       "       -3.72744799e+00, -1.09765232e+00, -1.27671957e+00, -7.40029871e-01,\n",
       "        1.02566934e+00, -4.86551571e+00,  1.43287838e+00, -4.07134533e-01,\n",
       "       -2.09495306e+00, -4.95767307e+00,  2.87495756e+00, -5.55121565e+00,\n",
       "        2.22945309e+00, -2.35194302e+00, -2.58035064e+00, -6.51333714e+00,\n",
       "        4.60592651e+00,  4.52473450e+00,  8.13107312e-01, -1.24824095e+00,\n",
       "        4.11524266e-01,  4.86412096e+00, -3.53710127e+00, -1.87242794e+00,\n",
       "       -7.94359744e-01,  7.16743946e-01,  3.92549706e+00, -3.51376796e+00,\n",
       "       -2.63346404e-01, -9.95484889e-01, -7.21538067e-01, -3.63373518e+00,\n",
       "        6.82832479e-01,  3.11365986e+00, -4.08005810e+00,  3.88039780e+00,\n",
       "        8.60599232e+00,  3.45352352e-01, -9.24508452e-01, -4.05226737e-01,\n",
       "       -5.16102982e+00, -9.20684457e-01,  7.21443534e-01,  1.12195945e+00,\n",
       "       -4.90270913e-01,  1.91120476e-01, -3.64351869e+00,  4.68314022e-01,\n",
       "       -3.17131686e+00, -3.62203383e+00, -3.57017040e+00, -4.84296894e+00,\n",
       "        7.62852859e+00, -3.15715909e-01, -3.18995047e+00,  1.71428442e+00,\n",
       "        7.16727924e+00,  1.99026978e+00,  1.51912284e+00, -3.60184288e+00,\n",
       "       -1.27124894e+00, -2.55318046e+00,  5.43945849e-01,  1.13472402e-01,\n",
       "       -8.91750622e+00, -2.15298676e+00, -4.31644011e+00, -1.25988591e+00,\n",
       "        4.73041743e-01,  4.06142235e+00,  3.50340700e+00,  2.44526148e+00,\n",
       "        7.62359053e-03, -1.60521197e+00, -4.33836460e-01, -2.92123747e+00,\n",
       "        1.36541533e+00,  1.37965679e-01, -5.93248725e-01, -4.08539486e+00,\n",
       "        3.04906893e+00, -4.92566347e-01, -2.26560783e+00,  2.02365804e+00,\n",
       "       -1.25858381e-01,  2.17449570e+00,  5.04741892e-02,  5.29241228e+00,\n",
       "       -6.46851122e-01,  5.41028214e+00, -6.78901017e-01, -3.82157016e+00,\n",
       "       -1.64980400e+00,  1.64374232e+00,  1.42323703e-01,  1.35295308e+00,\n",
       "        1.67372060e+00,  1.22492588e+00,  1.57848692e+00, -6.96396470e-01,\n",
       "       -1.45214391e+00, -2.98988199e+00, -1.47984040e+00, -3.08523941e+00,\n",
       "        1.14409876e+00,  2.54382515e+00, -2.94765759e+00, -1.92561555e+00,\n",
       "       -4.26268721e+00,  6.46167874e-01,  3.28776026e+00, -3.18031120e+00,\n",
       "        1.51694238e+00, -1.80369630e-01, -3.22490096e+00,  5.41810155e-01,\n",
       "       -6.78996444e-02, -5.73822260e-01,  2.98368001e+00,  1.77417397e+00,\n",
       "       -1.78238511e-01, -4.99693584e+00, -1.90743172e+00,  9.89602208e-02,\n",
       "       -3.34981894e+00,  1.67845821e+00, -1.95993543e+00,  1.36430144e+00,\n",
       "        2.99145985e+00,  1.17648470e+00,  4.53552008e+00, -2.84210372e+00,\n",
       "        5.91819668e+00,  1.04902387e+00,  6.42072773e+00,  1.12780714e+00,\n",
       "        9.60515618e-01, -3.57799530e+00, -1.27756834e+00,  5.40169954e+00,\n",
       "        3.38125420e+00,  1.23617721e+00,  6.39853525e+00, -2.94056606e+00,\n",
       "       -3.21372175e+00, -1.21886492e+00,  3.95223498e-01,  1.18921757e+00,\n",
       "        1.51197159e+00, -5.72384405e+00,  1.45496154e+00, -5.68894958e+00,\n",
       "       -3.21792364e+00,  6.36736602e-02, -9.50387955e-01,  7.26492465e-01,\n",
       "        1.25847065e+00,  4.42964733e-01, -1.17795479e+00,  3.94634724e+00,\n",
       "       -3.99226725e-01,  1.18526936e+00,  4.64148092e+00,  7.48103857e-01,\n",
       "        8.61613750e-02, -1.20001602e+00,  1.85660696e+00, -4.19853020e+00,\n",
       "        9.26952004e-01, -1.40673995e+00,  3.74968529e-01,  1.12555933e+00,\n",
       "        2.72862768e+00,  4.90511703e+00,  6.60392284e-01, -6.32658780e-01,\n",
       "        1.47882926e+00,  2.54429865e+00,  6.06128311e+00, -2.98796606e+00,\n",
       "        1.73130965e+00,  2.00937462e+00, -5.29664695e-01, -1.37943721e+00,\n",
       "        1.11445236e+00, -3.71330643e+00,  7.25614309e-01, -2.58998299e+00,\n",
       "       -1.26906589e-01,  1.58022428e+00,  3.50158811e-02,  9.71534669e-01,\n",
       "        2.88439184e-01, -3.33576560e+00,  9.73816395e+00, -3.08004290e-01,\n",
       "        4.23272610e+00, -5.56190252e+00, -2.27795988e-01, -7.77013493e+00,\n",
       "        3.26096821e+00, -1.61488128e+00, -7.06566691e-01, -6.29122794e-01,\n",
       "       -7.66678238e+00, -4.00032949e+00,  4.60691261e+00, -1.15203559e+00,\n",
       "        1.19154304e-01,  5.08412361e+00, -1.71777868e+00,  1.68593001e+00,\n",
       "        4.63235903e+00,  6.10963202e+00, -6.34175825e+00,  9.65428352e-03,\n",
       "        7.29766369e-01,  3.48014307e+00, -3.16232538e+00,  4.13421249e+00,\n",
       "        3.02127743e+00, -1.28219590e-01, -3.02947044e+00,  2.45714188e+00,\n",
       "       -3.77008152e+00, -5.95873642e+00, -2.64895499e-01,  4.59513187e+00,\n",
       "       -1.31521368e+00, -4.14943337e-01,  2.78362703e+00,  9.24168408e-01,\n",
       "       -1.13157570e+00, -4.69202042e-01, -2.84375763e+00,  1.84438682e+00,\n",
       "       -1.58094788e+00,  2.30950403e+00, -9.28383470e-01,  1.78229070e+00,\n",
       "       -2.98288524e-01, -5.00085306e+00, -9.18759853e-02,  3.84496260e+00,\n",
       "       -2.60809159e+00, -9.38746452e-01,  1.89010310e+00,  3.95164061e+00,\n",
       "       -2.48681355e+00, -3.44565248e+00,  5.38483191e+00,  9.92244720e-01,\n",
       "       -1.03369260e+00,  1.50929761e+00, -1.68044698e+00,  2.33419394e+00,\n",
       "        4.18994617e+00,  4.83162212e+00, -3.56006920e-02,  3.95521832e+00,\n",
       "        5.14146996e+00,  2.89265966e+00,  2.77496195e+00, -1.62331983e-01,\n",
       "       -1.69526875e+00,  2.58248711e+00,  3.18772316e+00,  6.49793684e-01,\n",
       "       -4.13353205e-01, -8.21777725e+00, -2.77337933e+00,  2.38689995e+00,\n",
       "       -1.68916214e+00, -2.24734163e+00,  3.30179286e+00,  7.34312236e-01,\n",
       "        7.09859550e-01,  4.29688740e+00,  3.12362719e+00, -4.20950603e+00,\n",
       "       -1.54252934e+00,  2.29863787e+00, -4.10375929e+00,  4.72760296e+00,\n",
       "       -5.62558842e+00,  1.64714217e-01, -7.84545231e+00,  2.74497461e+00,\n",
       "        3.56862116e+00,  2.66403466e-01, -2.84332466e+00, -2.26176429e+00,\n",
       "        3.48335814e+00, -1.10714543e+00,  3.59709072e+00,  1.16663724e-01,\n",
       "       -3.12448978e+00,  9.02186394e-01,  1.09983516e+00, -4.39095068e+00,\n",
       "       -2.08671999e+00,  2.34808624e-02,  1.01125157e+00, -2.59067953e-01,\n",
       "       -8.53815734e-01,  2.74753660e-01, -1.36224389e-01, -1.83769321e+00,\n",
       "       -2.62652111e+00, -5.17705679e-01, -3.36651444e-01,  8.09948027e-01,\n",
       "        2.12718916e+00,  1.29273796e+00,  1.06247449e+00, -4.05011940e+00,\n",
       "        4.59261000e-01, -2.26133752e+00,  2.14006042e+00, -1.54953718e+00,\n",
       "        3.26105976e+00, -1.33665949e-01, -2.80507445e+00, -2.17685223e+00,\n",
       "       -6.99423254e-01,  5.47294617e+00,  3.06893229e+00, -4.01296616e-01,\n",
       "       -3.60529685e+00,  4.45642829e-01,  5.02986550e-01, -2.78366208e+00,\n",
       "       -6.10920191e-01,  7.36402154e-01,  2.34624958e+00,  1.57655668e+00,\n",
       "        4.60992336e-01, -8.03338408e-01, -1.52664948e+00,  4.27264541e-01,\n",
       "       -2.61097527e+00, -3.32576543e-01,  2.10591698e+00, -3.43651414e+00,\n",
       "       -2.75096178e-01,  1.77655530e+00,  1.09290814e+00, -7.03468800e+00,\n",
       "       -3.50304532e+00, -5.97813177e+00, -6.92240000e-01,  3.66761708e+00,\n",
       "       -7.36771151e-02, -1.41268444e+00, -3.73714876e+00, -1.37515530e-01,\n",
       "       -3.72891974e+00,  5.57988882e+00,  7.00606465e-01,  1.21842587e+00,\n",
       "        3.63653612e+00, -1.42991769e+00,  5.07158136e+00,  4.63638353e+00,\n",
       "        5.38561058e+00,  3.23333812e+00,  1.35982037e-03,  1.05218673e+00,\n",
       "        4.73077774e+00, -1.99358642e+00, -1.02847719e+00, -2.36736083e+00,\n",
       "       -3.60120487e+00,  1.86504507e+00,  5.07867813e-01, -3.20761061e+00,\n",
       "       -2.16339731e+00, -3.59454727e+00,  5.37218904e+00, -7.28592351e-02,\n",
       "        4.52455902e+00, -6.82468265e-02, -3.30094957e+00,  5.63730145e+00,\n",
       "        1.88317299e+00,  1.51866102e+00,  2.69155931e+00,  1.68577731e+00,\n",
       "        2.79970551e+00, -2.35260129e+00,  3.92083287e-01,  6.02455759e+00,\n",
       "       -4.49080080e-01, -2.39634514e+00, -1.24598056e-01, -4.55436617e-01,\n",
       "       -5.20130634e+00, -5.76686919e-01, -5.11790133e+00,  2.04209477e-01,\n",
       "       -1.23910785e+00, -5.38662338e+00,  3.02713442e+00,  1.17289960e+00,\n",
       "        8.91721535e+00, -2.28851509e+00, -2.72949487e-01, -9.92109179e-01,\n",
       "       -5.00871563e+00, -6.20284796e-01,  3.19079828e+00,  2.28524113e+00,\n",
       "       -1.57626522e+00, -6.26979947e-01, -2.38168120e+00,  4.94746923e+00,\n",
       "       -2.39626122e+00, -9.79940951e-01,  4.10836399e-01,  4.14584446e+00,\n",
       "       -7.55424404e+00,  4.90214205e+00,  6.66297913e-01, -6.65355825e+00,\n",
       "        4.28412378e-01, -2.70847052e-01,  1.80869722e+00,  1.19343626e+00,\n",
       "       -1.64338875e+00,  3.26388597e+00, -1.67680681e-01, -4.01703501e+00,\n",
       "        3.03745770e+00,  3.97383511e-01,  6.20484018e+00,  1.67555404e+00,\n",
       "        1.04996169e+00,  7.40633249e+00,  3.58587384e+00,  1.77829218e+00,\n",
       "        2.35070801e+01, -5.64134789e+00,  3.39789057e+00,  1.37768328e-01,\n",
       "        1.67779908e-01, -1.41513765e+00,  1.79775596e+00, -5.51625252e+00,\n",
       "        2.10765696e+00, -2.28182125e+00, -5.32705927e+00, -2.44048572e+00,\n",
       "       -3.44130754e-01, -2.36092901e+00, -3.35205346e-01, -1.93725631e-01,\n",
       "        2.94770455e+00,  1.90714371e+00,  1.28171563e+00, -2.33110213e+00,\n",
       "        5.44965458e+00,  6.58487737e-01,  4.69790936e+00,  5.96011925e+00,\n",
       "       -5.21047306e+00,  4.01865661e-01, -6.72101825e-02, -4.55640459e+00,\n",
       "        2.53885674e+00,  1.58577251e+00, -2.57237864e+00,  3.45148730e+00,\n",
       "        4.68283463e+00, -2.94128418e+00, -6.85546637e+00, -1.17108417e+00,\n",
       "        4.05151463e+00, -4.26307440e+00, -2.07276869e+00, -6.37051916e+00,\n",
       "       -4.07400191e-01, -2.75911236e+00, -2.76635766e+00,  1.63123965e+00,\n",
       "       -3.88940603e-01, -2.88864881e-01,  3.65614712e-01, -4.22288537e-01,\n",
       "       -3.32500839e+00,  5.08817291e+00,  1.01105303e-01, -2.45810556e+00,\n",
       "       -3.72385979e+00,  2.51163363e+00, -1.60193408e+00, -4.87369823e+00,\n",
       "        5.30153179e+00, -5.68577766e-01, -4.06751013e+00, -8.90453815e-01,\n",
       "       -2.41587698e-01, -2.46032238e+00, -4.01830673e+00,  2.22024679e-01,\n",
       "       -4.54370689e+00,  4.70699340e-01, -5.66918945e+00,  7.26238728e-01,\n",
       "        1.97784019e+00,  3.62570310e+00, -2.06551194e+00, -1.57093847e+00,\n",
       "        1.97287726e+00, -4.06838924e-01, -6.18003428e-01,  1.77048087e-01,\n",
       "       -3.49425554e+00, -3.21133614e+00, -1.43260777e+00,  1.18049932e+00,\n",
       "        2.86933446e+00,  1.87958479e-02, -5.83554077e+00, -6.51964378e+00,\n",
       "        6.04917097e+00,  1.61184728e+00, -1.63712800e+00, -7.26709843e-01,\n",
       "       -4.00001144e+00, -1.06693900e+00, -1.67171705e+00, -1.45268309e+00,\n",
       "        1.85182601e-01,  6.92804193e+00, -4.77539730e+00, -4.33336973e+00,\n",
       "       -5.51841831e+00, -6.04794455e+00, -1.77515078e+00, -4.13966227e+00,\n",
       "       -1.34495449e+00, -2.41082573e+00,  4.32540512e+00,  1.77493286e+00,\n",
       "       -3.48999143e+00,  2.43173981e+00,  2.07173252e+00, -6.91886842e-02,\n",
       "        6.70077726e-02,  3.94064999e+00,  1.04203832e+00, -2.97967315e-01,\n",
       "        4.39656925e+00,  2.34805965e+00,  9.76057351e-01,  3.99519062e+00,\n",
       "       -4.44802666e+00,  6.58609033e-01,  2.14694667e+00,  2.10823083e+00,\n",
       "        1.61720252e+00,  1.33203769e+00,  2.58203554e+00,  3.82388264e-01,\n",
       "        2.06233716e+00, -1.62515569e+00, -3.51314068e+00,  5.95153999e+00,\n",
       "       -1.80604100e+00,  4.87025309e+00,  2.02664399e+00, -1.32901669e+00,\n",
       "        3.48817587e+00, -3.48039961e+00, -3.01710415e+00,  1.30514705e+00,\n",
       "        4.79999733e+00,  2.09177494e+00,  3.65589285e+00,  7.50132418e+00,\n",
       "        1.72968709e+00, -2.76075125e+00,  6.78841472e-01,  9.05946922e+00,\n",
       "       -6.12162638e+00, -2.83315420e-01, -7.41917431e-01,  3.39471102e+00,\n",
       "        3.16369128e+00,  1.37289023e+00, -4.10711336e+00, -3.81741452e+00,\n",
       "        1.89761877e+00,  5.81152916e+00, -2.93238401e+00,  3.05204749e-01])"
      ]
     },
     "execution_count": 145,
     "metadata": {},
     "output_type": "execute_result"
    }
   ],
   "source": [
    "vector_db.retrieve(\"ug7v899j\")"
   ]
  },
  {
   "cell_type": "code",
   "execution_count": 119,
   "id": "18ccbc61-7f1d-4279-b0dc-7a103d07f854",
   "metadata": {
    "tags": []
   },
   "outputs": [
    {
     "data": {
      "text/plain": [
       "(768,)"
      ]
     },
     "execution_count": 119,
     "metadata": {},
     "output_type": "execute_result"
    }
   ],
   "source": [
    "tmp1.shape"
   ]
  },
  {
   "cell_type": "code",
   "execution_count": 7,
   "id": "bd621da8-579c-4891-a2d9-f9b34bfb30ed",
   "metadata": {
    "tags": []
   },
   "outputs": [],
   "source": [
    "# save the vector database to a file\n",
    "with open(\"CORD19_vector_database.p\", \"wb\") as f:\n",
    "    pickle.dump(vector_db, f, pickle.HIGHEST_PROTOCOL)"
   ]
  },
  {
   "cell_type": "code",
   "execution_count": 5,
   "id": "f3f95b2f-0798-471d-a401-fdf5edfa2453",
   "metadata": {
    "tags": []
   },
   "outputs": [
    {
     "ename": "KeyboardInterrupt",
     "evalue": "",
     "output_type": "error",
     "traceback": [
      "\u001b[0;31m---------------------------------------------------------------------------\u001b[0m",
      "\u001b[0;31mKeyboardInterrupt\u001b[0m                         Traceback (most recent call last)",
      "Cell \u001b[0;32mIn[5], line 3\u001b[0m\n\u001b[1;32m      1\u001b[0m \u001b[38;5;66;03m# load the vector database\u001b[39;00m\n\u001b[1;32m      2\u001b[0m \u001b[38;5;28;01mwith\u001b[39;00m \u001b[38;5;28mopen\u001b[39m(\u001b[38;5;124m\"\u001b[39m\u001b[38;5;124mCORD19_vector_database.p\u001b[39m\u001b[38;5;124m\"\u001b[39m, \u001b[38;5;124m\"\u001b[39m\u001b[38;5;124mrb\u001b[39m\u001b[38;5;124m\"\u001b[39m) \u001b[38;5;28;01mas\u001b[39;00m f:\n\u001b[0;32m----> 3\u001b[0m     vector_db \u001b[38;5;241m=\u001b[39m \u001b[43mpickle\u001b[49m\u001b[38;5;241;43m.\u001b[39;49m\u001b[43mload\u001b[49m\u001b[43m(\u001b[49m\u001b[43mf\u001b[49m\u001b[43m)\u001b[49m\n",
      "File \u001b[0;32m/opt/conda/lib/python3.9/site-packages/numpy/core/numeric.py:1851\u001b[0m, in \u001b[0;36m_frombuffer\u001b[0;34m(buf, dtype, shape, order)\u001b[0m\n\u001b[1;32m   1845\u001b[0m     \u001b[38;5;28;01mreturn\u001b[39;00m function(\u001b[38;5;241m*\u001b[39margs, \u001b[38;5;241m*\u001b[39m\u001b[38;5;241m*\u001b[39mkwargs)\n\u001b[1;32m   1848\u001b[0m _fromfunction_with_like \u001b[38;5;241m=\u001b[39m array_function_dispatch()(fromfunction)\n\u001b[0;32m-> 1851\u001b[0m \u001b[38;5;28;01mdef\u001b[39;00m \u001b[38;5;21m_frombuffer\u001b[39m(buf, dtype, shape, order):\n\u001b[1;32m   1852\u001b[0m     \u001b[38;5;28;01mreturn\u001b[39;00m frombuffer(buf, dtype\u001b[38;5;241m=\u001b[39mdtype)\u001b[38;5;241m.\u001b[39mreshape(shape, order\u001b[38;5;241m=\u001b[39morder)\n\u001b[1;32m   1855\u001b[0m \u001b[38;5;129m@set_module\u001b[39m(\u001b[38;5;124m'\u001b[39m\u001b[38;5;124mnumpy\u001b[39m\u001b[38;5;124m'\u001b[39m)\n\u001b[1;32m   1856\u001b[0m \u001b[38;5;28;01mdef\u001b[39;00m \u001b[38;5;21misscalar\u001b[39m(element):\n",
      "\u001b[0;31mKeyboardInterrupt\u001b[0m: "
     ]
    }
   ],
   "source": [
    "# load the vector database\n",
    "with open(\"CORD19_vector_database.p\", \"rb\") as f:\n",
    "    vector_db = pickle.load(f)"
   ]
  },
  {
   "cell_type": "markdown",
   "id": "c849e890-25c6-479f-b4cc-54fcc376fa34",
   "metadata": {},
   "source": [
    "Embed the query"
   ]
  },
  {
   "cell_type": "code",
   "execution_count": 7,
   "id": "59f6ccad-e1e4-4a66-863c-ac6a7dde3047",
   "metadata": {
    "tags": []
   },
   "outputs": [],
   "source": [
    "# load model and tokenizer\n",
    "tokenizer = AutoTokenizer.from_pretrained('allenai/specter')\n",
    "model = AutoModel.from_pretrained('allenai/specter')"
   ]
  },
  {
   "cell_type": "code",
   "execution_count": 164,
   "id": "ba3e912f-7fe1-4e34-831c-9b0c4d8fd263",
   "metadata": {
    "tags": []
   },
   "outputs": [],
   "source": [
    "paper = {\"title\": '''Clinical features of culture-proven Mycoplasma pneumoniae infections at King Abdulaziz University Hospital, Jeddah, Saudi Arabia''',\n",
    "        \"abstract\": '''Objective'''}"
   ]
  },
  {
   "cell_type": "code",
   "execution_count": 165,
   "id": "44d88489-9106-46a9-94d0-f5e3ac366616",
   "metadata": {
    "tags": []
   },
   "outputs": [],
   "source": [
    "query = paper.get('title') + tokenizer.sep_token + (paper.get('abstract') or '')"
   ]
  },
  {
   "cell_type": "code",
   "execution_count": 166,
   "id": "ba5e17e6-7e50-45b5-9b03-80ce9874142e",
   "metadata": {
    "tags": []
   },
   "outputs": [
    {
     "data": {
      "text/plain": [
       "'Clinical features of culture-proven Mycoplasma pneumoniae infections at King Abdulaziz University Hospital, Jeddah, Saudi Arabia[SEP]Objective'"
      ]
     },
     "execution_count": 166,
     "metadata": {},
     "output_type": "execute_result"
    }
   ],
   "source": [
    "query"
   ]
  },
  {
   "cell_type": "code",
   "execution_count": 167,
   "id": "026eca14-3de5-40be-99df-46f6a3c8c113",
   "metadata": {
    "tags": []
   },
   "outputs": [],
   "source": [
    "inputs = tokenizer(query, padding=True, truncation=True, return_tensors=\"pt\", max_length=512)"
   ]
  },
  {
   "cell_type": "code",
   "execution_count": 168,
   "id": "eab29c5f-4632-461b-a45c-71a11cea1986",
   "metadata": {
    "tags": []
   },
   "outputs": [],
   "source": [
    "result = model(**inputs)"
   ]
  },
  {
   "cell_type": "code",
   "execution_count": 169,
   "id": "fc8a4018-ad1a-4588-b57e-c15d3e1bb37a",
   "metadata": {
    "tags": []
   },
   "outputs": [],
   "source": [
    "query_embedding = result.last_hidden_state[:, 0, :]"
   ]
  },
  {
   "cell_type": "code",
   "execution_count": 170,
   "id": "08ea5a26-23d1-4117-853f-86653ee70647",
   "metadata": {
    "tags": []
   },
   "outputs": [],
   "source": [
    "query_embedding = query_embedding.detach().numpy()"
   ]
  },
  {
   "cell_type": "code",
   "execution_count": 154,
   "id": "a6da98d0-9242-4534-afae-f69f2c188832",
   "metadata": {
    "tags": []
   },
   "outputs": [],
   "source": [
    "query_embedding = query_embedding[0]"
   ]
  },
  {
   "cell_type": "code",
   "execution_count": 171,
   "id": "cf6276e2-e539-4d86-b5e0-1072dd53d2ea",
   "metadata": {
    "tags": []
   },
   "outputs": [
    {
     "data": {
      "text/plain": [
       "(1, 768)"
      ]
     },
     "execution_count": 171,
     "metadata": {},
     "output_type": "execute_result"
    }
   ],
   "source": [
    "query_embedding.shape"
   ]
  },
  {
   "cell_type": "markdown",
   "id": "7fdd4c07-dbab-42ac-9860-e2d3c83b1cdb",
   "metadata": {},
   "source": [
    "Query the database with the query embedding"
   ]
  },
  {
   "cell_type": "code",
   "execution_count": 161,
   "id": "16e00138-1e90-4f93-ad2a-bad7245832cd",
   "metadata": {
    "tags": []
   },
   "outputs": [
    {
     "name": "stdout",
     "output_type": "stream",
     "text": [
      "CPU times: user 7.74 s, sys: 0 ns, total: 7.74 s\n",
      "Wall time: 7.73 s\n"
     ]
    }
   ],
   "source": [
    "%%time\n",
    "result = vector_db.search(query_embedding, k=100)"
   ]
  },
  {
   "cell_type": "code",
   "execution_count": 158,
   "id": "446b8623-e83a-4331-9c28-81cc282d0242",
   "metadata": {
    "tags": []
   },
   "outputs": [],
   "source": [
    "res = result[0][0]"
   ]
  },
  {
   "cell_type": "markdown",
   "id": "7d41aa7d-b6fe-43e7-8a4a-7d16c6208455",
   "metadata": {},
   "source": [
    "Retrieve the article corresponding to the best result"
   ]
  },
  {
   "cell_type": "code",
   "execution_count": 159,
   "id": "af1660ec-18f6-4c48-88b0-478de0f00e42",
   "metadata": {
    "tags": []
   },
   "outputs": [],
   "source": [
    "# metadata_df = pd.read_csv(\"metadata.csv\")"
   ]
  },
  {
   "cell_type": "code",
   "execution_count": 160,
   "id": "91807f56-538d-4128-8d94-a9aa59e6f8d3",
   "metadata": {
    "tags": []
   },
   "outputs": [
    {
     "data": {
      "text/html": [
       "<div>\n",
       "<style scoped>\n",
       "    .dataframe tbody tr th:only-of-type {\n",
       "        vertical-align: middle;\n",
       "    }\n",
       "\n",
       "    .dataframe tbody tr th {\n",
       "        vertical-align: top;\n",
       "    }\n",
       "\n",
       "    .dataframe thead th {\n",
       "        text-align: right;\n",
       "    }\n",
       "</style>\n",
       "<table border=\"1\" class=\"dataframe\">\n",
       "  <thead>\n",
       "    <tr style=\"text-align: right;\">\n",
       "      <th></th>\n",
       "      <th>cord_uid</th>\n",
       "      <th>sha</th>\n",
       "      <th>source_x</th>\n",
       "      <th>title</th>\n",
       "      <th>doi</th>\n",
       "      <th>pmcid</th>\n",
       "      <th>pubmed_id</th>\n",
       "      <th>license</th>\n",
       "      <th>abstract</th>\n",
       "      <th>publish_time</th>\n",
       "      <th>authors</th>\n",
       "      <th>journal</th>\n",
       "      <th>mag_id</th>\n",
       "      <th>who_covidence_id</th>\n",
       "      <th>arxiv_id</th>\n",
       "      <th>pdf_json_files</th>\n",
       "      <th>pmc_json_files</th>\n",
       "      <th>url</th>\n",
       "      <th>s2_id</th>\n",
       "    </tr>\n",
       "  </thead>\n",
       "  <tbody>\n",
       "    <tr>\n",
       "      <th>573642</th>\n",
       "      <td>1t55jhaa</td>\n",
       "      <td>NaN</td>\n",
       "      <td>WHO</td>\n",
       "      <td>Coherent Stokes and anti-Stokes high-order com...</td>\n",
       "      <td>NaN</td>\n",
       "      <td>NaN</td>\n",
       "      <td>NaN</td>\n",
       "      <td>unk</td>\n",
       "      <td>In this Letter, we report on experimental effe...</td>\n",
       "      <td>2020</td>\n",
       "      <td>Shevchenko, M A; Chaikov, L L; Tcherniega, N V</td>\n",
       "      <td>Spectrochim Acta A Mol Biomol Spectrosc</td>\n",
       "      <td>NaN</td>\n",
       "      <td>#32942113</td>\n",
       "      <td>NaN</td>\n",
       "      <td>NaN</td>\n",
       "      <td>NaN</td>\n",
       "      <td>NaN</td>\n",
       "      <td>221787612.0</td>\n",
       "    </tr>\n",
       "  </tbody>\n",
       "</table>\n",
       "</div>"
      ],
      "text/plain": [
       "        cord_uid  sha source_x  \\\n",
       "573642  1t55jhaa  NaN      WHO   \n",
       "\n",
       "                                                    title  doi pmcid  \\\n",
       "573642  Coherent Stokes and anti-Stokes high-order com...  NaN   NaN   \n",
       "\n",
       "       pubmed_id license                                           abstract  \\\n",
       "573642       NaN     unk  In this Letter, we report on experimental effe...   \n",
       "\n",
       "       publish_time                                         authors  \\\n",
       "573642         2020  Shevchenko, M A; Chaikov, L L; Tcherniega, N V   \n",
       "\n",
       "                                        journal  mag_id who_covidence_id  \\\n",
       "573642  Spectrochim Acta A Mol Biomol Spectrosc     NaN        #32942113   \n",
       "\n",
       "       arxiv_id pdf_json_files pmc_json_files  url        s2_id  \n",
       "573642      NaN            NaN            NaN  NaN  221787612.0  "
      ]
     },
     "execution_count": 160,
     "metadata": {},
     "output_type": "execute_result"
    }
   ],
   "source": [
    "metadata_df[metadata_df.cord_uid == res]"
   ]
  },
  {
   "cell_type": "code",
   "execution_count": 137,
   "id": "a6360306-bc8c-409e-ba31-62a766915db7",
   "metadata": {
    "tags": []
   },
   "outputs": [],
   "source": [
    "doi = metadata_df[metadata_df.cord_uid == res][\"doi\"].to_string(index=False)\n",
    "title = metadata_df[metadata_df.cord_uid == res][\"title\"].to_string(index=False)\n",
    "abstract = metadata_df[metadata_df.cord_uid == res][\"abstract\"].to_string(index=False)"
   ]
  },
  {
   "cell_type": "code",
   "execution_count": 138,
   "id": "68129ccf-80ad-4670-931d-28aebe63aa62",
   "metadata": {
    "tags": []
   },
   "outputs": [
    {
     "name": "stdout",
     "output_type": "stream",
     "text": [
      "\n",
      "doi: NaN\n",
      "title: Probing the sensitivity to leptonic $\\delta_{CP...\n",
      "abstract: One of the main neutrino oscillation parameters...\n"
     ]
    }
   ],
   "source": [
    "print(f'''\n",
    "doi: {doi}\n",
    "title: {title}\n",
    "abstract: {abstract}''')"
   ]
  },
  {
   "cell_type": "code",
   "execution_count": null,
   "id": "7dcf7424-0e58-410b-b275-0e268085b7d7",
   "metadata": {},
   "outputs": [],
   "source": []
  }
 ],
 "metadata": {
  "kernelspec": {
   "display_name": "Python 3 (ipykernel)",
   "language": "python",
   "name": "python3"
  },
  "language_info": {
   "codemirror_mode": {
    "name": "ipython",
    "version": 3
   },
   "file_extension": ".py",
   "mimetype": "text/x-python",
   "name": "python",
   "nbconvert_exporter": "python",
   "pygments_lexer": "ipython3",
   "version": "3.9.16"
  }
 },
 "nbformat": 4,
 "nbformat_minor": 5
}
